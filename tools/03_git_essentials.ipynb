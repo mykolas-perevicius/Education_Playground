{
 "cells": [
  {
   "cell_type": "markdown",
   "metadata": {},
   "source": [
    "# Git Essentials: Version Control for Developers\n",
    "\n",
    "**Git is the most important tool in modern software development.** Whether you're working solo or on a team of 1000, Git helps you track changes, collaborate, and never lose work.\n",
    "\n",
    "## What You'll Learn\n",
    "- What version control is and why it matters\n",
    "- Core Git concepts (commits, branches, repositories)\n",
    "- Essential Git commands for daily use\n",
    "- Branching and merging workflows\n",
    "- Collaborating with GitHub\n",
    "- Best practices and common workflows\n",
    "- Fixing mistakes and recovering work\n",
    "\n",
    "## 💡 Real-World Analogy\n",
    "Think of Git like **saving your video game progress**:\n",
    "- **Commits** = Save points (you can go back to any save)\n",
    "- **Branches** = Alternate storylines (try different paths without losing main game)\n",
    "- **Merge** = Combining storylines when you find the best path\n",
    "- **Remote** = Cloud save (backup on GitHub/GitLab)\n",
    "\n",
    "---"
   ]
  },
  {
   "cell_type": "markdown",
   "metadata": {},
   "source": [
    "## 1. What is Version Control?\n",
    "\n",
    "**Version Control** tracks changes to your code over time, allowing you to:\n",
    "- See what changed, when, and by whom\n",
    "- Revert to any previous version\n",
    "- Work on features without breaking the main code\n",
    "- Collaborate with others without overwriting each other's work\n",
    "\n",
    "### Why Git?\n",
    "\n",
    "**Before Git:**\n",
    "```\n",
    "project_final.py\n",
    "project_final_v2.py\n",
    "project_final_v2_actually_final.py\n",
    "project_final_v2_actually_final_for_real.py\n",
    "```\n",
    "😱 Sound familiar?\n",
    "\n",
    "**With Git:**\n",
    "```\n",
    "project.py (one file, full history preserved!)\n",
    "```\n",
    "😊 Clean, organized, powerful!\n",
    "\n",
    "### Git vs GitHub\n",
    "\n",
    "**Common confusion:**\n",
    "- **Git** = Version control tool (runs on your computer)\n",
    "- **GitHub** = Hosting service for Git repositories (like Google Drive for code)\n",
    "- **Other hosts**: GitLab, Bitbucket, Gitea\n",
    "\n",
    "Git works perfectly fine without GitHub, but GitHub adds collaboration features!"
   ]
  },
  {
   "cell_type": "markdown",
   "metadata": {},
   "source": [
    "---\n",
    "## 2. Core Git Concepts\n",
    "\n",
    "### Repository (Repo)\n",
    "- A folder tracked by Git\n",
    "- Contains all files + complete history\n",
    "- Lives in hidden `.git` folder\n",
    "\n",
    "### Commit\n",
    "- A **snapshot** of your project at a point in time\n",
    "- Like a save point in a video game\n",
    "- Has a unique ID (SHA hash)\n",
    "- Contains: changes, message, author, timestamp\n",
    "\n",
    "### Branch\n",
    "- An independent line of development\n",
    "- Default branch: `main` (or `master` in older repos)\n",
    "- Create branches for new features, experiments\n",
    "\n",
    "### Working Directory\n",
    "- Your actual files (what you see and edit)\n",
    "\n",
    "### Staging Area (Index)\n",
    "- Files ready to be committed\n",
    "- Lets you choose what to include in next commit\n",
    "\n",
    "### Remote\n",
    "- A version of your repo hosted elsewhere (GitHub, GitLab)\n",
    "- Named `origin` by default\n",
    "\n",
    "### The Three States\n",
    "\n",
    "Files in Git can be in three states:\n",
    "```\n",
    "Working Directory → Staging Area → Repository\n",
    "   (modified)         (staged)      (committed)\n",
    "```"
   ]
  },
  {
   "cell_type": "markdown",
   "metadata": {},
   "source": [
    "---\n",
    "## 3. Setting Up Git\n",
    "\n",
    "### Installation\n",
    "\n",
    "Check if Git is installed:"
   ]
  },
  {
   "cell_type": "code",
   "execution_count": null,
   "metadata": {},
   "outputs": [],
   "source": [
    "!git --version"
   ]
  },
  {
   "cell_type": "markdown",
   "metadata": {},
   "source": [
    "If not installed:\n",
    "- **macOS**: `brew install git` or comes with Xcode\n",
    "- **Linux**: `sudo apt install git` (Ubuntu/Debian) or `sudo yum install git` (RedHat/CentOS)\n",
    "- **Windows**: Download from [git-scm.com](https://git-scm.com)\n",
    "\n",
    "### Initial Configuration\n",
    "\n",
    "Set your identity (do this once):"
   ]
  },
  {
   "cell_type": "code",
   "execution_count": null,
   "metadata": {},
   "outputs": [],
   "source": [
    "# Set your name (appears in commits)\n",
    "!git config --global user.name \"Your Name\"\n",
    "\n",
    "# Set your email\n",
    "!git config --global user.email \"your.email@example.com\"\n",
    "\n",
    "# Set default branch name to 'main'\n",
    "!git config --global init.defaultBranch main\n",
    "\n",
    "# Verify configuration\n",
    "!git config --list | grep user"
   ]
  },
  {
   "cell_type": "markdown",
   "metadata": {},
   "source": [
    "**Pro Tips:**\n",
    "- Use the same email as your GitHub account for attribution\n",
    "- `--global` applies to all repos; omit for per-repo settings"
   ]
  },
  {
   "cell_type": "markdown",
   "metadata": {},
   "source": [
    "---\n",
    "## 4. Creating Your First Repository\n",
    "\n",
    "### Method 1: Start a New Project"
   ]
  },
  {
   "cell_type": "code",
   "execution_count": null,
   "metadata": {},
   "outputs": [],
   "source": [
    "# Create a new project directory\n",
    "!mkdir my_project\n",
    "!cd my_project\n",
    "\n",
    "# Initialize Git repository\n",
    "!git init\n",
    "\n",
    "# Creates a .git folder (hidden)\n",
    "!ls -la"
   ]
  },
  {
   "cell_type": "markdown",
   "metadata": {},
   "source": [
    "### Method 2: Clone an Existing Repository"
   ]
  },
  {
   "cell_type": "code",
   "execution_count": null,
   "metadata": {},
   "outputs": [],
   "source": [
    "# Clone from GitHub (example)\n",
    "!git clone https://github.com/username/repo-name.git\n",
    "\n",
    "# Clone and rename the folder\n",
    "!git clone https://github.com/username/repo-name.git my-folder-name"
   ]
  },
  {
   "cell_type": "markdown",
   "metadata": {},
   "source": [
    "---\n",
    "## 5. Basic Git Workflow\n",
    "\n",
    "The daily Git cycle:\n",
    "```\n",
    "1. Make changes to files\n",
    "2. Stage changes (git add)\n",
    "3. Commit changes (git commit)\n",
    "4. Push to remote (git push)\n",
    "```\n",
    "\n",
    "### Checking Status"
   ]
  },
  {
   "cell_type": "code",
   "execution_count": null,
   "metadata": {},
   "outputs": [],
   "source": [
    "# See what's changed\n",
    "!git status\n",
    "\n",
    "# Short format (more concise)\n",
    "!git status -s"
   ]
  },
  {
   "cell_type": "markdown",
   "metadata": {},
   "source": [
    "**Understanding the output:**\n",
    "```\n",
    "?? file.txt          # Untracked (new file)\n",
    " M file.txt          # Modified (not staged)\n",
    "M  file.txt          # Modified (staged)\n",
    "A  file.txt          # Added (new file, staged)\n",
    "D  file.txt          # Deleted\n",
    "```\n",
    "\n",
    "### Staging Changes"
   ]
  },
  {
   "cell_type": "code",
   "execution_count": null,
   "metadata": {},
   "outputs": [],
   "source": [
    "# Stage a specific file\n",
    "!git add file.txt\n",
    "\n",
    "# Stage multiple files\n",
    "!git add file1.txt file2.txt\n",
    "\n",
    "# Stage all changes in current directory and subdirectories\n",
    "!git add .\n",
    "\n",
    "# Stage all changes in the entire repository\n",
    "!git add -A\n",
    "\n",
    "# Stage all modified and deleted files (not new files)\n",
    "!git add -u\n",
    "\n",
    "# Interactive staging (choose what to stage)\n",
    "!git add -p"
   ]
  },
  {
   "cell_type": "markdown",
   "metadata": {},
   "source": [
    "### Committing Changes"
   ]
  },
  {
   "cell_type": "code",
   "execution_count": null,
   "metadata": {},
   "outputs": [],
   "source": [
    "# Commit with message\n",
    "!git commit -m \"Add user authentication feature\"\n",
    "\n",
    "# Commit with multi-line message\n",
    "!git commit -m \"Add user authentication\" -m \"- Implemented login system\" -m \"- Added password hashing\"\n",
    "\n",
    "# Stage all tracked files and commit\n",
    "!git commit -am \"Quick fix for bug\"\n",
    "\n",
    "# Open editor for detailed commit message\n",
    "!git commit"
   ]
  },
  {
   "cell_type": "markdown",
   "metadata": {},
   "source": [
    "### Writing Good Commit Messages\n",
    "\n",
    "**Bad commits:**\n",
    "```\n",
    "git commit -m \"fix\"\n",
    "git commit -m \"updates\"\n",
    "git commit -m \"asdfasdf\"\n",
    "```\n",
    "\n",
    "**Good commits:**\n",
    "```\n",
    "git commit -m \"Fix login button alignment on mobile\"\n",
    "git commit -m \"Add user profile page with avatar upload\"\n",
    "git commit -m \"Refactor database queries for better performance\"\n",
    "```\n",
    "\n",
    "**Best Practice Format:**\n",
    "```\n",
    "Short summary (50 chars or less)\n",
    "\n",
    "More detailed explanation if needed. Explain what\n",
    "and why, not how (code shows how).\n",
    "\n",
    "- Bullet points are fine\n",
    "- Multiple paragraphs are okay\n",
    "\n",
    "Fixes #123\n",
    "```\n",
    "\n",
    "**Conventional Commits** (popular style):\n",
    "```\n",
    "feat: add user registration\n",
    "fix: resolve login timeout issue\n",
    "docs: update README with setup instructions\n",
    "style: format code with black\n",
    "refactor: simplify authentication logic\n",
    "test: add tests for user model\n",
    "chore: update dependencies\n",
    "```"
   ]
  },
  {
   "cell_type": "markdown",
   "metadata": {},
   "source": [
    "---\n",
    "## 6. Viewing History"
   ]
  },
  {
   "cell_type": "code",
   "execution_count": null,
   "metadata": {},
   "outputs": [],
   "source": [
    "# View commit history\n",
    "!git log\n",
    "\n",
    "# One-line format (compact)\n",
    "!git log --oneline\n",
    "\n",
    "# Show last 5 commits\n",
    "!git log -5\n",
    "\n",
    "# Show commits with diff\n",
    "!git log -p\n",
    "\n",
    "# Show commits with stats\n",
    "!git log --stat\n",
    "\n",
    "# Pretty graph view\n",
    "!git log --oneline --graph --all --decorate\n",
    "\n",
    "# Search commits by message\n",
    "!git log --grep=\"bug fix\"\n",
    "\n",
    "# Show commits by author\n",
    "!git log --author=\"Alice\"\n",
    "\n",
    "# Show commits in date range\n",
    "!git log --since=\"2 weeks ago\" --until=\"1 week ago\""
   ]
  },
  {
   "cell_type": "markdown",
   "metadata": {},
   "source": [
    "### Viewing Changes"
   ]
  },
  {
   "cell_type": "code",
   "execution_count": null,
   "metadata": {},
   "outputs": [],
   "source": [
    "# Show unstaged changes\n",
    "!git diff\n",
    "\n",
    "# Show staged changes\n",
    "!git diff --staged\n",
    "# or\n",
    "!git diff --cached\n",
    "\n",
    "# Show changes in specific file\n",
    "!git diff file.txt\n",
    "\n",
    "# Compare two commits\n",
    "!git diff abc123 def456\n",
    "\n",
    "# Compare branches\n",
    "!git diff main feature-branch\n",
    "\n",
    "# Show who changed each line of a file\n",
    "!git blame file.txt"
   ]
  },
  {
   "cell_type": "markdown",
   "metadata": {},
   "source": [
    "---\n",
    "## 7. Branching and Merging\n",
    "\n",
    "**Branches are Git's killer feature!** They let you work on features without affecting the main code.\n",
    "\n",
    "### Why Branch?\n",
    "- **Isolation**: Work on features independently\n",
    "- **Experimentation**: Try ideas without risk\n",
    "- **Collaboration**: Multiple people work simultaneously\n",
    "- **Organization**: Separate production code from development\n",
    "\n",
    "### Branch Commands"
   ]
  },
  {
   "cell_type": "code",
   "execution_count": null,
   "metadata": {},
   "outputs": [],
   "source": [
    "# List all branches\n",
    "!git branch\n",
    "\n",
    "# List all branches (including remote)\n",
    "!git branch -a\n",
    "\n",
    "# Create a new branch\n",
    "!git branch feature-login\n",
    "\n",
    "# Switch to a branch\n",
    "!git checkout feature-login\n",
    "# or (newer syntax)\n",
    "!git switch feature-login\n",
    "\n",
    "# Create and switch in one command\n",
    "!git checkout -b feature-dashboard\n",
    "# or\n",
    "!git switch -c feature-dashboard\n",
    "\n",
    "# Delete a branch\n",
    "!git branch -d feature-login\n",
    "\n",
    "# Force delete (even if not merged)\n",
    "!git branch -D feature-login\n",
    "\n",
    "# Rename current branch\n",
    "!git branch -m new-name"
   ]
  },
  {
   "cell_type": "markdown",
   "metadata": {},
   "source": [
    "### Merging Branches\n",
    "\n",
    "**Scenario**: You finished work on `feature-login` and want to add it to `main`"
   ]
  },
  {
   "cell_type": "code",
   "execution_count": null,
   "metadata": {},
   "outputs": [],
   "source": [
    "# Switch to the branch you want to merge INTO\n",
    "!git checkout main\n",
    "\n",
    "# Merge feature branch into main\n",
    "!git merge feature-login\n",
    "\n",
    "# If there are conflicts, Git will tell you\n",
    "# Fix conflicts, then:\n",
    "!git add .\n",
    "!git commit -m \"Merge feature-login into main\""
   ]
  },
  {
   "cell_type": "markdown",
   "metadata": {},
   "source": [
    "### Merge Conflicts\n",
    "\n",
    "Conflicts occur when the same lines were changed in both branches.\n",
    "\n",
    "**What a conflict looks like:**\n",
    "```python\n",
    "<<<<<<< HEAD\n",
    "print(\"Hello from main branch\")\n",
    "=======\n",
    "print(\"Hello from feature branch\")\n",
    ">>>>>>> feature-login\n",
    "```\n",
    "\n",
    "**How to resolve:**\n",
    "1. Open the file\n",
    "2. Edit to keep what you want (remove markers)\n",
    "3. `git add` the resolved file\n",
    "4. `git commit` to complete the merge\n",
    "\n",
    "**Tools to help:**\n",
    "```bash\n",
    "git mergetool  # Opens visual merge tool\n",
    "git merge --abort  # Cancel the merge\n",
    "```"
   ]
  },
  {
   "cell_type": "markdown",
   "metadata": {},
   "source": [
    "---\n",
    "## 8. Working with Remotes (GitHub)\n",
    "\n",
    "### Adding a Remote"
   ]
  },
  {
   "cell_type": "code",
   "execution_count": null,
   "metadata": {},
   "outputs": [],
   "source": [
    "# Add remote repository\n",
    "!git remote add origin https://github.com/username/repo.git\n",
    "\n",
    "# View remotes\n",
    "!git remote -v\n",
    "\n",
    "# Remove a remote\n",
    "!git remote remove origin\n",
    "\n",
    "# Rename a remote\n",
    "!git remote rename origin upstream"
   ]
  },
  {
   "cell_type": "markdown",
   "metadata": {},
   "source": [
    "### Pushing Changes"
   ]
  },
  {
   "cell_type": "code",
   "execution_count": null,
   "metadata": {},
   "outputs": [],
   "source": [
    "# Push to remote (first time)\n",
    "!git push -u origin main\n",
    "\n",
    "# Push after first time\n",
    "!git push\n",
    "\n",
    "# Push specific branch\n",
    "!git push origin feature-branch\n",
    "\n",
    "# Push all branches\n",
    "!git push --all\n",
    "\n",
    "# Push tags\n",
    "!git push --tags"
   ]
  },
  {
   "cell_type": "markdown",
   "metadata": {},
   "source": [
    "**What `-u` does:**\n",
    "- Sets upstream tracking\n",
    "- After this, you can just use `git push` and `git pull`\n",
    "\n",
    "### Pulling Changes"
   ]
  },
  {
   "cell_type": "code",
   "execution_count": null,
   "metadata": {},
   "outputs": [],
   "source": [
    "# Fetch + merge in one command\n",
    "!git pull\n",
    "\n",
    "# Pull specific branch\n",
    "!git pull origin main\n",
    "\n",
    "# Pull with rebase (cleaner history)\n",
    "!git pull --rebase"
   ]
  },
  {
   "cell_type": "markdown",
   "metadata": {},
   "source": [
    "### Fetching Changes"
   ]
  },
  {
   "cell_type": "code",
   "execution_count": null,
   "metadata": {},
   "outputs": [],
   "source": [
    "# Download changes without merging\n",
    "!git fetch\n",
    "\n",
    "# Fetch from specific remote\n",
    "!git fetch origin\n",
    "\n",
    "# Fetch all remotes\n",
    "!git fetch --all"
   ]
  },
  {
   "cell_type": "markdown",
   "metadata": {},
   "source": [
    "**`pull` vs `fetch`:**\n",
    "- `fetch`: Downloads changes, doesn't modify your files\n",
    "- `pull`: Downloads changes AND merges them (fetch + merge)"
   ]
  },
  {
   "cell_type": "markdown",
   "metadata": {},
   "source": [
    "---\n",
    "## 9. Undoing Changes\n",
    "\n",
    "### Unstaging Files"
   ]
  },
  {
   "cell_type": "code",
   "execution_count": null,
   "metadata": {},
   "outputs": [],
   "source": [
    "# Unstage a file (keep changes)\n",
    "!git restore --staged file.txt\n",
    "# or (older way)\n",
    "!git reset HEAD file.txt"
   ]
  },
  {
   "cell_type": "markdown",
   "metadata": {},
   "source": [
    "### Discarding Changes"
   ]
  },
  {
   "cell_type": "code",
   "execution_count": null,
   "metadata": {},
   "outputs": [],
   "source": [
    "# Discard changes in working directory\n",
    "!git restore file.txt\n",
    "# or (older way)\n",
    "!git checkout -- file.txt\n",
    "\n",
    "# Discard all changes\n",
    "!git restore .\n",
    "\n",
    "# Remove untracked files (be careful!)\n",
    "!git clean -n  # Dry run (shows what would be deleted)\n",
    "!git clean -f  # Actually delete"
   ]
  },
  {
   "cell_type": "markdown",
   "metadata": {},
   "source": [
    "### Amending Commits"
   ]
  },
  {
   "cell_type": "code",
   "execution_count": null,
   "metadata": {},
   "outputs": [],
   "source": [
    "# Fix the last commit (change message)\n",
    "!git commit --amend -m \"New message\"\n",
    "\n",
    "# Add forgotten files to last commit\n",
    "!git add forgotten_file.txt\n",
    "!git commit --amend --no-edit\n",
    "\n",
    "# Edit last commit in editor\n",
    "!git commit --amend"
   ]
  },
  {
   "cell_type": "markdown",
   "metadata": {},
   "source": [
    "**⚠️ Warning**: Never amend commits that have been pushed to shared branches!\n",
    "\n",
    "### Reverting Commits"
   ]
  },
  {
   "cell_type": "code",
   "execution_count": null,
   "metadata": {},
   "outputs": [],
   "source": [
    "# Undo a commit by creating a new commit\n",
    "!git revert abc123\n",
    "\n",
    "# Revert without committing (stage changes)\n",
    "!git revert --no-commit abc123"
   ]
  },
  {
   "cell_type": "markdown",
   "metadata": {},
   "source": [
    "### Resetting"
   ]
  },
  {
   "cell_type": "code",
   "execution_count": null,
   "metadata": {},
   "outputs": [],
   "source": [
    "# Soft reset (keep changes staged)\n",
    "!git reset --soft HEAD~1\n",
    "\n",
    "# Mixed reset (keep changes unstaged) - DEFAULT\n",
    "!git reset HEAD~1\n",
    "!git reset --mixed HEAD~1\n",
    "\n",
    "# Hard reset (DISCARD all changes) - DANGEROUS!\n",
    "!git reset --hard HEAD~1\n",
    "\n",
    "# Reset to specific commit\n",
    "!git reset --hard abc123"
   ]
  },
  {
   "cell_type": "markdown",
   "metadata": {},
   "source": [
    "**Understanding `HEAD~1`:**\n",
    "- `HEAD` = Current commit\n",
    "- `HEAD~1` = One commit before current\n",
    "- `HEAD~2` = Two commits before current\n",
    "- `HEAD^` = Same as `HEAD~1`"
   ]
  },
  {
   "cell_type": "markdown",
   "metadata": {},
   "source": [
    "---\n",
    "## 10. .gitignore: Ignoring Files\n",
    "\n",
    "Some files shouldn't be tracked (secrets, build files, OS files)\n",
    "\n",
    "### Creating .gitignore"
   ]
  },
  {
   "cell_type": "code",
   "execution_count": null,
   "metadata": {},
   "outputs": [],
   "source": [
    "%%writefile .gitignore\n",
    "# Python\n",
    "__pycache__/\n",
    "*.pyc\n",
    "*.pyo\n",
    ".pytest_cache/\n",
    "venv/\n",
    ".env\n",
    "\n",
    "# IDEs\n",
    ".vscode/\n",
    ".idea/\n",
    "*.swp\n",
    "\n",
    "# OS files\n",
    ".DS_Store\n",
    "Thumbs.db\n",
    "\n",
    "# Build outputs\n",
    "dist/\n",
    "build/\n",
    "*.egg-info/\n",
    "\n",
    "# Logs\n",
    "*.log\n",
    "\n",
    "# Secrets\n",
    ".env\n",
    "secrets.txt\n",
    "credentials.json"
   ]
  },
  {
   "cell_type": "markdown",
   "metadata": {},
   "source": [
    "**Patterns:**\n",
    "```\n",
    "*.txt          # All .txt files\n",
    "!important.txt # Except important.txt\n",
    "folder/        # Entire folder\n",
    "**/*.log       # .log files in all subdirectories\n",
    "```\n",
    "\n",
    "**Get templates:** [github.com/github/gitignore](https://github.com/github/gitignore)"
   ]
  },
  {
   "cell_type": "markdown",
   "metadata": {},
   "source": [
    "---\n",
    "## 11. Common Workflows\n",
    "\n",
    "### Feature Branch Workflow\n",
    "\n",
    "**Most common in teams:**\n",
    "```bash\n",
    "# 1. Update main\n",
    "git checkout main\n",
    "git pull\n",
    "\n",
    "# 2. Create feature branch\n",
    "git checkout -b feature/user-auth\n",
    "\n",
    "# 3. Work on feature\n",
    "# ... make changes ...\n",
    "git add .\n",
    "git commit -m \"Add login endpoint\"\n",
    "\n",
    "# 4. Push feature branch\n",
    "git push -u origin feature/user-auth\n",
    "\n",
    "# 5. Create Pull Request on GitHub\n",
    "\n",
    "# 6. After merge, delete branch\n",
    "git checkout main\n",
    "git pull\n",
    "git branch -d feature/user-auth\n",
    "```\n",
    "\n",
    "### Fork and Pull Request (Open Source)\n",
    "\n",
    "```bash\n",
    "# 1. Fork repo on GitHub\n",
    "\n",
    "# 2. Clone your fork\n",
    "git clone https://github.com/YOUR-USERNAME/repo.git\n",
    "\n",
    "# 3. Add upstream remote\n",
    "git remote add upstream https://github.com/ORIGINAL-OWNER/repo.git\n",
    "\n",
    "# 4. Create branch\n",
    "git checkout -b fix-typo\n",
    "\n",
    "# 5. Make changes, commit, push\n",
    "git push origin fix-typo\n",
    "\n",
    "# 6. Create Pull Request from your fork to original repo\n",
    "\n",
    "# 7. Keep fork updated\n",
    "git fetch upstream\n",
    "git checkout main\n",
    "git merge upstream/main\n",
    "```\n",
    "\n",
    "### Hotfix Workflow\n",
    "\n",
    "**For urgent production fixes:**\n",
    "```bash\n",
    "# Create from main/production\n",
    "git checkout main\n",
    "git checkout -b hotfix/critical-bug\n",
    "\n",
    "# Fix, commit, push\n",
    "git commit -am \"Fix critical security issue\"\n",
    "git push origin hotfix/critical-bug\n",
    "\n",
    "# Merge to main AND develop\n",
    "git checkout main\n",
    "git merge hotfix/critical-bug\n",
    "git checkout develop\n",
    "git merge hotfix/critical-bug\n",
    "```"
   ]
  },
  {
   "cell_type": "markdown",
   "metadata": {},
   "source": [
    "---\n",
    "## 12. Advanced Tips & Tricks\n",
    "\n",
    "### Stashing Changes"
   ]
  },
  {
   "cell_type": "code",
   "execution_count": null,
   "metadata": {},
   "outputs": [],
   "source": [
    "# Save work in progress\n",
    "!git stash\n",
    "\n",
    "# Stash with message\n",
    "!git stash save \"WIP: refactoring auth\"\n",
    "\n",
    "# List stashes\n",
    "!git stash list\n",
    "\n",
    "# Apply most recent stash\n",
    "!git stash pop\n",
    "\n",
    "# Apply specific stash\n",
    "!git stash apply stash@{0}\n",
    "\n",
    "# Delete stash\n",
    "!git stash drop stash@{0}"
   ]
  },
  {
   "cell_type": "markdown",
   "metadata": {},
   "source": [
    "### Tagging Releases"
   ]
  },
  {
   "cell_type": "code",
   "execution_count": null,
   "metadata": {},
   "outputs": [],
   "source": [
    "# Create lightweight tag\n",
    "!git tag v1.0.0\n",
    "\n",
    "# Create annotated tag (recommended)\n",
    "!git tag -a v1.0.0 -m \"Release version 1.0.0\"\n",
    "\n",
    "# List tags\n",
    "!git tag\n",
    "\n",
    "# Push tag to remote\n",
    "!git push origin v1.0.0\n",
    "\n",
    "# Push all tags\n",
    "!git push --tags\n",
    "\n",
    "# Delete tag\n",
    "!git tag -d v1.0.0\n",
    "!git push origin --delete v1.0.0"
   ]
  },
  {
   "cell_type": "markdown",
   "metadata": {},
   "source": [
    "### Rebasing (Advanced)"
   ]
  },
  {
   "cell_type": "code",
   "execution_count": null,
   "metadata": {},
   "outputs": [],
   "source": [
    "# Rebase feature branch onto main\n",
    "!git checkout feature-branch\n",
    "!git rebase main\n",
    "\n",
    "# Interactive rebase (edit history)\n",
    "!git rebase -i HEAD~3\n",
    "\n",
    "# Abort rebase if something goes wrong\n",
    "!git rebase --abort\n",
    "\n",
    "# Continue after resolving conflicts\n",
    "!git rebase --continue"
   ]
  },
  {
   "cell_type": "markdown",
   "metadata": {},
   "source": [
    "**Merge vs Rebase:**\n",
    "- **Merge**: Preserves history, creates merge commits\n",
    "- **Rebase**: Rewrites history, linear timeline\n",
    "\n",
    "**Golden Rule**: Never rebase commits that exist on shared branches!"
   ]
  },
  {
   "cell_type": "markdown",
   "metadata": {},
   "source": [
    "### Useful Aliases"
   ]
  },
  {
   "cell_type": "code",
   "execution_count": null,
   "metadata": {},
   "outputs": [],
   "source": [
    "# Set up useful shortcuts\n",
    "!git config --global alias.st status\n",
    "!git config --global alias.co checkout\n",
    "!git config --global alias.br branch\n",
    "!git config --global alias.ci commit\n",
    "!git config --global alias.unstage 'reset HEAD --'\n",
    "!git config --global alias.last 'log -1 HEAD'\n",
    "!git config --global alias.lg \"log --oneline --graph --all --decorate\"\n",
    "\n",
    "# Now you can use:\n",
    "# git st  instead of  git status\n",
    "# git co  instead of  git checkout\n",
    "# git lg  instead of  git log --oneline --graph --all --decorate"
   ]
  },
  {
   "cell_type": "markdown",
   "metadata": {},
   "source": [
    "---\n",
    "## 13. Git Best Practices\n",
    "\n",
    "### Commit Often, Push Regularly\n",
    "- Small, focused commits are better than large ones\n",
    "- Commit working code, not broken code\n",
    "- Push at least daily to backup work\n",
    "\n",
    "### Write Meaningful Commit Messages\n",
    "```\n",
    "✅ Fix: Resolve login timeout on slow networks\n",
    "✅ Add: User profile page with avatar upload\n",
    "✅ Refactor: Simplify database connection logic\n",
    "\n",
    "❌ fix stuff\n",
    "❌ updates\n",
    "❌ asdf\n",
    "```\n",
    "\n",
    "### Use Branches\n",
    "- `main` should always be stable\n",
    "- Create branches for features, bugs, experiments\n",
    "- Delete branches after merging\n",
    "\n",
    "### Pull Before Push\n",
    "```bash\n",
    "git pull  # Get latest changes\n",
    "# ... resolve any conflicts ...\n",
    "git push  # Upload your changes\n",
    "```\n",
    "\n",
    "### Never Commit Secrets\n",
    "- No passwords, API keys, tokens in code\n",
    "- Use `.env` files (add to `.gitignore`)\n",
    "- Use secret management tools in production\n",
    "\n",
    "### Review Before Committing\n",
    "```bash\n",
    "git diff          # What changed?\n",
    "git status        # What will be committed?\n",
    "git commit        # Commit with confidence\n",
    "```\n",
    "\n",
    "### Use Pull Requests\n",
    "- Code review catches bugs\n",
    "- Knowledge sharing in teams\n",
    "- Discussion of implementation\n",
    "- Required for most professional teams"
   ]
  },
  {
   "cell_type": "markdown",
   "metadata": {},
   "source": [
    "---\n",
    "## 14. Troubleshooting Common Issues\n",
    "\n",
    "### \"I committed to the wrong branch!\"\n",
    "```bash\n",
    "# Move commit to correct branch\n",
    "git log  # Copy commit hash\n",
    "git checkout correct-branch\n",
    "git cherry-pick abc123\n",
    "git checkout wrong-branch\n",
    "git reset --hard HEAD~1\n",
    "```\n",
    "\n",
    "### \"I need to undo the last commit!\"\n",
    "```bash\n",
    "# Keep changes\n",
    "git reset --soft HEAD~1\n",
    "\n",
    "# Discard changes\n",
    "git reset --hard HEAD~1\n",
    "```\n",
    "\n",
    "### \"I have merge conflicts!\"\n",
    "```bash\n",
    "# 1. See which files conflict\n",
    "git status\n",
    "\n",
    "# 2. Open conflicted files, resolve manually\n",
    "\n",
    "# 3. Stage resolved files\n",
    "git add resolved_file.txt\n",
    "\n",
    "# 4. Complete merge\n",
    "git commit\n",
    "\n",
    "# Or abort the merge\n",
    "git merge --abort\n",
    "```\n",
    "\n",
    "### \"I accidentally deleted a file!\"\n",
    "```bash\n",
    "# If not yet committed\n",
    "git restore file.txt\n",
    "\n",
    "# If already committed\n",
    "git checkout HEAD~1 -- file.txt\n",
    "```\n",
    "\n",
    "### \"Help! I broke everything!\"\n",
    "```bash\n",
    "# The time machine - see all actions\n",
    "git reflog\n",
    "\n",
    "# Go back to before you broke it\n",
    "git reset --hard abc123\n",
    "```"
   ]
  },
  {
   "cell_type": "markdown",
   "metadata": {},
   "source": [
    "---\n",
    "## 📝 Exercises\n",
    "\n",
    "### Exercise 1: First Repository\n",
    "1. Create a new folder for a project\n",
    "2. Initialize a Git repository\n",
    "3. Create a `README.md` file\n",
    "4. Add and commit the file\n",
    "5. View the commit history"
   ]
  },
  {
   "cell_type": "code",
   "execution_count": null,
   "metadata": {},
   "outputs": [],
   "source": [
    "# Your commands here\n"
   ]
  },
  {
   "cell_type": "markdown",
   "metadata": {},
   "source": [
    "### Exercise 2: Branching Practice\n",
    "1. Create a branch called `feature-test`\n",
    "2. Switch to that branch\n",
    "3. Create a file `test.txt`\n",
    "4. Commit the file\n",
    "5. Switch back to `main`\n",
    "6. Merge `feature-test` into `main`\n",
    "7. Delete the feature branch"
   ]
  },
  {
   "cell_type": "code",
   "execution_count": null,
   "metadata": {},
   "outputs": [],
   "source": [
    "# Your commands here\n"
   ]
  },
  {
   "cell_type": "markdown",
   "metadata": {},
   "source": [
    "### Exercise 3: GitHub Workflow\n",
    "1. Create a new repository on GitHub\n",
    "2. Connect your local repo to GitHub\n",
    "3. Push your commits\n",
    "4. Make a change locally\n",
    "5. Commit and push again"
   ]
  },
  {
   "cell_type": "code",
   "execution_count": null,
   "metadata": {},
   "outputs": [],
   "source": [
    "# Your commands here\n"
   ]
  },
  {
   "cell_type": "markdown",
   "metadata": {},
   "source": [
    "### Exercise 4: Undoing Mistakes\n",
    "1. Make a change to a file\n",
    "2. Stage it with `git add`\n",
    "3. Unstage it\n",
    "4. Make another change\n",
    "5. Discard the change"
   ]
  },
  {
   "cell_type": "code",
   "execution_count": null,
   "metadata": {},
   "outputs": [],
   "source": [
    "# Your commands here\n"
   ]
  },
  {
   "cell_type": "markdown",
   "metadata": {},
   "source": [
    "### Exercise 5: .gitignore Practice\n",
    "1. Create a `.gitignore` file\n",
    "2. Add patterns to ignore `.log` files and a `secrets/` folder\n",
    "3. Create a test `.log` file\n",
    "4. Run `git status` and verify it's ignored"
   ]
  },
  {
   "cell_type": "code",
   "execution_count": null,
   "metadata": {},
   "outputs": [],
   "source": [
    "# Your commands here\n"
   ]
  },
  {
   "cell_type": "markdown",
   "metadata": {},
   "source": [
    "---\n",
    "## ✅ Self-Check Quiz\n",
    "\n",
    "1. What is version control?\n",
    "2. What's the difference between Git and GitHub?\n",
    "3. What is a commit?\n",
    "4. What is a branch?\n",
    "5. What are the three states in Git?\n",
    "6. What does `git add` do?\n",
    "7. What's the difference between `git pull` and `git fetch`?\n",
    "8. What is a merge conflict?\n",
    "9. Why should you never commit secrets?\n",
    "10. What does `git stash` do?\n",
    "\n",
    "---\n",
    "\n",
    "## 🎯 Key Takeaways\n",
    "\n",
    "- **Git** tracks changes to code over time\n",
    "- **Commits** are snapshots of your project\n",
    "- **Branches** let you work on features independently\n",
    "- **Three states**: Working Directory → Staging → Repository\n",
    "- **Basic workflow**: `add` → `commit` → `push`\n",
    "- **Branches** enable parallel development\n",
    "- **Merge** combines branches\n",
    "- **Remotes** (GitHub) backup and enable collaboration\n",
    "- **`.gitignore`** prevents committing unwanted files\n",
    "- **Good commits** are small, focused, and well-described\n",
    "\n",
    "---\n",
    "\n",
    "## 🚀 Next Steps\n",
    "\n",
    "**You now know Git!** This is a career-changing skill.\n",
    "\n",
    "**Practice by:**\n",
    "- Using Git for ALL your projects\n",
    "- Contributing to open source on GitHub\n",
    "- Reading other people's code and commits\n",
    "\n",
    "**Continue learning:**\n",
    "- **Shell Scripting**: `tools/02_shell_scripting.ipynb`\n",
    "- **Text Editors**: `tools/04_text_editors.ipynb`\n",
    "- **Debugging**: `tools/06_debugging_profiling.ipynb`\n",
    "\n",
    "---\n",
    "\n",
    "## 💡 Pro Tips\n",
    "\n",
    "1. **Commit early, commit often** - Small commits are easier to understand\n",
    "2. **Write good messages** - Future you will thank you\n",
    "3. **Branch for everything** - main should always work\n",
    "4. **Pull before push** - Avoid conflicts\n",
    "5. **Use .gitignore** - Never commit secrets or build files\n",
    "6. **Learn to read diffs** - Understand what changed\n",
    "7. **Don't fear mistakes** - Git has many undo mechanisms\n",
    "8. **Use Pull Requests** - Code review makes better code\n",
    "\n",
    "---\n",
    "\n",
    "## 📚 Resources\n",
    "\n",
    "**Official Documentation:**\n",
    "- [Git Official Docs](https://git-scm.com/doc)\n",
    "- [Pro Git Book (Free)](https://git-scm.com/book)\n",
    "\n",
    "**Interactive Learning:**\n",
    "- [Learn Git Branching](https://learngitbranching.js.org/)\n",
    "- [GitHub Skills](https://skills.github.com/)\n",
    "\n",
    "**Cheat Sheets:**\n",
    "- [GitHub Git Cheat Sheet](https://education.github.com/git-cheat-sheet-education.pdf)\n",
    "- [Atlassian Git Tutorial](https://www.atlassian.com/git/tutorials)\n",
    "\n",
    "**Visual Tools:**\n",
    "- [GitKraken](https://www.gitkraken.com/) - Visual Git client\n",
    "- [GitHub Desktop](https://desktop.github.com/) - Simple Git GUI\n",
    "\n",
    "---\n",
    "\n",
    "**Git is not optional - it's essential!** Every professional developer uses it. Master Git and you'll never lose work again. 🎉"
   ]
  }
 ],
 "metadata": {
  "kernelspec": {
   "display_name": "Python 3",
   "language": "python",
   "name": "python3"
  },
  "language_info": {
   "name": "python",
   "version": "3.10.0"
  }
 },
 "nbformat": 4,
 "nbformat_minor": 2
}
