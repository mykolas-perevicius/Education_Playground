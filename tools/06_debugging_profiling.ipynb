{
 "cells": [
  {
   "cell_type": "markdown",
   "metadata": {},
   "source": [
    "# Debugging and Profiling: Finding and Fixing Bugs\n",
    "\n",
    "**Debugging is a superpower.** Professional developers spend 50%+ of their time debugging. Learning to debug effectively will make you 10x more productive.\n",
    "\n",
    "## What You'll Learn\n",
    "- Debugging mindset and strategies\n",
    "- Using print statements effectively\n",
    "- Python's built-in debugger (pdb)\n",
    "- IDE debugging tools\n",
    "- Reading stack traces\n",
    "- Performance profiling\n",
    "- Memory profiling\n",
    "- Best practices for bug-free code\n",
    "\n",
    "## 💡 Real-World Analogy\n",
    "Debugging is like being a **detective**:\n",
    "- 🔍 **Gather clues** (error messages, logs)\n",
    "- 🧪 **Form hypotheses** (what might be wrong?)\n",
    "- 🔬 **Test theories** (add print statements, use debugger)\n",
    "- ✅ **Solve the case** (fix the bug!)\n",
    "\n",
    "---"
   ]
  },
  {
   "cell_type": "markdown",
   "metadata": {},
   "source": [
    "## 1. The Debugging Mindset\n",
    "\n",
    "### Accept That Bugs Are Normal\n",
    "- **Everyone writes bugs** - even senior engineers!\n",
    "- Bugs are learning opportunities\n",
    "- The best developers are the best debuggers\n",
    "\n",
    "### The Scientific Method\n",
    "1. **Observe** - What's happening? What's expected?\n",
    "2. **Hypothesize** - What could cause this?\n",
    "3. **Test** - Add logging, use debugger\n",
    "4. **Analyze** - Were you right? If not, new hypothesis!\n",
    "5. **Fix** - Apply the solution\n",
    "6. **Verify** - Does it work now?\n",
    "\n",
    "### Common Debugging Mistakes\n",
    "❌ **Random code changes** - \"Maybe if I change this...\"\n",
    "❌ **Assuming** - \"This can't be the problem\"\n",
    "❌ **Not reading error messages** - They tell you exactly what's wrong!\n",
    "❌ **Debugging tired** - Take breaks!\n",
    "\n",
    "✅ **Read error messages carefully**\n",
    "✅ **Reproduce the bug consistently**\n",
    "✅ **Isolate the problem** - Binary search through code\n",
    "✅ **Use version control** - Revert if needed\n",
    "✅ **Rubber duck debugging** - Explain to someone/something"
   ]
  },
  {
   "cell_type": "markdown",
   "metadata": {},
   "source": [
    "---\n",
    "## 2. Reading Error Messages\n",
    "\n",
    "**Error messages are your friends!** They tell you exactly what's wrong.\n",
    "\n",
    "### Anatomy of a Stack Trace"
   ]
  },
  {
   "cell_type": "code",
   "execution_count": null,
   "metadata": {},
   "outputs": [],
   "source": [
    "def divide_numbers(a, b):\n",
    "    return a / b\n",
    "\n",
    "def calculate_average(numbers):\n",
    "    total = sum(numbers)\n",
    "    count = len(numbers)\n",
    "    return divide_numbers(total, count)\n",
    "\n",
    "# This will error!\n",
    "result = calculate_average([])"
   ]
  },
  {
   "cell_type": "markdown",
   "metadata": {},
   "source": [
    "**Reading the traceback:**\n",
    "```\n",
    "Traceback (most recent call last):              ← Start here\n",
    "  File \"script.py\", line 10, in <module>        ← Where you called it\n",
    "    result = calculate_average([])              ← The line that failed\n",
    "  File \"script.py\", line 7, in calculate_average\n",
    "    return divide_numbers(total, count)         ← Function that called the error\n",
    "  File \"script.py\", line 2, in divide_numbers\n",
    "    return a / b                                ← The actual error location\n",
    "ZeroDivisionError: division by zero             ← What went wrong\n",
    "```\n",
    "\n",
    "**How to read it:**\n",
    "1. **Bottom**: The actual error type and message\n",
    "2. **Work upward**: See the call stack\n",
    "3. **Find YOUR code**: Focus on files you wrote\n",
    "\n",
    "### Common Python Exceptions"
   ]
  },
  {
   "cell_type": "code",
   "execution_count": null,
   "metadata": {},
   "outputs": [],
   "source": [
    "# SyntaxError - Code won't even run\n",
    "# if x > 5  # Missing colon!\n",
    "\n",
    "# NameError - Variable doesn't exist\n",
    "# print(undefined_variable)\n",
    "\n",
    "# TypeError - Wrong type for operation\n",
    "# result = \"hello\" + 5\n",
    "\n",
    "# AttributeError - Object doesn't have that attribute\n",
    "# numbers = [1, 2, 3]\n",
    "# numbers.append_item(4)  # Should be append()\n",
    "\n",
    "# IndexError - List index out of range\n",
    "# numbers = [1, 2, 3]\n",
    "# print(numbers[10])\n",
    "\n",
    "# KeyError - Dictionary key doesn't exist\n",
    "# person = {\"name\": \"Alice\"}\n",
    "# print(person[\"age\"])\n",
    "\n",
    "# ValueError - Right type, wrong value\n",
    "# number = int(\"hello\")\n",
    "\n",
    "# ZeroDivisionError - Division by zero\n",
    "# result = 10 / 0\n",
    "\n",
    "# FileNotFoundError - File doesn't exist\n",
    "# with open(\"nonexistent.txt\") as f:\n",
    "#     content = f.read()\n",
    "\n",
    "print(\"All errors are commented out to prevent crashes\")"
   ]
  },
  {
   "cell_type": "markdown",
   "metadata": {},
   "source": [
    "---\n",
    "## 3. Print Debugging\n",
    "\n",
    "**The most common debugging technique!** Simple but effective.\n",
    "\n",
    "### Basic Print Debugging"
   ]
  },
  {
   "cell_type": "code",
   "execution_count": null,
   "metadata": {},
   "outputs": [],
   "source": [
    "def buggy_function(data):\n",
    "    print(f\"DEBUG: Input data = {data}\")  # What did we receive?\n",
    "    \n",
    "    result = []\n",
    "    for item in data:\n",
    "        print(f\"DEBUG: Processing item = {item}\")  # Track progress\n",
    "        \n",
    "        if item > 0:\n",
    "            value = item * 2\n",
    "            print(f\"DEBUG: Calculated value = {value}\")  # Check calculation\n",
    "            result.append(value)\n",
    "    \n",
    "    print(f\"DEBUG: Final result = {result}\")  # What are we returning?\n",
    "    return result\n",
    "\n",
    "buggy_function([1, -2, 3, 0, 5])"
   ]
  },
  {
   "cell_type": "markdown",
   "metadata": {},
   "source": [
    "### Better Print Debugging"
   ]
  },
  {
   "cell_type": "code",
   "execution_count": null,
   "metadata": {},
   "outputs": [],
   "source": [
    "import sys\n",
    "\n",
    "def debug_print(*args, **kwargs):\n",
    "    \"\"\"\n",
    "    Enhanced print for debugging.\n",
    "    Prints to stderr (won't interfere with normal output)\n",
    "    \"\"\"\n",
    "    print(\"[DEBUG]\", *args, **kwargs, file=sys.stderr)\n",
    "\n",
    "def calculate(x, y):\n",
    "    debug_print(f\"calculate called with x={x}, y={y}\")\n",
    "    result = x + y\n",
    "    debug_print(f\"result = {result}\")\n",
    "    return result\n",
    "\n",
    "calculate(5, 3)"
   ]
  },
  {
   "cell_type": "markdown",
   "metadata": {},
   "source": [
    "### Using f-strings for Debugging (Python 3.8+)"
   ]
  },
  {
   "cell_type": "code",
   "execution_count": null,
   "metadata": {},
   "outputs": [],
   "source": [
    "x = 42\n",
    "y = \"hello\"\n",
    "z = [1, 2, 3]\n",
    "\n",
    "# The = sign shows variable name AND value!\n",
    "print(f\"{x=}\")\n",
    "print(f\"{y=}\")\n",
    "print(f\"{z=}\")\n",
    "\n",
    "# Works with expressions too\n",
    "print(f\"{len(z)=}\")\n",
    "print(f\"{x * 2=}\")"
   ]
  },
  {
   "cell_type": "markdown",
   "metadata": {},
   "source": [
    "### Conditional Debug Prints"
   ]
  },
  {
   "cell_type": "code",
   "execution_count": null,
   "metadata": {},
   "outputs": [],
   "source": [
    "DEBUG = True  # Toggle this to enable/disable debug output\n",
    "\n",
    "def debug_log(message):\n",
    "    if DEBUG:\n",
    "        print(f\"[DEBUG] {message}\")\n",
    "\n",
    "def process_data(data):\n",
    "    debug_log(f\"Starting processing with {len(data)} items\")\n",
    "    \n",
    "    for i, item in enumerate(data):\n",
    "        debug_log(f\"Item {i}: {item}\")\n",
    "        # ... processing ...\n",
    "    \n",
    "    debug_log(\"Processing complete\")\n",
    "\n",
    "process_data([1, 2, 3])"
   ]
  },
  {
   "cell_type": "markdown",
   "metadata": {},
   "source": [
    "---\n",
    "## 4. Python Debugger (pdb)\n",
    "\n",
    "**pdb** is Python's built-in interactive debugger. It's like pausing time and inspecting everything!\n",
    "\n",
    "### Basic pdb Usage"
   ]
  },
  {
   "cell_type": "code",
   "execution_count": null,
   "metadata": {},
   "outputs": [],
   "source": [
    "import pdb\n",
    "\n",
    "def calculate_total(prices):\n",
    "    total = 0\n",
    "    \n",
    "    pdb.set_trace()  # ← Execution pauses here!\n",
    "    \n",
    "    for price in prices:\n",
    "        total += price\n",
    "    \n",
    "    return total\n",
    "\n",
    "# Uncomment to try (won't work well in notebook):\n",
    "# calculate_total([10, 20, 30])"
   ]
  },
  {
   "cell_type": "markdown",
   "metadata": {},
   "source": [
    "### pdb Commands\n",
    "\n",
    "When pdb pauses, you get an interactive prompt:\n",
    "\n",
    "```\n",
    "(Pdb) ?\n",
    "```\n",
    "\n",
    "**Navigation:**\n",
    "- `n` (next) - Execute current line, move to next\n",
    "- `s` (step) - Step INTO function calls\n",
    "- `c` (continue) - Continue until next breakpoint\n",
    "- `r` (return) - Continue until current function returns\n",
    "- `q` (quit) - Exit debugger\n",
    "\n",
    "**Inspection:**\n",
    "- `p variable` - Print variable value\n",
    "- `pp variable` - Pretty-print variable\n",
    "- `l` (list) - Show current code context\n",
    "- `ll` (longlist) - Show whole function\n",
    "- `w` (where) - Show stack trace\n",
    "- `a` (args) - Show function arguments\n",
    "\n",
    "**Execution:**\n",
    "- Any Python code! - `total = 100`, `len(prices)`, etc.\n",
    "- `!` prefix for commands: `!n = 5` (set n to 5, not next)\n",
    "\n",
    "**Breakpoints:**\n",
    "- `b line_number` - Set breakpoint at line\n",
    "- `b function_name` - Break when function is called\n",
    "- `b file.py:20` - Break at line 20 in file.py\n",
    "- `cl` (clear) - Remove all breakpoints\n",
    "\n",
    "### Breakpoint() - Modern Way (Python 3.7+)"
   ]
  },
  {
   "cell_type": "code",
   "execution_count": null,
   "metadata": {},
   "outputs": [],
   "source": [
    "def process_user_data(users):\n",
    "    results = []\n",
    "    \n",
    "    for user in users:\n",
    "        # Modern way - cleaner than pdb.set_trace()\n",
    "        breakpoint()  # ← Pauses here\n",
    "        \n",
    "        name = user.get(\"name\", \"Unknown\")\n",
    "        age = user.get(\"age\", 0)\n",
    "        results.append(f\"{name} is {age} years old\")\n",
    "    \n",
    "    return results\n",
    "\n",
    "# Uncomment to try:\n",
    "# process_user_data([{\"name\": \"Alice\", \"age\": 30}])"
   ]
  },
  {
   "cell_type": "markdown",
   "metadata": {},
   "source": [
    "### Post-Mortem Debugging"
   ]
  },
  {
   "cell_type": "code",
   "execution_count": null,
   "metadata": {},
   "outputs": [],
   "source": [
    "import pdb\n",
    "\n",
    "def buggy_code():\n",
    "    x = 10\n",
    "    y = 0\n",
    "    return x / y  # This will crash!\n",
    "\n",
    "try:\n",
    "    buggy_code()\n",
    "except Exception:\n",
    "    # Enter debugger at the point of exception\n",
    "    pdb.post_mortem()\n",
    "    # Now you can inspect variables at crash time!"
   ]
  },
  {
   "cell_type": "markdown",
   "metadata": {},
   "source": [
    "---\n",
    "## 5. Logging\n",
    "\n",
    "**Better than print statements** for production code!\n",
    "\n",
    "### Basic Logging"
   ]
  },
  {
   "cell_type": "code",
   "execution_count": null,
   "metadata": {},
   "outputs": [],
   "source": [
    "import logging\n",
    "\n",
    "# Configure logging\n",
    "logging.basicConfig(\n",
    "    level=logging.DEBUG,\n",
    "    format='%(asctime)s - %(name)s - %(levelname)s - %(message)s'\n",
    ")\n",
    "\n",
    "logger = logging.getLogger(__name__)\n",
    "\n",
    "def divide(a, b):\n",
    "    logger.debug(f\"divide called with a={a}, b={b}\")\n",
    "    \n",
    "    if b == 0:\n",
    "        logger.error(\"Attempted division by zero!\")\n",
    "        return None\n",
    "    \n",
    "    result = a / b\n",
    "    logger.info(f\"Result: {result}\")\n",
    "    return result\n",
    "\n",
    "divide(10, 2)\n",
    "divide(10, 0)"
   ]
  },
  {
   "cell_type": "markdown",
   "metadata": {},
   "source": [
    "### Log Levels\n",
    "\n",
    "```python\n",
    "logger.debug(\"Detailed info for debugging\")      # DEBUG\n",
    "logger.info(\"General information\")               # INFO\n",
    "logger.warning(\"Warning - something unexpected\")  # WARNING\n",
    "logger.error(\"Error occurred\")                   # ERROR\n",
    "logger.critical(\"Critical failure!\")             # CRITICAL\n",
    "```\n",
    "\n",
    "**When to use:**\n",
    "- **DEBUG**: Detailed diagnostic info\n",
    "- **INFO**: Confirm things are working\n",
    "- **WARNING**: Something unexpected but handled\n",
    "- **ERROR**: Serious problem, function failed\n",
    "- **CRITICAL**: Program may crash\n",
    "\n",
    "### Logging to File"
   ]
  },
  {
   "cell_type": "code",
   "execution_count": null,
   "metadata": {},
   "outputs": [],
   "source": [
    "import logging\n",
    "\n",
    "# Log to file instead of console\n",
    "logging.basicConfig(\n",
    "    filename='app.log',\n",
    "    level=logging.DEBUG,\n",
    "    format='%(asctime)s - %(levelname)s - %(message)s'\n",
    ")\n",
    "\n",
    "logging.info(\"Application started\")\n",
    "logging.debug(\"Processing user data\")\n",
    "logging.warning(\"Low memory\")\n",
    "logging.error(\"Failed to connect to database\")"
   ]
  },
  {
   "cell_type": "markdown",
   "metadata": {},
   "source": [
    "---\n",
    "## 6. Assert Statements\n",
    "\n",
    "**Catch bugs early** by asserting what should be true."
   ]
  },
  {
   "cell_type": "code",
   "execution_count": null,
   "metadata": {},
   "outputs": [],
   "source": [
    "def calculate_average(numbers):\n",
    "    # Assertions help catch bugs during development\n",
    "    assert len(numbers) > 0, \"Cannot calculate average of empty list\"\n",
    "    assert all(isinstance(n, (int, float)) for n in numbers), \"All items must be numbers\"\n",
    "    \n",
    "    return sum(numbers) / len(numbers)\n",
    "\n",
    "# This works\n",
    "print(calculate_average([1, 2, 3]))\n",
    "\n",
    "# These will fail with helpful messages\n",
    "# calculate_average([])  # AssertionError: Cannot calculate average of empty list\n",
    "# calculate_average([1, \"two\", 3])  # AssertionError: All items must be numbers"
   ]
  },
  {
   "cell_type": "markdown",
   "metadata": {},
   "source": [
    "**Best Practices:**\n",
    "- Use for **internal checks** (sanity checks)\n",
    "- NOT for **user input validation** (use exceptions)\n",
    "- Can be disabled with `python -O` (optimize flag)\n",
    "\n",
    "---\n",
    "## 7. Performance Profiling\n",
    "\n",
    "**\"Premature optimization is the root of all evil\"** - Donald Knuth\n",
    "\n",
    "But when you DO need to optimize, profile first!\n",
    "\n",
    "### Timing Code - Simple Way"
   ]
  },
  {
   "cell_type": "code",
   "execution_count": null,
   "metadata": {},
   "outputs": [],
   "source": [
    "import time\n",
    "\n",
    "def slow_function():\n",
    "    total = 0\n",
    "    for i in range(1000000):\n",
    "        total += i\n",
    "    return total\n",
    "\n",
    "# Time it\n",
    "start = time.time()\n",
    "result = slow_function()\n",
    "end = time.time()\n",
    "\n",
    "print(f\"Took {end - start:.4f} seconds\")"
   ]
  },
  {
   "cell_type": "markdown",
   "metadata": {},
   "source": [
    "### Using timeit Module"
   ]
  },
  {
   "cell_type": "code",
   "execution_count": null,
   "metadata": {},
   "outputs": [],
   "source": [
    "import timeit\n",
    "\n",
    "# Time a snippet (runs multiple times for accuracy)\n",
    "time_taken = timeit.timeit(\n",
    "    stmt=\"sum(range(1000))\",\n",
    "    number=10000  # Run 10000 times\n",
    ")\n",
    "\n",
    "print(f\"Average time: {time_taken / 10000:.6f} seconds\")\n",
    "\n",
    "# Compare two approaches\n",
    "approach1 = timeit.timeit(\"[i**2 for i in range(100)]\", number=10000)\n",
    "approach2 = timeit.timeit(\"list(map(lambda x: x**2, range(100)))\", number=10000)\n",
    "\n",
    "print(f\"List comprehension: {approach1:.6f}s\")\n",
    "print(f\"Map/lambda: {approach2:.6f}s\")\n",
    "print(f\"Winner: {'List comprehension' if approach1 < approach2 else 'Map/lambda'}\")"
   ]
  },
  {
   "cell_type": "markdown",
   "metadata": {},
   "source": [
    "### Jupyter Magic Commands"
   ]
  },
  {
   "cell_type": "code",
   "execution_count": null,
   "metadata": {},
   "outputs": [],
   "source": [
    "# Time a single line\n",
    "%timeit sum(range(1000))\n",
    "\n",
    "# Time a cell\n",
    "%%timeit\n",
    "total = 0\n",
    "for i in range(1000):\n",
    "    total += i"
   ]
  },
  {
   "cell_type": "markdown",
   "metadata": {},
   "source": [
    "### cProfile - Detailed Profiling"
   ]
  },
  {
   "cell_type": "code",
   "execution_count": null,
   "metadata": {},
   "outputs": [],
   "source": [
    "import cProfile\n",
    "import pstats\n",
    "from io import StringIO\n",
    "\n",
    "def fibonacci(n):\n",
    "    if n <= 1:\n",
    "        return n\n",
    "    return fibonacci(n-1) + fibonacci(n-2)\n",
    "\n",
    "def calculate_fibs():\n",
    "    results = []\n",
    "    for i in range(20):\n",
    "        results.append(fibonacci(i))\n",
    "    return results\n",
    "\n",
    "# Profile the function\n",
    "profiler = cProfile.Profile()\n",
    "profiler.enable()\n",
    "\n",
    "calculate_fibs()\n",
    "\n",
    "profiler.disable()\n",
    "\n",
    "# Print stats\n",
    "s = StringIO()\n",
    "ps = pstats.Stats(profiler, stream=s).sort_stats('cumulative')\n",
    "ps.print_stats(10)  # Top 10 functions\n",
    "print(s.getvalue())"
   ]
  },
  {
   "cell_type": "markdown",
   "metadata": {},
   "source": [
    "**Reading cProfile output:**\n",
    "- `ncalls` - Number of times called\n",
    "- `tottime` - Total time in this function (excluding sub-calls)\n",
    "- `cumtime` - Total time including sub-calls\n",
    "- Focus on functions with high `cumtime`!\n",
    "\n",
    "### line_profiler - Line-by-Line Profiling"
   ]
  },
  {
   "cell_type": "code",
   "execution_count": null,
   "metadata": {},
   "outputs": [],
   "source": [
    "# Install: pip install line_profiler\n",
    "\n",
    "# Use with @profile decorator\n",
    "# Then run: kernprof -l -v script.py\n",
    "\n",
    "# Example:\n",
    "# @profile\n",
    "# def slow_function():\n",
    "#     for i in range(1000):\n",
    "#         x = i ** 2\n",
    "#     return x"
   ]
  },
  {
   "cell_type": "markdown",
   "metadata": {},
   "source": [
    "---\n",
    "## 8. Memory Profiling\n",
    "\n",
    "### Checking Memory Usage"
   ]
  },
  {
   "cell_type": "code",
   "execution_count": null,
   "metadata": {},
   "outputs": [],
   "source": [
    "import sys\n",
    "\n",
    "# Size of objects\n",
    "numbers = list(range(1000))\n",
    "print(f\"List size: {sys.getsizeof(numbers)} bytes\")\n",
    "\n",
    "text = \"Hello\" * 1000\n",
    "print(f\"String size: {sys.getsizeof(text)} bytes\")\n",
    "\n",
    "# Memory-efficient alternatives\n",
    "import array\n",
    "efficient_numbers = array.array('i', range(1000))\n",
    "print(f\"Array size: {sys.getsizeof(efficient_numbers)} bytes\")\n",
    "print(f\"Savings: {sys.getsizeof(numbers) - sys.getsizeof(efficient_numbers)} bytes\")"
   ]
  },
  {
   "cell_type": "markdown",
   "metadata": {},
   "source": [
    "### memory_profiler"
   ]
  },
  {
   "cell_type": "code",
   "execution_count": null,
   "metadata": {},
   "outputs": [],
   "source": [
    "# Install: pip install memory_profiler\n",
    "\n",
    "# Use with @profile decorator\n",
    "# Run: python -m memory_profiler script.py\n",
    "\n",
    "# Example:\n",
    "# @profile\n",
    "# def memory_hog():\n",
    "#     big_list = [0] * (10 ** 6)\n",
    "#     return sum(big_list)"
   ]
  },
  {
   "cell_type": "markdown",
   "metadata": {},
   "source": [
    "---\n",
    "## 9. Debugging Strategies\n",
    "\n",
    "### Binary Search Debugging\n",
    "\n",
    "**Problem:** Code worked yesterday, broken today. 1000 lines changed.\n",
    "\n",
    "**Solution:**\n",
    "1. Comment out half the code\n",
    "2. Does it work? Bug is in commented half. Uncomment it.\n",
    "3. Repeat until you find the buggy line\n",
    "\n",
    "With Git:\n",
    "```bash\n",
    "git bisect start\n",
    "git bisect bad           # Current commit is broken\n",
    "git bisect good abc123   # This old commit worked\n",
    "# Git checks out middle commit\n",
    "# Test it...\n",
    "git bisect good  # or bad\n",
    "# Repeat until bug is found\n",
    "```\n",
    "\n",
    "### Rubber Duck Debugging\n",
    "\n",
    "1. Get a rubber duck (or colleague, or pet)\n",
    "2. Explain your code line by line\n",
    "3. Often you'll spot the bug while explaining!\n",
    "\n",
    "**Why it works:** Forces you to think clearly about what code does\n",
    "\n",
    "### Wolf Fence Debugging\n",
    "\n",
    "**\"There's a wolf in Alaska. How do you find it?\"**\n",
    "\n",
    "1. Build a fence across middle of Alaska\n",
    "2. Wolf is on one side\n",
    "3. Build fence across middle of that half\n",
    "4. Repeat until you find the wolf\n",
    "\n",
    "**Applied to debugging:**\n",
    "```python\n",
    "# Code is 100 lines, bug somewhere\n",
    "# Line 50\n",
    "print(\"Checkpoint A\")\n",
    "\n",
    "# Does it print? If yes, bug is after line 50\n",
    "# If no, bug is before line 50\n",
    "# Repeat in that half!\n",
    "```\n",
    "\n",
    "### Minimal Reproducible Example\n",
    "\n",
    "**Remove everything not related to the bug:**\n",
    "\n",
    "```python\n",
    "# Original: 500 lines, 10 functions\n",
    "# Minimal example:\n",
    "def buggy():\n",
    "    x = [1, 2, 3]\n",
    "    return x[5]  # Bug found!\n",
    "```\n",
    "\n",
    "**Benefits:**\n",
    "- Often find bug while creating minimal example\n",
    "- Easy to share for help (Stack Overflow)\n",
    "- Easy to write test case"
   ]
  },
  {
   "cell_type": "markdown",
   "metadata": {},
   "source": [
    "---\n",
    "## 10. Writing Debuggable Code\n",
    "\n",
    "### Make Code Easy to Debug\n",
    "\n",
    "**Bad:**\n",
    "```python\n",
    "def f(x,y,z): return x+y*z if x>0 else y-z\n",
    "```\n",
    "\n",
    "**Good:**\n",
    "```python\n",
    "def calculate_result(base, multiplier, offset):\n",
    "    \"\"\"Calculate result based on base value.\"\"\"\n",
    "    if base > 0:\n",
    "        result = base + (multiplier * offset)\n",
    "    else:\n",
    "        result = multiplier - offset\n",
    "    return result\n",
    "```\n",
    "\n",
    "### Use Type Hints"
   ]
  },
  {
   "cell_type": "code",
   "execution_count": null,
   "metadata": {},
   "outputs": [],
   "source": [
    "def process_user(name: str, age: int) -> dict:\n",
    "    \"\"\"Process user data and return formatted dict.\"\"\"\n",
    "    return {\n",
    "        \"name\": name.upper(),\n",
    "        \"age\": age,\n",
    "        \"is_adult\": age >= 18\n",
    "    }\n",
    "\n",
    "# Type hints help catch bugs with mypy:\n",
    "# mypy script.py\n",
    "# error: Argument 1 to \"process_user\" has incompatible type \"int\"; expected \"str\""
   ]
  },
  {
   "cell_type": "markdown",
   "metadata": {},
   "source": [
    "### Defensive Programming"
   ]
  },
  {
   "cell_type": "code",
   "execution_count": null,
   "metadata": {},
   "outputs": [],
   "source": [
    "def safe_divide(a, b):\n",
    "    \"\"\"\n",
    "    Safely divide two numbers.\n",
    "    \n",
    "    Args:\n",
    "        a: Numerator\n",
    "        b: Denominator\n",
    "    \n",
    "    Returns:\n",
    "        Result of division or None if invalid\n",
    "    \"\"\"\n",
    "    # Validate inputs\n",
    "    if not isinstance(a, (int, float)):\n",
    "        raise TypeError(f\"a must be a number, got {type(a)}\")\n",
    "    if not isinstance(b, (int, float)):\n",
    "        raise TypeError(f\"b must be a number, got {type(b)}\")\n",
    "    \n",
    "    # Check for division by zero\n",
    "    if b == 0:\n",
    "        logging.warning(\"Attempted division by zero\")\n",
    "        return None\n",
    "    \n",
    "    result = a / b\n",
    "    \n",
    "    # Validate output\n",
    "    assert isinstance(result, (int, float)), \"Result must be a number\"\n",
    "    \n",
    "    return result\n",
    "\n",
    "print(safe_divide(10, 2))\n",
    "print(safe_divide(10, 0))"
   ]
  },
  {
   "cell_type": "markdown",
   "metadata": {},
   "source": [
    "### Early Returns"
   ]
  },
  {
   "cell_type": "code",
   "execution_count": null,
   "metadata": {},
   "outputs": [],
   "source": [
    "def process_data(data):\n",
    "    \"\"\"Process data with early validation.\"\"\"\n",
    "    \n",
    "    # Validate early, return early\n",
    "    if not data:\n",
    "        return []\n",
    "    \n",
    "    if not isinstance(data, list):\n",
    "        raise TypeError(\"Data must be a list\")\n",
    "    \n",
    "    # Now we know data is a non-empty list\n",
    "    results = []\n",
    "    for item in data:\n",
    "        # ... process item ...\n",
    "        results.append(item * 2)\n",
    "    \n",
    "    return results"
   ]
  },
  {
   "cell_type": "markdown",
   "metadata": {},
   "source": [
    "---\n",
    "## 📝 Exercises\n",
    "\n",
    "### Exercise 1: Debug This Code\n",
    "\n",
    "Find and fix the bugs:"
   ]
  },
  {
   "cell_type": "code",
   "execution_count": null,
   "metadata": {},
   "outputs": [],
   "source": [
    "def calculate_average(numbers):\n",
    "    total = 0\n",
    "    for number in numbers:\n",
    "        total += number\n",
    "    average = total / len(numbers)\n",
    "    return average\n",
    "\n",
    "# Test cases - which ones fail?\n",
    "# print(calculate_average([1, 2, 3, 4, 5]))\n",
    "# print(calculate_average([]))\n",
    "# print(calculate_average([1, \"two\", 3]))"
   ]
  },
  {
   "cell_type": "markdown",
   "metadata": {},
   "source": [
    "### Exercise 2: Add Logging\n",
    "\n",
    "Add appropriate logging to this function:"
   ]
  },
  {
   "cell_type": "code",
   "execution_count": null,
   "metadata": {},
   "outputs": [],
   "source": [
    "def fetch_user_data(user_id):\n",
    "    # Add logging here!\n",
    "    \n",
    "    users = {\n",
    "        1: {\"name\": \"Alice\", \"email\": \"alice@example.com\"},\n",
    "        2: {\"name\": \"Bob\", \"email\": \"bob@example.com\"}\n",
    "    }\n",
    "    \n",
    "    if user_id not in users:\n",
    "        # Log error\n",
    "        return None\n",
    "    \n",
    "    user = users[user_id]\n",
    "    # Log success\n",
    "    return user"
   ]
  },
  {
   "cell_type": "markdown",
   "metadata": {},
   "source": [
    "### Exercise 3: Profile Performance\n",
    "\n",
    "Which approach is faster?"
   ]
  },
  {
   "cell_type": "code",
   "execution_count": null,
   "metadata": {},
   "outputs": [],
   "source": [
    "def approach1(n):\n",
    "    \"\"\"Using list comprehension.\"\"\"\n",
    "    return [i ** 2 for i in range(n)]\n",
    "\n",
    "def approach2(n):\n",
    "    \"\"\"Using loop.\"\"\"\n",
    "    result = []\n",
    "    for i in range(n):\n",
    "        result.append(i ** 2)\n",
    "    return result\n",
    "\n",
    "# Use timeit to compare them!\n",
    "# Your code here"
   ]
  },
  {
   "cell_type": "markdown",
   "metadata": {},
   "source": [
    "### Exercise 4: Write Assertions\n",
    "\n",
    "Add assertions to validate inputs:"
   ]
  },
  {
   "cell_type": "code",
   "execution_count": null,
   "metadata": {},
   "outputs": [],
   "source": [
    "def calculate_grade(score, max_score):\n",
    "    \"\"\"Calculate percentage grade.\"\"\"\n",
    "    # Add assertions here!\n",
    "    # - score should be >= 0\n",
    "    # - max_score should be > 0\n",
    "    # - score should be <= max_score\n",
    "    \n",
    "    percentage = (score / max_score) * 100\n",
    "    return percentage"
   ]
  },
  {
   "cell_type": "markdown",
   "metadata": {},
   "source": [
    "---\n",
    "## ✅ Self-Check Quiz\n",
    "\n",
    "1. What's the first thing to do when you encounter a bug?\n",
    "2. How do you read a Python traceback?\n",
    "3. What's the difference between `print()` and `logging`?\n",
    "4. What does `pdb.set_trace()` do?\n",
    "5. Name 3 pdb commands and what they do\n",
    "6. When should you use assertions?\n",
    "7. What's the purpose of profiling?\n",
    "8. What is rubber duck debugging?\n",
    "9. Why write type hints?\n",
    "10. What makes code easy to debug?\n",
    "\n",
    "---\n",
    "\n",
    "## 🎯 Key Takeaways\n",
    "\n",
    "- **Read error messages** - They tell you what's wrong!\n",
    "- **Print debugging** works, but logging is better\n",
    "- **pdb** is powerful for interactive debugging\n",
    "- **Profile before optimizing** - Don't guess!\n",
    "- **Assertions** catch bugs during development\n",
    "- **Type hints** help find bugs before runtime\n",
    "- **Defensive programming** prevents bugs\n",
    "- **Binary search** debugging saves time\n",
    "- **Minimal examples** help isolate bugs\n",
    "- **Good code** is easy to debug\n",
    "\n",
    "---\n",
    "\n",
    "## 🚀 Next Steps\n",
    "\n",
    "**Debugging is a skill that improves with practice!**\n",
    "\n",
    "**Practice by:**\n",
    "- Debugging every bug you encounter\n",
    "- Using pdb instead of print sometimes\n",
    "- Reading other people's stack traces\n",
    "- Profiling your slow code\n",
    "\n",
    "**Continue learning:**\n",
    "- **Security Essentials**: `tools/07_security_essentials.ipynb`\n",
    "- **Build Systems**: `tools/08_build_and_automation.ipynb`\n",
    "\n",
    "---\n",
    "\n",
    "## 💡 Pro Tips\n",
    "\n",
    "1. **Read the error** - Don't skim, read carefully\n",
    "2. **Reproduce consistently** - Can't fix what you can't reproduce\n",
    "3. **Use version control** - Know what changed\n",
    "4. **Take breaks** - Fresh eyes find bugs faster\n",
    "5. **Ask for help** - After you've tried (rubber duck first!)\n",
    "6. **Write tests** - Catch bugs before users do\n",
    "7. **Keep it simple** - Complex code has more bugs\n",
    "8. **Log, don't print** - Production code needs logging\n",
    "\n",
    "---\n",
    "\n",
    "## 📚 Resources\n",
    "\n",
    "**Documentation:**\n",
    "- [pdb Official Docs](https://docs.python.org/3/library/pdb.html)\n",
    "- [logging Module](https://docs.python.org/3/library/logging.html)\n",
    "- [Python Profilers](https://docs.python.org/3/library/profile.html)\n",
    "\n",
    "**Tools:**\n",
    "- [pytest](https://pytest.org) - Testing framework\n",
    "- [mypy](http://mypy-lang.org/) - Static type checker\n",
    "- [black](https://black.readthedocs.io/) - Code formatter\n",
    "- [pylint](https://pylint.org/) - Code analyzer\n",
    "\n",
    "**Learning:**\n",
    "- [\"Effective Python\" by Brett Slatkin](https://effectivepython.com/)\n",
    "- [\"The Pragmatic Programmer\"](https://pragprog.com/titles/tpp20/)\n",
    "\n",
    "---\n",
    "\n",
    "**\"Debugging is twice as hard as writing code in the first place. Therefore, if you write code as cleverly as possible, you are, by definition, not smart enough to debug it.\"** - Brian Kernighan\n",
    "\n",
    "Write simple, debuggable code! 🐛✨"
   ]
  }
 ],
 "metadata": {
  "kernelspec": {
   "display_name": "Python 3",
   "language": "python",
   "name": "python3"
  },
  "language_info": {
   "name": "python",
   "version": "3.10.0"
  }
 },
 "nbformat": 4,
 "nbformat_minor": 2
}
