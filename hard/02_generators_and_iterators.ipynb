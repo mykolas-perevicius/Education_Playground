{
 "cells": [
  {
   "cell_type": "markdown",
   "metadata": {},
   "source": [
    "# Lesson 2: Generators and Iterators\n",
    "\n",
    "Learn about memory-efficient data processing using generators and custom iterators.\n",
    "\n",
    "## What You'll Learn\n",
    "- Iterator protocol and custom iterators\n",
    "- Generator functions and yield\n",
    "- Generator expressions\n",
    "- Advanced generator patterns and coroutines"
   ]
  },
  {
   "cell_type": "markdown",
   "metadata": {},
   "source": [
    "## Understanding Iterators\n",
    "\n",
    "An iterator is an object that implements the iterator protocol:"
   ]
  },
  {
   "cell_type": "code",
   "execution_count": null,
   "metadata": {},
   "outputs": [],
   "source": [
    "class Countdown:\n",
    "    \"\"\"Custom iterator that counts down from a number.\"\"\"\n",
    "    def __init__(self, start):\n",
    "        self.current = start\n",
    "    \n",
    "    def __iter__(self):\n",
    "        return self\n",
    "    \n",
    "    def __next__(self):\n",
    "        if self.current <= 0:\n",
    "            raise StopIteration\n",
    "        self.current -= 1\n",
    "        return self.current + 1\n",
    "\n",
    "# Using the iterator\n",
    "counter = Countdown(5)\n",
    "for num in counter:\n",
    "    print(num)"
   ]
  },
  {
   "cell_type": "markdown",
   "metadata": {},
   "source": [
    "## Generator Functions\n",
    "\n",
    "Generators provide a simpler way to create iterators using `yield`:"
   ]
  },
  {
   "cell_type": "code",
   "execution_count": null,
   "metadata": {},
   "outputs": [],
   "source": [
    "def countdown(n):\n",
    "    \"\"\"Generator function for counting down.\"\"\"\n",
    "    while n > 0:\n",
    "        yield n\n",
    "        n -= 1\n",
    "\n",
    "# Using the generator\n",
    "for num in countdown(5):\n",
    "    print(num)\n",
    "\n",
    "# Generators are memory efficient\n",
    "def fibonacci(n):\n",
    "    \"\"\"Generate Fibonacci numbers up to n.\"\"\"\n",
    "    a, b = 0, 1\n",
    "    for _ in range(n):\n",
    "        yield a\n",
    "        a, b = b, a + b\n",
    "\n",
    "print(\"\\nFibonacci numbers:\")\n",
    "print(list(fibonacci(10)))"
   ]
  },
  {
   "cell_type": "markdown",
   "metadata": {},
   "source": [
    "## Generator Expressions\n",
    "\n",
    "Like list comprehensions, but memory efficient:"
   ]
  },
  {
   "cell_type": "code",
   "execution_count": null,
   "metadata": {},
   "outputs": [],
   "source": [
    "import sys\n",
    "\n",
    "# List comprehension - creates entire list in memory\n",
    "list_comp = [x**2 for x in range(10000)]\n",
    "print(\"List size:\", sys.getsizeof(list_comp), \"bytes\")\n",
    "\n",
    "# Generator expression - generates values on-demand\n",
    "gen_exp = (x**2 for x in range(10000))\n",
    "print(\"Generator size:\", sys.getsizeof(gen_exp), \"bytes\")\n",
    "\n",
    "# Use generator for large data processing\n",
    "total = sum(x**2 for x in range(1000000))\n",
    "print(\"Sum of squares:\", total)"
   ]
  },
  {
   "cell_type": "markdown",
   "metadata": {},
   "source": [
    "## Advanced Generator Patterns\n",
    "\n",
    "Generators can be chained and used for data pipelines:"
   ]
  },
  {
   "cell_type": "code",
   "execution_count": null,
   "metadata": {},
   "outputs": [],
   "source": [
    "def read_data():\n",
    "    \"\"\"Simulate reading data from a source.\"\"\"\n",
    "    for i in range(1, 11):\n",
    "        yield i\n",
    "\n",
    "def filter_even(numbers):\n",
    "    \"\"\"Filter only even numbers.\"\"\"\n",
    "    for num in numbers:\n",
    "        if num % 2 == 0:\n",
    "            yield num\n",
    "\n",
    "def square(numbers):\n",
    "    \"\"\"Square each number.\"\"\"\n",
    "    for num in numbers:\n",
    "        yield num ** 2\n",
    "\n",
    "# Chain generators together\n",
    "pipeline = square(filter_even(read_data()))\n",
    "print(\"Processed data:\", list(pipeline))\n",
    "\n",
    "# Using send() for coroutines\n",
    "def averager():\n",
    "    \"\"\"Running average coroutine.\"\"\"\n",
    "    total = 0\n",
    "    count = 0\n",
    "    average = None\n",
    "    while True:\n",
    "        value = yield average\n",
    "        if value is None:\n",
    "            break\n",
    "        total += value\n",
    "        count += 1\n",
    "        average = total / count\n",
    "\n",
    "avg = averager()\n",
    "next(avg)  # Prime the coroutine\n",
    "print(\"\\nRunning averages:\")\n",
    "print(avg.send(10))\n",
    "print(avg.send(20))\n",
    "print(avg.send(30))"
   ]
  },
  {
   "cell_type": "markdown",
   "metadata": {},
   "source": [
    "## Exercise\n",
    "\n",
    "Create a generator pipeline that:\n",
    "1. Generates random numbers between 1 and 100\n",
    "2. Filters numbers divisible by both 3 and 5\n",
    "3. Transforms each number by multiplying by 2\n",
    "4. Stops after finding 10 numbers that meet the criteria\n",
    "\n",
    "Measure the memory efficiency compared to using lists."
   ]
  },
  {
   "cell_type": "code",
   "execution_count": null,
   "metadata": {},
   "outputs": [],
   "source": [
    "# Your code here\nimport random\n\n"
   ]
  }
 ],
 "metadata": {
  "kernelspec": {
   "display_name": "Python 3",
   "language": "python",
   "name": "python3"
  },
  "language_info": {
   "name": "python",
   "version": "3.8.0"
  }
 },
 "nbformat": 4,
 "nbformat_minor": 4
}
