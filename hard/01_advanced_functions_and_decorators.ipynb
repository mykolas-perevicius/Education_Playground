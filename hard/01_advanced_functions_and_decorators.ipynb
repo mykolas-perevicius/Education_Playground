{
 "cells": [
  {
   "cell_type": "markdown",
   "metadata": {},
   "source": [
    "# Lesson 1: Advanced Functions and Decorators\n",
    "\n",
    "Explore advanced function concepts including higher-order functions, closures, and decorators.\n",
    "\n",
    "## What You'll Learn\n",
    "- First-class functions and closures\n",
    "- Lambda functions and functional programming\n",
    "- Decorators and their applications\n",
    "- Advanced decorator patterns"
   ]
  },
  {
   "cell_type": "markdown",
   "metadata": {},
   "source": [
    "## Higher-Order Functions\n",
    "\n",
    "Functions that take other functions as arguments or return functions:"
   ]
  },
  {
   "cell_type": "code",
   "execution_count": null,
   "metadata": {},
   "outputs": [],
   "source": [
    "def apply_operation(func, x, y):\n",
    "    \"\"\"Apply a function to two arguments.\"\"\"\n",
    "    return func(x, y)\n",
    "\n",
    "# Using lambda functions\n",
    "result = apply_operation(lambda a, b: a + b, 5, 3)\n",
    "print(\"Sum:\", result)\n",
    "\n",
    "result = apply_operation(lambda a, b: a * b, 5, 3)\n",
    "print(\"Product:\", result)\n",
    "\n",
    "# Using map, filter, and reduce\n",
    "from functools import reduce\n",
    "\n",
    "numbers = [1, 2, 3, 4, 5]\n",
    "squared = list(map(lambda x: x**2, numbers))\n",
    "evens = list(filter(lambda x: x % 2 == 0, numbers))\n",
    "product = reduce(lambda x, y: x * y, numbers)\n",
    "\n",
    "print(\"Squared:\", squared)\n",
    "print(\"Evens:\", evens)\n",
    "print(\"Product:\", product)"
   ]
  },
  {
   "cell_type": "markdown",
   "metadata": {},
   "source": [
    "## Closures\n",
    "\n",
    "Functions that remember values from their enclosing scope:"
   ]
  },
  {
   "cell_type": "code",
   "execution_count": null,
   "metadata": {},
   "outputs": [],
   "source": [
    "def make_multiplier(factor):\n",
    "    \"\"\"Create a function that multiplies by a specific factor.\"\"\"\n",
    "    def multiplier(x):\n",
    "        return x * factor\n",
    "    return multiplier\n",
    "\n",
    "# Create specialized functions\n",
    "double = make_multiplier(2)\n",
    "triple = make_multiplier(3)\n",
    "\n",
    "print(\"Double 5:\", double(5))\n",
    "print(\"Triple 5:\", triple(5))"
   ]
  },
  {
   "cell_type": "markdown",
   "metadata": {},
   "source": [
    "## Decorators\n",
    "\n",
    "Decorators modify or enhance functions without changing their code:"
   ]
  },
  {
   "cell_type": "code",
   "execution_count": null,
   "metadata": {},
   "outputs": [],
   "source": [
    "import time\n",
    "\n",
    "def timing_decorator(func):\n",
    "    \"\"\"Measure execution time of a function.\"\"\"\n",
    "    def wrapper(*args, **kwargs):\n",
    "        start = time.time()\n",
    "        result = func(*args, **kwargs)\n",
    "        end = time.time()\n",
    "        print(f\"{func.__name__} took {end - start:.6f} seconds\")\n",
    "        return result\n",
    "    return wrapper\n",
    "\n",
    "@timing_decorator\n",
    "def slow_function():\n",
    "    time.sleep(0.1)\n",
    "    return \"Done\"\n",
    "\n",
    "result = slow_function()"
   ]
  },
  {
   "cell_type": "markdown",
   "metadata": {},
   "source": [
    "## Advanced Decorator Patterns\n",
    "\n",
    "Decorators with arguments and class-based decorators:"
   ]
  },
  {
   "cell_type": "code",
   "execution_count": null,
   "metadata": {},
   "outputs": [],
   "source": [
    "def repeat(times):\n",
    "    \"\"\"Decorator that repeats function execution.\"\"\"\n",
    "    def decorator(func):\n",
    "        def wrapper(*args, **kwargs):\n",
    "            results = []\n",
    "            for _ in range(times):\n",
    "                results.append(func(*args, **kwargs))\n",
    "            return results\n",
    "        return wrapper\n",
    "    return decorator\n",
    "\n",
    "@repeat(3)\n",
    "def greet(name):\n",
    "    return f\"Hello, {name}!\"\n",
    "\n",
    "print(greet(\"Alice\"))\n",
    "\n",
    "# Class-based decorator\n",
    "class CountCalls:\n",
    "    def __init__(self, func):\n",
    "        self.func = func\n",
    "        self.count = 0\n",
    "    \n",
    "    def __call__(self, *args, **kwargs):\n",
    "        self.count += 1\n",
    "        print(f\"Call {self.count} of {self.func.__name__}\")\n",
    "        return self.func(*args, **kwargs)\n",
    "\n",
    "@CountCalls\n",
    "def say_hello():\n",
    "    print(\"Hello!\")\n",
    "\n",
    "say_hello()\n",
    "say_hello()\n",
    "say_hello()"
   ]
  },
  {
   "cell_type": "markdown",
   "metadata": {},
   "source": [
    "## Exercise\n",
    "\n",
    "Create a memoization decorator that caches function results:\n",
    "1. Store results in a dictionary with arguments as keys\n",
    "2. Return cached result if arguments were seen before\n",
    "3. Calculate and cache new results otherwise\n",
    "4. Test it with a recursive Fibonacci function"
   ]
  },
  {
   "cell_type": "code",
   "execution_count": null,
   "metadata": {},
   "outputs": [],
   "source": [
    "# Your code here\n"
   ]
  }
 ],
 "metadata": {
  "kernelspec": {
   "display_name": "Python 3",
   "language": "python",
   "name": "python3"
  },
  "language_info": {
   "name": "python",
   "version": "3.8.0"
  }
 },
 "nbformat": 4,
 "nbformat_minor": 4
}
