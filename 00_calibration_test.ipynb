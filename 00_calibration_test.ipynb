{
 "cells": [
  {
   "cell_type": "markdown",
   "metadata": {},
   "source": [
    "# Programming Calibration Test\n",
    "\n",
    "Welcome! This test will help determine which course level is right for you.\n",
    "\n",
    "## Instructions\n",
    "\n",
    "1. Complete all sections below by writing code in the designated cells\n",
    "2. If you don't know how to solve a problem, leave it blank - that's okay!\n",
    "3. Run the final scoring cell to see your results and recommended level\n",
    "\n",
    "## Scoring Guide\n",
    "\n",
    "- **0-30 points**: Start with the **Easy** course\n",
    "- **31-60 points**: Start with the **Medium** course  \n",
    "- **61+ points**: Start with the **Hard** course\n",
    "\n",
    "---"
   ]
  },
  {
   "cell_type": "markdown",
   "metadata": {},
   "source": [
    "## Section 1: Basic Syntax (10 points)\n",
    "\n",
    "### Question 1.1 (5 points)\n",
    "Write code to print \"Hello, Python!\" to the console."
   ]
  },
  {
   "cell_type": "code",
   "execution_count": null,
   "metadata": {},
   "outputs": [],
   "source": [
    "# Your code here\n"
   ]
  },
  {
   "cell_type": "markdown",
   "metadata": {},
   "source": [
    "### Question 1.2 (5 points)\n",
    "Create three variables:\n",
    "- `name` (string) with your name\n",
    "- `age` (integer) with any age\n",
    "- `height` (float) with any height\n",
    "\n",
    "Then print all three variables."
   ]
  },
  {
   "cell_type": "code",
   "execution_count": null,
   "metadata": {},
   "outputs": [],
   "source": [
    "# Your code here\n"
   ]
  },
  {
   "cell_type": "markdown",
   "metadata": {},
   "source": [
    "## Section 2: Control Flow (15 points)\n",
    "\n",
    "### Question 2.1 (5 points)\n",
    "Write a function called `is_even` that takes a number and returns `True` if it's even, `False` otherwise."
   ]
  },
  {
   "cell_type": "code",
   "execution_count": null,
   "metadata": {},
   "outputs": [],
   "source": [
    "# Your code here\ndef is_even(number):\n    pass  # Replace 'pass' with your code\n\n# Test your function\nprint(is_even(4))  # Should print True\nprint(is_even(7))  # Should print False"
   ]
  },
  {
   "cell_type": "markdown",
   "metadata": {},
   "source": [
    "### Question 2.2 (10 points)\n",
    "Write a function called `fizzbuzz` that takes a number `n` and:\n",
    "- Prints \"Fizz\" if divisible by 3\n",
    "- Prints \"Buzz\" if divisible by 5\n",
    "- Prints \"FizzBuzz\" if divisible by both\n",
    "- Prints the number otherwise"
   ]
  },
  {
   "cell_type": "code",
   "execution_count": null,
   "metadata": {},
   "outputs": [],
   "source": [
    "# Your code here\ndef fizzbuzz(n):\n    pass  # Replace with your code\n\n# Test your function\nfor i in [3, 5, 15, 7]:\n    fizzbuzz(i)"
   ]
  },
  {
   "cell_type": "markdown",
   "metadata": {},
   "source": [
    "## Section 3: Data Structures (20 points)\n",
    "\n",
    "### Question 3.1 (10 points)\n",
    "Given the list `numbers = [1, 2, 3, 4, 5, 6, 7, 8, 9, 10]`, use a list comprehension to create a new list containing only the even numbers squared."
   ]
  },
  {
   "cell_type": "code",
   "execution_count": null,
   "metadata": {},
   "outputs": [],
   "source": [
    "numbers = [1, 2, 3, 4, 5, 6, 7, 8, 9, 10]\n\n# Your code here (should result in [4, 16, 36, 64, 100])\nresult = []\n\nprint(result)"
   ]
  },
  {
   "cell_type": "markdown",
   "metadata": {},
   "source": [
    "### Question 3.2 (10 points)\n",
    "Create a function `count_words` that takes a string and returns a dictionary with each word as a key and its count as the value.\n",
    "\n",
    "Example: `\"hello world hello\"` → `{\"hello\": 2, \"world\": 1}`"
   ]
  },
  {
   "cell_type": "code",
   "execution_count": null,
   "metadata": {},
   "outputs": [],
   "source": [
    "# Your code here\ndef count_words(text):\n    pass  # Replace with your code\n\n# Test your function\nprint(count_words(\"hello world hello\"))\nprint(count_words(\"the quick brown fox jumps over the lazy dog\"))"
   ]
  },
  {
   "cell_type": "markdown",
   "metadata": {},
   "source": [
    "## Section 4: Object-Oriented Programming (20 points)\n",
    "\n",
    "### Question 4.1 (20 points)\n",
    "Create a `BankAccount` class with:\n",
    "- Constructor that takes `owner` name and optional `balance` (default 0)\n",
    "- Method `deposit(amount)` to add money\n",
    "- Method `withdraw(amount)` to remove money (only if sufficient balance)\n",
    "- Method `get_balance()` to return current balance"
   ]
  },
  {
   "cell_type": "code",
   "execution_count": null,
   "metadata": {},
   "outputs": [],
   "source": [
    "# Your code here\nclass BankAccount:\n    pass  # Replace with your code\n\n# Test your class\naccount = BankAccount(\"Alice\", 100)\nprint(account.get_balance())  # Should print 100\naccount.deposit(50)\nprint(account.get_balance())  # Should print 150\naccount.withdraw(30)\nprint(account.get_balance())  # Should print 120"
   ]
  },
  {
   "cell_type": "markdown",
   "metadata": {},
   "source": [
    "## Section 5: Advanced Concepts (35 points)\n",
    "\n",
    "### Question 5.1 (15 points)\n",
    "Write a decorator called `timer` that measures and prints how long a function takes to execute."
   ]
  },
  {
   "cell_type": "code",
   "execution_count": null,
   "metadata": {},
   "outputs": [],
   "source": [
    "import time\n\n# Your code here\ndef timer(func):\n    pass  # Replace with your code\n\n# Test your decorator\n@timer\ndef slow_function():\n    time.sleep(0.1)\n    return \"Done\"\n\nslow_function()"
   ]
  },
  {
   "cell_type": "markdown",
   "metadata": {},
   "source": [
    "### Question 5.2 (10 points)\n",
    "Create a generator function called `fibonacci_generator` that yields Fibonacci numbers infinitely."
   ]
  },
  {
   "cell_type": "code",
   "execution_count": null,
   "metadata": {},
   "outputs": [],
   "source": [
    "# Your code here\ndef fibonacci_generator():\n    pass  # Replace with your code\n\n# Test your generator (get first 10 Fibonacci numbers)\nfib = fibonacci_generator()\nfor _ in range(10):\n    print(next(fib), end=' ')"
   ]
  },
  {
   "cell_type": "markdown",
   "metadata": {},
   "source": [
    "### Question 5.3 (10 points)\n",
    "Implement a function `merge_sort` that sorts a list using the merge sort algorithm."
   ]
  },
  {
   "cell_type": "code",
   "execution_count": null,
   "metadata": {},
   "outputs": [],
   "source": [
    "# Your code here\ndef merge_sort(arr):\n    pass  # Replace with your code\n\n# Test your function\ntest_list = [38, 27, 43, 3, 9, 82, 10]\nprint(\"Original:\", test_list)\nprint(\"Sorted:\", merge_sort(test_list))"
   ]
  },
  {
   "cell_type": "markdown",
   "metadata": {},
   "source": [
    "---\n",
    "\n",
    "## Scoring Cell\n",
    "\n",
    "Run this cell after completing all questions to get your score and recommendation.\n",
    "\n",
    "**Self-Scoring Instructions:**\n",
    "- Give yourself full points if your solution works correctly\n",
    "- Give yourself half points if you attempted but didn't complete it\n",
    "- Give yourself 0 points if you left it blank"
   ]
  },
  {
   "cell_type": "code",
   "execution_count": null,
   "metadata": {},
   "outputs": [],
   "source": [
    "# Enter your scores for each section\n",
    "section_1_score = 0  # Out of 10\n",
    "section_2_score = 0  # Out of 15\n",
    "section_3_score = 0  # Out of 20\n",
    "section_4_score = 0  # Out of 20\n",
    "section_5_score = 0  # Out of 35\n",
    "\n",
    "total_score = section_1_score + section_2_score + section_3_score + section_4_score + section_5_score\n",
    "\n",
    "print(\"=\" * 50)\n",
    "print(\"CALIBRATION TEST RESULTS\")\n",
    "print(\"=\" * 50)\n",
    "print(f\"\\nSection 1 (Basic Syntax):        {section_1_score}/10\")\n",
    "print(f\"Section 2 (Control Flow):        {section_2_score}/15\")\n",
    "print(f\"Section 3 (Data Structures):     {section_3_score}/20\")\n",
    "print(f\"Section 4 (OOP):                 {section_4_score}/20\")\n",
    "print(f\"Section 5 (Advanced Concepts):   {section_5_score}/35\")\n",
    "print(f\"\\n{'TOTAL SCORE:':.<40} {total_score}/100\")\n",
    "print(\"\\n\" + \"=\" * 50)\n",
    "\n",
    "# Recommendation\n",
    "if total_score <= 30:\n",
    "    level = \"EASY\"\n",
    "    folder = \"easy/\"\n",
    "    description = \"Start with the basics! You'll learn fundamental concepts.\"\n",
    "elif total_score <= 60:\n",
    "    level = \"MEDIUM\"\n",
    "    folder = \"medium/\"\n",
    "    description = \"You have a good foundation. Time to level up your skills!\"\n",
    "else:\n",
    "    level = \"HARD\"\n",
    "    folder = \"hard/\"\n",
    "    description = \"You're ready for advanced topics and algorithms!\"\n",
    "\n",
    "print(f\"\\nRECOMMENDED LEVEL: {level}\")\n",
    "print(f\"\\n{description}\")\n",
    "print(f\"\\nStart with the notebooks in: Education_Playground/{folder}\")\n",
    "print(\"\\n\" + \"=\" * 50)"
   ]
  },
  {
   "cell_type": "markdown",
   "metadata": {},
   "source": [
    "## Next Steps\n",
    "\n",
    "Based on your results:\n",
    "\n",
    "### Easy Level (0-30 points)\n",
    "Navigate to the `easy/` folder and start with:\n",
    "1. `01_introduction_to_python.ipynb`\n",
    "2. `02_variables_and_data_types.ipynb`\n",
    "3. `03_basic_operations_and_conditionals.ipynb`\n",
    "\n",
    "### Medium Level (31-60 points)\n",
    "Navigate to the `medium/` folder and start with:\n",
    "1. `01_functions_and_modules.ipynb`\n",
    "2. `02_data_structures.ipynb`\n",
    "3. `03_classes_and_oop.ipynb`\n",
    "\n",
    "### Hard Level (61+ points)\n",
    "Navigate to the `hard/` folder and start with:\n",
    "1. `01_advanced_functions_and_decorators.ipynb`\n",
    "2. `02_generators_and_iterators.ipynb`\n",
    "3. `03_algorithms_and_complexity.ipynb`\n",
    "\n",
    "---\n",
    "\n",
    "**Remember:** There's no shame in starting at any level. Everyone learns at their own pace. Good luck on your programming journey!"
   ]
  }
 ],
 "metadata": {
  "kernelspec": {
   "display_name": "Python 3",
   "language": "python",
   "name": "python3"
  },
  "language_info": {
   "name": "python",
   "version": "3.8.0"
  }
 },
 "nbformat": 4,
 "nbformat_minor": 4
}
