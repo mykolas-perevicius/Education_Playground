{
 "cells": [
  {
   "cell_type": "markdown",
   "metadata": {},
   "source": [
    "# Lesson 1: Introduction to Python\n",
    "\n",
    "Welcome to your first programming lesson! Python is a beginner-friendly programming language that's:\n",
    "- **Easy to read**: Looks almost like English\n",
    "- **Powerful**: Used by Google, Netflix, NASA, and more\n",
    "- **Versatile**: Web development, data science, AI, automation, games\n",
    "\n",
    "## What You'll Learn\n",
    "- How to run Python code\n",
    "- Printing messages to the screen\n",
    "- Comments and documentation\n",
    "- Your first programs"
   ]
  },
  {
   "cell_type": "markdown",
   "metadata": {},
   "source": [
    "---\n",
    "## 1. Hello, World!\n",
    "\n",
    "The traditional first program in any language is to print \"Hello, World!\" to the screen.\n",
    "\n",
    "Click on the cell below and press **Shift+Enter** to run it:"
   ]
  },
  {
   "cell_type": "code",
   "execution_count": null,
   "metadata": {},
   "outputs": [],
   "source": [
    "print(\"Hello, World!\")"
   ]
  },
  {
   "cell_type": "markdown",
   "metadata": {},
   "source": [
    "🎉 Congratulations! You just ran your first Python program!\n",
    "\n",
    "### How it works:\n",
    "- `print()` is a **function** that displays text\n",
    "- The text inside quotes (`\"Hello, World!\"`) is called a **string**\n",
    "- Strings must be wrapped in quotes (single `'` or double `\"`)"
   ]
  },
  {
   "cell_type": "markdown",
   "metadata": {},
   "source": [
    "---\n",
    "## 2. Printing Different Messages\n",
    "\n",
    "You can print anything you want:"
   ]
  },
  {
   "cell_type": "code",
   "execution_count": null,
   "metadata": {},
   "outputs": [],
   "source": [
    "print(\"Python is awesome!\")\n",
    "print(\"I am learning to code\")\n",
    "print(\"2024\")"
   ]
  },
  {
   "cell_type": "markdown",
   "metadata": {},
   "source": [
    "### ✏️ Try It Yourself\n",
    "\n",
    "Modify the code below to print your own message:"
   ]
  },
  {
   "cell_type": "code",
   "execution_count": null,
   "metadata": {},
   "outputs": [],
   "source": [
    "# Type your code here\n",
    "print(\"Your message here\")"
   ]
  },
  {
   "cell_type": "markdown",
   "metadata": {},
   "source": [
    "---\n",
    "## 3. Comments\n",
    "\n",
    "Comments are notes in your code that Python ignores. They help you and others understand your code.\n",
    "\n",
    "Use `#` to create a comment:"
   ]
  },
  {
   "cell_type": "code",
   "execution_count": null,
   "metadata": {},
   "outputs": [],
   "source": [
    "# This is a comment - Python ignores this line\n",
    "print(\"This runs\")  # You can add comments after code too\n",
    "\n",
    "# print(\"This won't run because it's commented out\")"
   ]
  },
  {
   "cell_type": "markdown",
   "metadata": {},
   "source": [
    "### 💡 Pro Tip:\n",
    "Good programmers use comments to explain **why** code does something, not just **what** it does."
   ]
  },
  {
   "cell_type": "markdown",
   "metadata": {},
   "source": [
    "---\n",
    "## 4. Printing Multiple Lines\n",
    "\n",
    "You can print multiple lines in different ways:"
   ]
  },
  {
   "cell_type": "code",
   "execution_count": null,
   "metadata": {},
   "outputs": [],
   "source": [
    "# Method 1: Multiple print statements\n",
    "print(\"First line\")\n",
    "print(\"Second line\")\n",
    "print(\"Third line\")"
   ]
  },
  {
   "cell_type": "code",
   "execution_count": null,
   "metadata": {},
   "outputs": [],
   "source": [
    "# Method 2: Using \\n (newline character)\n",
    "print(\"First line\\nSecond line\\nThird line\")"
   ]
  },
  {
   "cell_type": "code",
   "execution_count": null,
   "metadata": {},
   "outputs": [],
   "source": [
    "# Method 3: Triple quotes for multiple lines\n",
    "print(\"\"\"\n",
    "First line\n",
    "Second line\n",
    "Third line\n",
    "\"\"\")"
   ]
  },
  {
   "cell_type": "markdown",
   "metadata": {},
   "source": [
    "---\n",
    "## 5. Printing with Separators\n",
    "\n",
    "The `print()` function can print multiple items:"
   ]
  },
  {
   "cell_type": "code",
   "execution_count": null,
   "metadata": {},
   "outputs": [],
   "source": [
    "# Print multiple items (separated by space by default)\n",
    "print(\"Hello\", \"World\")\n",
    "print(\"Python\", \"is\", \"fun\")"
   ]
  },
  {
   "cell_type": "code",
   "execution_count": null,
   "metadata": {},
   "outputs": [],
   "source": [
    "# Custom separator\n",
    "print(\"Python\", \"Java\", \"JavaScript\", sep=\" | \")\n",
    "print(\"2024\", \"10\", \"30\", sep=\"-\")"
   ]
  },
  {
   "cell_type": "markdown",
   "metadata": {},
   "source": [
    "---\n",
    "## 6. Printing Numbers\n",
    "\n",
    "You can print numbers without quotes:"
   ]
  },
  {
   "cell_type": "code",
   "execution_count": null,
   "metadata": {},
   "outputs": [],
   "source": [
    "print(42)\n",
    "print(3.14)\n",
    "print(2 + 2)  # Python evaluates math first\n",
    "print(\"The answer is:\", 42)  # Mix text and numbers"
   ]
  },
  {
   "cell_type": "markdown",
   "metadata": {},
   "source": [
    "### ⚠️ Common Mistake:"
   ]
  },
  {
   "cell_type": "code",
   "execution_count": null,
   "metadata": {},
   "outputs": [],
   "source": [
    "print(\"2 + 2\")  # This prints the text \"2 + 2\"\n",
    "print(2 + 2)     # This calculates and prints 4"
   ]
  },
  {
   "cell_type": "markdown",
   "metadata": {},
   "source": [
    "---\n",
    "## 7. Simple ASCII Art\n",
    "\n",
    "You can create simple drawings using print statements:"
   ]
  },
  {
   "cell_type": "code",
   "execution_count": null,
   "metadata": {},
   "outputs": [],
   "source": [
    "print(\"  *  \")\n",
    "print(\" *** \")\n",
    "print(\"*****\")\n",
    "print(\" ||| \")"
   ]
  },
  {
   "cell_type": "code",
   "execution_count": null,
   "metadata": {},
   "outputs": [],
   "source": [
    "# A simple face\n",
    "print(\"  O O  \")\n",
    "print(\"   ^   \")\n",
    "print(\"  \\_/  \")"
   ]
  },
  {
   "cell_type": "markdown",
   "metadata": {},
   "source": [
    "---\n",
    "## 📝 Exercises\n",
    "\n",
    "### Exercise 1: Personal Introduction\n",
    "Create a program that prints:\n",
    "- Your name\n",
    "- Your age (or any number)\n",
    "- Your favorite hobby\n",
    "\n",
    "Each should be on a separate line."
   ]
  },
  {
   "cell_type": "code",
   "execution_count": null,
   "metadata": {},
   "outputs": [],
   "source": [
    "# Your code here\n"
   ]
  },
  {
   "cell_type": "markdown",
   "metadata": {},
   "source": [
    "### Exercise 2: Math Display\n",
    "Print the following calculations (let Python do the math):\n",
    "- 15 + 27\n",
    "- 100 - 42\n",
    "- 8 * 7\n",
    "\n",
    "Make it look nice with labels, like: `\"15 + 27 =\"` followed by the answer."
   ]
  },
  {
   "cell_type": "code",
   "execution_count": null,
   "metadata": {},
   "outputs": [],
   "source": [
    "# Your code here\n"
   ]
  },
  {
   "cell_type": "markdown",
   "metadata": {},
   "source": [
    "### Exercise 3: Create ASCII Art\n",
    "Create your own simple ASCII art! Ideas:\n",
    "- A house\n",
    "- A car\n",
    "- Your initials\n",
    "- An animal\n",
    "\n",
    "Get creative!"
   ]
  },
  {
   "cell_type": "code",
   "execution_count": null,
   "metadata": {},
   "outputs": [],
   "source": [
    "# Your ASCII art here\n"
   ]
  },
  {
   "cell_type": "markdown",
   "metadata": {},
   "source": [
    "### Exercise 4: Story Printer\n",
    "Write a short 5-line story using print statements. Make it interesting!"
   ]
  },
  {
   "cell_type": "code",
   "execution_count": null,
   "metadata": {},
   "outputs": [],
   "source": [
    "# Your story here\n"
   ]
  },
  {
   "cell_type": "markdown",
   "metadata": {},
   "source": [
    "### Exercise 5: Pattern Challenge\n",
    "Print this pattern:\n",
    "```\n",
    "*\n",
    "**\n",
    "***\n",
    "****\n",
    "*****\n",
    "```"
   ]
  },
  {
   "cell_type": "code",
   "execution_count": null,
   "metadata": {},
   "outputs": [],
   "source": [
    "# Your code here\n"
   ]
  },
  {
   "cell_type": "markdown",
   "metadata": {},
   "source": [
    "---\n",
    "## ✅ Self-Check Quiz\n",
    "\n",
    "Before moving on, make sure you can answer these:\n",
    "\n",
    "1. What function do we use to display text in Python?\n",
    "2. What are strings, and how do you write them?\n",
    "3. How do you create a comment in Python?\n",
    "4. What's the difference between `print(2 + 2)` and `print(\"2 + 2\")`?\n",
    "5. How do you print multiple items on one line?\n",
    "\n",
    "---\n",
    "\n",
    "## 🎯 Key Takeaways\n",
    "\n",
    "- `print()` displays text and numbers\n",
    "- Strings are text wrapped in quotes: `\"like this\"` or `'like this'`\n",
    "- Comments start with `#` and are ignored by Python\n",
    "- You can print multiple items separated by commas\n",
    "- Python can do math inside `print()` statements\n",
    "\n",
    "---\n",
    "\n",
    "## 🚀 Next Steps\n",
    "\n",
    "Great job! You've learned the basics of Python output. Next, you'll learn about **variables** - how to store and reuse information.\n",
    "\n",
    "Continue to: `02_variables_and_data_types.ipynb`\n",
    "\n",
    "---\n",
    "\n",
    "## 💬 Did You Know?\n",
    "\n",
    "Python was created by Guido van Rossum in 1991 and named after the comedy group \"Monty Python\" - not the snake! 🐍"
   ]
  }
 ],
 "metadata": {
  "kernelspec": {
   "display_name": "Python 3",
   "language": "python",
   "name": "python3"
  },
  "language_info": {
   "name": "python",
   "version": "3.11.0"
  }
 },
 "nbformat": 4,
 "nbformat_minor": 4
}
