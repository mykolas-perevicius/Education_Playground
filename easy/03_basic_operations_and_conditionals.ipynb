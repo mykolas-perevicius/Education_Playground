{
 "cells": [
  {
   "cell_type": "markdown",
   "metadata": {},
   "source": [
    "# Lesson 3: Basic Operations and Conditionals\n",
    "\n",
    "Learn how to perform calculations and make your code **make decisions**! This is where programming becomes truly powerful.\n",
    "\n",
    "## What You'll Learn\n",
    "- Arithmetic operations (math!)\n",
    "- Comparison operators\n",
    "- Logical operators (and, or, not)\n",
    "- If/elif/else statements\n",
    "- Decision-making patterns\n",
    "- Common pitfalls and best practices\n",
    "\n",
    "## 💡 Real-World Analogy\n",
    "Think of conditionals like everyday decisions:\n",
    "- **If** it's raining, take an umbrella\n",
    "- **If** you're hungry, eat food\n",
    "- **If** the light is red, stop; **else** go\n",
    "\n",
    "Programming works the same way - your code makes decisions based on conditions!\n",
    "\n",
    "---"
   ]
  },
  {
   "cell_type": "markdown",
   "metadata": {},
   "source": [
    "## 1. Arithmetic Operations\n",
    "\n",
    "Python is a powerful calculator! Let's explore all the math operations.\n",
    "\n",
    "### Basic Operations\n",
    "\n",
    "| Operator | Name | Example | Result |\n",
    "|----------|------|---------|--------|\n",
    "| `+` | Addition | `5 + 3` | `8` |\n",
    "| `-` | Subtraction | `10 - 4` | `6` |\n",
    "| `*` | Multiplication | `6 * 7` | `42` |\n",
    "| `/` | Division | `20 / 4` | `5.0` |\n",
    "| `//` | Floor Division | `20 // 3` | `6` |\n",
    "| `%` | Modulo (Remainder) | `20 % 3` | `2` |\n",
    "| `**` | Exponentiation | `2 ** 3` | `8` |"
   ]
  },
  {
   "cell_type": "code",
   "execution_count": null,
   "metadata": {},
   "outputs": [],
   "source": [
    "# Addition\n",
    "result = 5 + 3\n",
    "print(\"5 + 3 =\", result)\n",
    "\n",
    "# Subtraction\n",
    "result = 10 - 4\n",
    "print(\"10 - 4 =\", result)\n",
    "\n",
    "# Multiplication\n",
    "result = 6 * 7\n",
    "print(\"6 * 7 =\", result)\n",
    "\n",
    "# Division (always returns a float)\n",
    "result = 20 / 4\n",
    "print(\"20 / 4 =\", result)\n",
    "print(\"Type:\", type(result))  # Notice it's a float!"
   ]
  },
  {
   "cell_type": "markdown",
   "metadata": {},
   "source": [
    "### Special Operations"
   ]
  },
  {
   "cell_type": "code",
   "execution_count": null,
   "metadata": {},
   "outputs": [],
   "source": [
    "# Floor Division - divides and rounds DOWN to nearest integer\n",
    "print(\"20 // 3 =\", 20 // 3)  # 6, not 6.666...\n",
    "print(\"20 / 3 =\", 20 / 3)    # Compare with regular division\n",
    "\n",
    "# Modulo - gives the REMAINDER after division\n",
    "print(\"20 % 3 =\", 20 % 3)    # 2 (because 20 = 3*6 + 2)\n",
    "print(\"10 % 2 =\", 10 % 2)    # 0 (no remainder - 10 is even!)\n",
    "\n",
    "# Exponentiation - raising to a power\n",
    "print(\"2 ** 3 =\", 2 ** 3)    # 2 * 2 * 2 = 8\n",
    "print(\"10 ** 2 =\", 10 ** 2)  # 10 * 10 = 100"
   ]
  },
  {
   "cell_type": "markdown",
   "metadata": {},
   "source": [
    "### 🎯 Use Cases for Special Operations\n",
    "\n",
    "**Floor Division (`//`)**: \n",
    "- Splitting items into groups: \"How many full teams of 5 can I make from 23 people?\"\n",
    "- Converting units: \"How many hours in 135 minutes?\" → `135 // 60`\n",
    "\n",
    "**Modulo (`%`)**:\n",
    "- Check if even/odd: `number % 2 == 0` → even!\n",
    "- Cycle through values: Day of week, rotating banners\n",
    "- Get leftovers: \"23 people, teams of 5, how many left over?\" → `23 % 5`"
   ]
  },
  {
   "cell_type": "code",
   "execution_count": null,
   "metadata": {},
   "outputs": [],
   "source": [
    "# Practical example: Is a number even or odd?\n",
    "number = 42\n",
    "\n",
    "remainder = number % 2\n",
    "print(f\"{number} divided by 2 has remainder: {remainder}\")\n",
    "\n",
    "if remainder == 0:\n",
    "    print(f\"{number} is EVEN!\")\n",
    "else:\n",
    "    print(f\"{number} is ODD!\")"
   ]
  },
  {
   "cell_type": "markdown",
   "metadata": {},
   "source": [
    "---\n",
    "## 2. Order of Operations\n",
    "\n",
    "Python follows **PEMDAS** (just like math class!):\n",
    "1. **P**arentheses `()`\n",
    "2. **E**xponents `**`\n",
    "3. **M**ultiplication/Division `*`, `/`, `//`, `%` (left to right)\n",
    "4. **A**ddition/Subtraction `+`, `-` (left to right)"
   ]
  },
  {
   "cell_type": "code",
   "execution_count": null,
   "metadata": {},
   "outputs": [],
   "source": [
    "# Without parentheses\n",
    "result = 2 + 3 * 4\n",
    "print(\"2 + 3 * 4 =\", result)  # 14 (multiplication first!)\n",
    "\n",
    "# With parentheses\n",
    "result = (2 + 3) * 4\n",
    "print(\"(2 + 3) * 4 =\", result)  # 20 (parentheses first!)\n",
    "\n",
    "# Complex example\n",
    "result = 2 ** 3 + 10 / 2 - 3\n",
    "print(\"2 ** 3 + 10 / 2 - 3 =\", result)  # 8 + 5.0 - 3 = 10.0\n",
    "\n",
    "# Pro tip: Use parentheses to make your intent clear!\n",
    "result = (2 ** 3) + (10 / 2) - 3\n",
    "print(\"With clarity:\", result)  # Same result, easier to read"
   ]
  },
  {
   "cell_type": "markdown",
   "metadata": {},
   "source": [
    "### Operations with Variables"
   ]
  },
  {
   "cell_type": "code",
   "execution_count": null,
   "metadata": {},
   "outputs": [],
   "source": [
    "# Variables in calculations\n",
    "price = 19.99\n",
    "quantity = 3\n",
    "tax_rate = 0.08\n",
    "\n",
    "subtotal = price * quantity\n",
    "tax = subtotal * tax_rate\n",
    "total = subtotal + tax\n",
    "\n",
    "print(f\"Subtotal: ${subtotal:.2f}\")\n",
    "print(f\"Tax (8%): ${tax:.2f}\")\n",
    "print(f\"Total: ${total:.2f}\")"
   ]
  },
  {
   "cell_type": "markdown",
   "metadata": {},
   "source": [
    "### Compound Assignment Operators\n",
    "\n",
    "Shorthand for updating variables!"
   ]
  },
  {
   "cell_type": "code",
   "execution_count": null,
   "metadata": {},
   "outputs": [],
   "source": [
    "score = 10\n",
    "print(\"Starting score:\", score)\n",
    "\n",
    "# Instead of: score = score + 5\n",
    "score += 5  # Same as: score = score + 5\n",
    "print(\"After += 5:\", score)\n",
    "\n",
    "score -= 3  # Same as: score = score - 3\n",
    "print(\"After -= 3:\", score)\n",
    "\n",
    "score *= 2  # Same as: score = score * 2\n",
    "print(\"After *= 2:\", score)\n",
    "\n",
    "score //= 4  # Same as: score = score // 4\n",
    "print(\"After //= 4:\", score)"
   ]
  },
  {
   "cell_type": "markdown",
   "metadata": {},
   "source": [
    "---\n",
    "## 3. Comparison Operators\n",
    "\n",
    "Compare values and get **boolean results** (True or False).\n",
    "\n",
    "| Operator | Meaning | Example | Result |\n",
    "|----------|---------|---------|--------|\n",
    "| `==` | Equal to | `5 == 5` | `True` |\n",
    "| `!=` | Not equal to | `5 != 3` | `True` |\n",
    "| `>` | Greater than | `10 > 5` | `True` |\n",
    "| `<` | Less than | `3 < 8` | `True` |\n",
    "| `>=` | Greater than or equal | `5 >= 5` | `True` |\n",
    "| `<=` | Less than or equal | `4 <= 4` | `True` |"
   ]
  },
  {
   "cell_type": "code",
   "execution_count": null,
   "metadata": {},
   "outputs": [],
   "source": [
    "x = 10\n",
    "y = 5\n",
    "\n",
    "print(\"x =\", x)\n",
    "print(\"y =\", y)\n",
    "print()\n",
    "\n",
    "print(\"x > y:\", x > y)   # Greater than\n",
    "print(\"x < y:\", x < y)   # Less than\n",
    "print(\"x == y:\", x == y) # Equal to\n",
    "print(\"x != y:\", x != y) # Not equal to\n",
    "print(\"x >= y:\", x >= y) # Greater than or equal\n",
    "print(\"x <= y:\", x <= y) # Less than or equal"
   ]
  },
  {
   "cell_type": "markdown",
   "metadata": {},
   "source": [
    "### ⚠️ Common Mistake: `=` vs `==`\n",
    "\n",
    "- `=` **assigns** a value (makes something equal)\n",
    "- `==` **compares** values (checks if equal)"
   ]
  },
  {
   "cell_type": "code",
   "execution_count": null,
   "metadata": {},
   "outputs": [],
   "source": [
    "# Assignment (one equals sign)\n",
    "age = 25  # Sets age to 25\n",
    "print(\"Age is now:\", age)\n",
    "\n",
    "# Comparison (two equals signs)\n",
    "is_adult = age == 18  # Checks if age equals 18\n",
    "print(\"Is age equal to 18?\", is_adult)  # False\n",
    "\n",
    "# This is a common error:\n",
    "# if age = 18:  # ERROR! This tries to assign, not compare\n",
    "# if age == 18:  # CORRECT! This compares"
   ]
  },
  {
   "cell_type": "markdown",
   "metadata": {},
   "source": [
    "### Comparing Strings"
   ]
  },
  {
   "cell_type": "code",
   "execution_count": null,
   "metadata": {},
   "outputs": [],
   "source": [
    "# Strings can be compared too!\n",
    "name = \"Alice\"\n",
    "\n",
    "print(\"name == 'Alice':\", name == \"Alice\")   # True\n",
    "print(\"name == 'alice':\", name == \"alice\")   # False (case-sensitive!)\n",
    "print(\"name != 'Bob':\", name != \"Bob\")       # True\n",
    "\n",
    "# Strings also have ordering (alphabetical)\n",
    "print(\"'apple' < 'banana':\", \"apple\" < \"banana\")  # True (alphabetically)\n",
    "print(\"'zoo' > 'aardvark':\", \"zoo\" > \"aardvark\")  # True"
   ]
  },
  {
   "cell_type": "markdown",
   "metadata": {},
   "source": [
    "---\n",
    "## 4. Logical Operators\n",
    "\n",
    "Combine multiple conditions using logical operators:\n",
    "- `and` - **Both** conditions must be True\n",
    "- `or` - **At least one** condition must be True\n",
    "- `not` - **Reverses** the condition"
   ]
  },
  {
   "cell_type": "code",
   "execution_count": null,
   "metadata": {},
   "outputs": [],
   "source": [
    "# AND - both must be true\n",
    "age = 25\n",
    "has_license = True\n",
    "\n",
    "can_drive = age >= 16 and has_license\n",
    "print(\"Can drive?\", can_drive)  # True (both conditions met)\n",
    "\n",
    "# OR - at least one must be true\n",
    "is_weekend = True\n",
    "is_holiday = False\n",
    "\n",
    "can_sleep_in = is_weekend or is_holiday\n",
    "print(\"Can sleep in?\", can_sleep_in)  # True (weekend!)\n",
    "\n",
    "# NOT - reverses the condition\n",
    "is_raining = False\n",
    "is_sunny = not is_raining\n",
    "print(\"Is it sunny?\", is_sunny)  # True"
   ]
  },
  {
   "cell_type": "markdown",
   "metadata": {},
   "source": [
    "### Truth Tables\n",
    "\n",
    "**AND Truth Table:**\n",
    "| A | B | A and B |\n",
    "|---|---|--------|\n",
    "| True | True | **True** |\n",
    "| True | False | False |\n",
    "| False | True | False |\n",
    "| False | False | False |\n",
    "\n",
    "**OR Truth Table:**\n",
    "| A | B | A or B |\n",
    "|---|---|--------|\n",
    "| True | True | **True** |\n",
    "| True | False | **True** |\n",
    "| False | True | **True** |\n",
    "| False | False | False |"
   ]
  },
  {
   "cell_type": "code",
   "execution_count": null,
   "metadata": {},
   "outputs": [],
   "source": [
    "# Complex logical expressions\n",
    "temperature = 22\n",
    "is_sunny = True\n",
    "has_jacket = False\n",
    "\n",
    "# Good weather for a walk?\n",
    "good_for_walk = (temperature > 15 and temperature < 30) and is_sunny\n",
    "print(\"Good for a walk?\", good_for_walk)\n",
    "\n",
    "# Need to buy a jacket?\n",
    "need_jacket = (temperature < 15) and (not has_jacket)\n",
    "print(\"Need to buy a jacket?\", need_jacket)"
   ]
  },
  {
   "cell_type": "markdown",
   "metadata": {},
   "source": [
    "---\n",
    "## 5. If Statements\n",
    "\n",
    "Make decisions in your code! The basic syntax:\n",
    "\n",
    "```python\n",
    "if condition:\n",
    "    # Code to run if condition is True\n",
    "```\n",
    "\n",
    "**Important**: Notice the **colon `:` and indentation**! Python uses indentation to group code."
   ]
  },
  {
   "cell_type": "code",
   "execution_count": null,
   "metadata": {},
   "outputs": [],
   "source": [
    "# Simple if statement\n",
    "age = 20\n",
    "\n",
    "if age >= 18:\n",
    "    print(\"You are an adult!\")\n",
    "    print(\"You can vote!\")\n",
    "\n",
    "print(\"This always prints (not indented)\")"
   ]
  },
  {
   "cell_type": "markdown",
   "metadata": {},
   "source": [
    "### If-Else Statements\n",
    "\n",
    "Do one thing if True, another if False:"
   ]
  },
  {
   "cell_type": "code",
   "execution_count": null,
   "metadata": {},
   "outputs": [],
   "source": [
    "age = 15\n",
    "\n",
    "if age >= 18:\n",
    "    print(\"You are an adult!\")\n",
    "else:\n",
    "    print(\"You are a minor.\")\n",
    "    years_until_adult = 18 - age\n",
    "    print(f\"You'll be an adult in {years_until_adult} years.\")"
   ]
  },
  {
   "cell_type": "markdown",
   "metadata": {},
   "source": [
    "### If-Elif-Else Statements\n",
    "\n",
    "Check **multiple conditions** in order:"
   ]
  },
  {
   "cell_type": "code",
   "execution_count": null,
   "metadata": {},
   "outputs": [],
   "source": [
    "score = 85\n",
    "\n",
    "if score >= 90:\n",
    "    grade = \"A\"\n",
    "elif score >= 80:\n",
    "    grade = \"B\"\n",
    "elif score >= 70:\n",
    "    grade = \"C\"\n",
    "elif score >= 60:\n",
    "    grade = \"D\"\n",
    "else:\n",
    "    grade = \"F\"\n",
    "\n",
    "print(f\"Score: {score}\")\n",
    "print(f\"Grade: {grade}\")"
   ]
  },
  {
   "cell_type": "markdown",
   "metadata": {},
   "source": [
    "### 🔍 How If-Elif-Else Works\n",
    "\n",
    "Python checks conditions **in order** and stops at the **first True** condition:\n",
    "\n",
    "1. Checks `if` condition\n",
    "   - If True → runs that block and **stops**\n",
    "   - If False → checks next `elif`\n",
    "2. Checks each `elif` condition in order\n",
    "   - If True → runs that block and **stops**\n",
    "   - If False → checks next `elif`\n",
    "3. If all are False → runs `else` block (if present)"
   ]
  },
  {
   "cell_type": "code",
   "execution_count": null,
   "metadata": {},
   "outputs": [],
   "source": [
    "# Temperature checker\n",
    "temperature = 25\n",
    "\n",
    "if temperature > 30:\n",
    "    print(\"It's hot! 🌞\")\n",
    "elif temperature > 20:\n",
    "    print(\"It's comfortable! 😊\")\n",
    "elif temperature > 10:\n",
    "    print(\"It's cool. 🍂\")\n",
    "else:\n",
    "    print(\"It's cold! ❄️\")"
   ]
  },
  {
   "cell_type": "markdown",
   "metadata": {},
   "source": [
    "---\n",
    "## 6. Nested Conditionals\n",
    "\n",
    "You can put if statements **inside** other if statements!"
   ]
  },
  {
   "cell_type": "code",
   "execution_count": null,
   "metadata": {},
   "outputs": [],
   "source": [
    "age = 20\n",
    "has_ticket = True\n",
    "\n",
    "if age >= 18:\n",
    "    print(\"You're old enough to enter the concert.\")\n",
    "    if has_ticket:\n",
    "        print(\"You have a ticket! Enjoy the show! 🎵\")\n",
    "    else:\n",
    "        print(\"But you need to buy a ticket first.\")\n",
    "else:\n",
    "    print(\"Sorry, you must be 18 or older.\")"
   ]
  },
  {
   "cell_type": "markdown",
   "metadata": {},
   "source": [
    "### 💡 Tip: Use `and` Instead of Nesting When Possible\n",
    "\n",
    "These are equivalent, but the second is cleaner:"
   ]
  },
  {
   "cell_type": "code",
   "execution_count": null,
   "metadata": {},
   "outputs": [],
   "source": [
    "# Nested (harder to read)\n",
    "if age >= 18:\n",
    "    if has_ticket:\n",
    "        print(\"Welcome!\")\n",
    "\n",
    "# Better: use 'and' (cleaner)\n",
    "if age >= 18 and has_ticket:\n",
    "    print(\"Welcome!\")"
   ]
  },
  {
   "cell_type": "markdown",
   "metadata": {},
   "source": [
    "---\n",
    "## 7. Truthiness and Falsiness\n",
    "\n",
    "In Python, **any value** can be used in a condition. Some values are considered \"truthy\" or \"falsy\".\n",
    "\n",
    "### Falsy Values (evaluate to False):\n",
    "- `False` (the boolean)\n",
    "- `0` (zero)\n",
    "- `0.0` (zero float)\n",
    "- `\"\"` (empty string)\n",
    "- `[]` (empty list)\n",
    "- `None`\n",
    "\n",
    "### Truthy Values (evaluate to True):\n",
    "- **Everything else!**\n",
    "- `True`, any non-zero number, any non-empty string/list"
   ]
  },
  {
   "cell_type": "code",
   "execution_count": null,
   "metadata": {},
   "outputs": [],
   "source": [
    "# Examples of truthy/falsy\n",
    "name = \"Alice\"\n",
    "\n",
    "if name:\n",
    "    print(f\"Hello, {name}!\")\n",
    "else:\n",
    "    print(\"No name provided.\")\n",
    "\n",
    "# Try with empty string\n",
    "name = \"\"\n",
    "\n",
    "if name:\n",
    "    print(f\"Hello, {name}!\")\n",
    "else:\n",
    "    print(\"No name provided.\")  # This will print!"
   ]
  },
  {
   "cell_type": "code",
   "execution_count": null,
   "metadata": {},
   "outputs": [],
   "source": [
    "# Checking if a number is non-zero\n",
    "score = 0\n",
    "\n",
    "if score:\n",
    "    print(\"You scored points!\")\n",
    "else:\n",
    "    print(\"No points yet.\")  # This prints (0 is falsy)"
   ]
  },
  {
   "cell_type": "markdown",
   "metadata": {},
   "source": [
    "---\n",
    "## 8. Practical Examples\n",
    "\n",
    "Let's apply what we've learned to real-world scenarios!"
   ]
  },
  {
   "cell_type": "code",
   "execution_count": null,
   "metadata": {},
   "outputs": [],
   "source": [
    "# Example 1: Login validator\n",
    "username = \"alice\"\n",
    "password = \"secret123\"\n",
    "\n",
    "correct_username = \"alice\"\n",
    "correct_password = \"secret123\"\n",
    "\n",
    "if username == correct_username and password == correct_password:\n",
    "    print(\"✅ Login successful!\")\n",
    "else:\n",
    "    print(\"❌ Invalid username or password.\")"
   ]
  },
  {
   "cell_type": "code",
   "execution_count": null,
   "metadata": {},
   "outputs": [],
   "source": [
    "# Example 2: Discount calculator\n",
    "price = 100\n",
    "is_member = True\n",
    "quantity = 5\n",
    "\n",
    "# Calculate discount\n",
    "if is_member:\n",
    "    discount = 0.10  # 10% discount\n",
    "else:\n",
    "    discount = 0\n",
    "\n",
    "# Bulk discount\n",
    "if quantity >= 10:\n",
    "    discount += 0.05  # Additional 5% for bulk\n",
    "\n",
    "final_price = price * quantity * (1 - discount)\n",
    "\n",
    "print(f\"Items: {quantity}\")\n",
    "print(f\"Price each: ${price}\")\n",
    "print(f\"Discount: {discount * 100}%\")\n",
    "print(f\"Total: ${final_price:.2f}\")"
   ]
  },
  {
   "cell_type": "code",
   "execution_count": null,
   "metadata": {},
   "outputs": [],
   "source": [
    "# Example 3: BMI Calculator with categories\n",
    "weight_kg = 70\n",
    "height_m = 1.75\n",
    "\n",
    "bmi = weight_kg / (height_m ** 2)\n",
    "\n",
    "print(f\"Your BMI: {bmi:.1f}\")\n",
    "\n",
    "if bmi < 18.5:\n",
    "    category = \"Underweight\"\n",
    "elif bmi < 25:\n",
    "    category = \"Normal weight\"\n",
    "elif bmi < 30:\n",
    "    category = \"Overweight\"\n",
    "else:\n",
    "    category = \"Obese\"\n",
    "\n",
    "print(f\"Category: {category}\")"
   ]
  },
  {
   "cell_type": "markdown",
   "metadata": {},
   "source": [
    "---\n",
    "## 9. Common Mistakes\n",
    "\n",
    "Watch out for these pitfalls!"
   ]
  },
  {
   "cell_type": "code",
   "execution_count": null,
   "metadata": {},
   "outputs": [],
   "source": [
    "# Mistake 1: Forgetting the colon\n",
    "# if age >= 18  # ERROR: Missing colon!\n",
    "#     print(\"Adult\")\n",
    "\n",
    "# Correct:\n",
    "age = 20\n",
    "if age >= 18:  # Don't forget the colon!\n",
    "    print(\"Adult\")"
   ]
  },
  {
   "cell_type": "code",
   "execution_count": null,
   "metadata": {},
   "outputs": [],
   "source": [
    "# Mistake 2: Wrong indentation\n",
    "if age >= 18:\n",
    "print(\"This will error!\")  # ERROR: Not indented!\n",
    "\n",
    "# Correct:\n",
    "if age >= 18:\n",
    "    print(\"This works!\")  # Must be indented!"
   ]
  },
  {
   "cell_type": "code",
   "execution_count": null,
   "metadata": {},
   "outputs": [],
   "source": [
    "# Mistake 3: Using = instead of ==\n",
    "age = 25\n",
    "\n",
    "# if age = 18:  # ERROR: Assignment, not comparison!\n",
    "#     print(\"18 years old\")\n",
    "\n",
    "# Correct:\n",
    "if age == 18:  # Use == to compare!\n",
    "    print(\"18 years old\")"
   ]
  },
  {
   "cell_type": "code",
   "execution_count": null,
   "metadata": {},
   "outputs": [],
   "source": [
    "# Mistake 4: Order matters in elif chains!\n",
    "score = 95\n",
    "\n",
    "# BAD: The first condition catches everything!\n",
    "if score >= 60:\n",
    "    print(\"You passed!\")  # This will print for 95\n",
    "elif score >= 90:\n",
    "    print(\"Excellent!\")  # This never runs!\n",
    "\n",
    "# GOOD: Most specific conditions first!\n",
    "if score >= 90:\n",
    "    print(\"Excellent!\")  # This prints for 95\n",
    "elif score >= 60:\n",
    "    print(\"You passed!\")"
   ]
  },
  {
   "cell_type": "markdown",
   "metadata": {},
   "source": [
    "---\n",
    "## 📝 Exercises\n",
    "\n",
    "### Exercise 1: Calculator\n",
    "Create variables for two numbers and perform all arithmetic operations on them. Print the results with labels."
   ]
  },
  {
   "cell_type": "code",
   "execution_count": null,
   "metadata": {},
   "outputs": [],
   "source": [
    "# Your code here\n"
   ]
  },
  {
   "cell_type": "markdown",
   "metadata": {},
   "source": [
    "### Exercise 2: Even or Odd\n",
    "Create a program that:\n",
    "1. Stores a number in a variable\n",
    "2. Uses the modulo operator to check if it's even or odd\n",
    "3. Prints \"Even!\" or \"Odd!\" accordingly"
   ]
  },
  {
   "cell_type": "code",
   "execution_count": null,
   "metadata": {},
   "outputs": [],
   "source": [
    "# Your code here\n"
   ]
  },
  {
   "cell_type": "markdown",
   "metadata": {},
   "source": [
    "### Exercise 3: Temperature Checker\n",
    "Create a program that:\n",
    "1. Stores a temperature value\n",
    "2. Prints \"It's hot!\" if temperature is above 30\n",
    "3. Prints \"It's cold!\" if temperature is below 10\n",
    "4. Prints \"It's comfortable!\" otherwise"
   ]
  },
  {
   "cell_type": "code",
   "execution_count": null,
   "metadata": {},
   "outputs": [],
   "source": [
    "# Your code here\n"
   ]
  },
  {
   "cell_type": "markdown",
   "metadata": {},
   "source": [
    "### Exercise 4: Age Categorizer\n",
    "Write a program that categorizes age into:\n",
    "- \"Child\" (0-12)\n",
    "- \"Teenager\" (13-19)\n",
    "- \"Adult\" (20-64)\n",
    "- \"Senior\" (65+)\n",
    "\n",
    "Print the category for a given age."
   ]
  },
  {
   "cell_type": "code",
   "execution_count": null,
   "metadata": {},
   "outputs": [],
   "source": [
    "# Your code here\n"
   ]
  },
  {
   "cell_type": "markdown",
   "metadata": {},
   "source": [
    "### Exercise 5: Login System\n",
    "Create a simple login checker:\n",
    "1. Set correct username and password as variables\n",
    "2. Create user input variables for entered username and password\n",
    "3. Check if both match using `and`\n",
    "4. Print \"Login successful!\" or \"Invalid credentials\""
   ]
  },
  {
   "cell_type": "code",
   "execution_count": null,
   "metadata": {},
   "outputs": [],
   "source": [
    "# Your code here\n"
   ]
  },
  {
   "cell_type": "markdown",
   "metadata": {},
   "source": [
    "### Exercise 6: Ticket Pricing\n",
    "Create a movie ticket price calculator:\n",
    "- Base price: $15\n",
    "- Children (under 12): 50% discount\n",
    "- Seniors (65+): 30% discount\n",
    "- Adults: Full price\n",
    "- Weekend: Add $3 to any ticket\n",
    "\n",
    "Given an age and whether it's a weekend, calculate and print the ticket price."
   ]
  },
  {
   "cell_type": "code",
   "execution_count": null,
   "metadata": {},
   "outputs": [],
   "source": [
    "# Your code here\n"
   ]
  },
  {
   "cell_type": "markdown",
   "metadata": {},
   "source": [
    "---\n",
    "## ✅ Self-Check Quiz\n",
    "\n",
    "Before moving on, make sure you can answer these:\n",
    "\n",
    "1. What's the difference between `/` and `//`?\n",
    "2. What does the `%` operator do?\n",
    "3. What's the difference between `=` and `==`?\n",
    "4. What are the three logical operators?\n",
    "5. What does `and` require to return True?\n",
    "6. What does `or` require to return True?\n",
    "7. Why is the colon `:` important in if statements?\n",
    "8. What happens if you don't indent code after an if statement?\n",
    "9. In an if-elif-else chain, can multiple blocks run?\n",
    "10. Name three \"falsy\" values in Python.\n",
    "\n",
    "---\n",
    "\n",
    "## 🎯 Key Takeaways\n",
    "\n",
    "- **Arithmetic operators**: `+`, `-`, `*`, `/`, `//`, `%`, `**`\n",
    "- **Comparison operators**: `==`, `!=`, `>`, `<`, `>=`, `<=` (return True/False)\n",
    "- **Logical operators**: `and` (both), `or` (at least one), `not` (reverse)\n",
    "- **If statements** make decisions based on conditions\n",
    "- **Elif** checks multiple conditions in order\n",
    "- **Else** runs when all conditions are False\n",
    "- **Indentation matters!** It defines code blocks\n",
    "- Only **one block** runs in an if-elif-else chain\n",
    "- Some values are **truthy** (True-like) or **falsy** (False-like)\n",
    "\n",
    "---\n",
    "\n",
    "## 🚀 Next Steps\n",
    "\n",
    "Excellent work! You now know how to:\n",
    "- Perform calculations in Python\n",
    "- Compare values\n",
    "- Make your code make decisions!\n",
    "\n",
    "These are the building blocks of **all programs**. Every app, website, and game uses conditionals!\n",
    "\n",
    "Next, you'll explore different topics based on your interests:\n",
    "- **AI & ML Track**: `04_intro_to_ai_and_ml.ipynb`\n",
    "- **Computing Fundamentals**: `05_computing_fundamentals.ipynb`\n",
    "- **Continue Python**: Move to Medium level for loops and functions!\n",
    "\n",
    "---\n",
    "\n",
    "## 💡 Pro Tips\n",
    "\n",
    "1. **Use parentheses** in complex expressions for clarity\n",
    "2. **Order matters** in elif chains - put most specific conditions first\n",
    "3. **Use `and`** instead of nesting when possible\n",
    "4. **Remember**: One `=` assigns, two `==` compares\n",
    "5. **Modulo (`%`)** is your friend for even/odd checks and cycles\n",
    "6. **Compound operators** (`+=`, `-=`) make code cleaner\n",
    "7. **Test edge cases**: What happens with 0? Negative numbers? Empty strings?\n",
    "8. **Comment complex conditions** to explain the logic"
   ]
  }
 ],
 "metadata": {
  "kernelspec": {
   "display_name": "Python 3",
   "language": "python",
   "name": "python3"
  },
  "language_info": {
   "name": "python",
   "version": "3.10.0"
  }
 },
 "nbformat": 4,
 "nbformat_minor": 2
}
