{
 "cells": [
  {
   "cell_type": "markdown",
   "metadata": {},
   "source": [
    "# Lesson 3: Basic Operations and Conditionals\n",
    "\n",
    "Learn how to perform calculations and make decisions in your code!\n",
    "\n",
    "## What You'll Learn\n",
    "- Mathematical operations\n",
    "- Comparison operators\n",
    "- If statements for decision making"
   ]
  },
  {
   "cell_type": "markdown",
   "metadata": {},
   "source": [
    "## Mathematical Operations\n",
    "\n",
    "Python can perform basic math operations:"
   ]
  },
  {
   "cell_type": "code",
   "execution_count": null,
   "metadata": {},
   "outputs": [],
   "source": [
    "# Addition\n",
    "result = 5 + 3\n",
    "print(\"5 + 3 =\", result)\n",
    "\n",
    "# Subtraction\n",
    "result = 10 - 4\n",
    "print(\"10 - 4 =\", result)\n",
    "\n",
    "# Multiplication\n",
    "result = 6 * 7\n",
    "print(\"6 * 7 =\", result)\n",
    "\n",
    "# Division\n",
    "result = 20 / 4\n",
    "print(\"20 / 4 =\", result)"
   ]
  },
  {
   "cell_type": "markdown",
   "metadata": {},
   "source": [
    "## Comparison Operators\n",
    "\n",
    "Compare values using these operators:"
   ]
  },
  {
   "cell_type": "code",
   "execution_count": null,
   "metadata": {},
   "outputs": [],
   "source": [
    "x = 10\n",
    "y = 5\n",
    "\n",
    "print(\"x > y:\", x > y)   # Greater than\n",
    "print(\"x < y:\", x < y)   # Less than\n",
    "print(\"x == y:\", x == y) # Equal to\n",
    "print(\"x != y:\", x != y) # Not equal to"
   ]
  },
  {
   "cell_type": "markdown",
   "metadata": {},
   "source": [
    "## If Statements\n",
    "\n",
    "Make decisions in your code using if statements:"
   ]
  },
  {
   "cell_type": "code",
   "execution_count": null,
   "metadata": {},
   "outputs": [],
   "source": [
    "age = 18\n",
    "\n",
    "if age >= 18:\n",
    "    print(\"You are an adult!\")\n",
    "else:\n",
    "    print(\"You are a minor.\")"
   ]
  },
  {
   "cell_type": "markdown",
   "metadata": {},
   "source": [
    "## Exercise\n",
    "\n",
    "Create a program that:\n",
    "1. Stores a temperature value\n",
    "2. Prints \"It's hot!\" if temperature is above 30\n",
    "3. Prints \"It's cold!\" if temperature is below 10\n",
    "4. Prints \"It's comfortable!\" otherwise"
   ]
  },
  {
   "cell_type": "code",
   "execution_count": null,
   "metadata": {},
   "outputs": [],
   "source": [
    "# Your code here\ntemperature = 25\n\n"
   ]
  }
 ],
 "metadata": {
  "kernelspec": {
   "display_name": "Python 3",
   "language": "python",
   "name": "python3"
  },
  "language_info": {
   "name": "python",
   "version": "3.8.0"
  }
 },
 "nbformat": 4,
 "nbformat_minor": 4
}
