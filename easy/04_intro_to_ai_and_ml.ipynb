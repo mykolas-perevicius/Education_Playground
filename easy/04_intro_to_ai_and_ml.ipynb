{
 "cells": [
  {
   "cell_type": "markdown",
   "metadata": {},
   "source": [
    "# Lesson 4: Introduction to AI and Machine Learning\n",
    "\n",
    "Artificial Intelligence (AI) is everywhere! From voice assistants to recommendation systems, let's explore what AI is and how it works.\n",
    "\n",
    "## What You'll Learn\n",
    "- What is Artificial Intelligence?\n",
    "- What is Machine Learning?\n",
    "- Simple AI concepts with Python\n",
    "- Your first AI program"
   ]
  },
  {
   "cell_type": "markdown",
   "metadata": {},
   "source": [
    "## What is Artificial Intelligence?\n",
    "\n",
    "**Artificial Intelligence (AI)** is when computers can perform tasks that normally require human intelligence:\n",
    "- Recognizing faces in photos\n",
    "- Understanding speech\n",
    "- Playing games like chess\n",
    "- Recommending movies you might like\n",
    "\n",
    "**Machine Learning (ML)** is a type of AI where computers learn from examples instead of being explicitly programmed."
   ]
  },
  {
   "cell_type": "markdown",
   "metadata": {},
   "source": [
    "## Simple Pattern Recognition\n",
    "\n",
    "Let's create a simple program that \"learns\" to recognize patterns:"
   ]
  },
  {
   "cell_type": "code",
   "execution_count": null,
   "metadata": {},
   "outputs": [],
   "source": [
    "# A simple rule-based AI that predicts if a number is \"big\" or \"small\"\n",
    "def classify_number(number):\n",
    "    \"\"\"A simple AI that classifies numbers.\"\"\"\n",
    "    if number > 50:\n",
    "        return \"BIG\"\n",
    "    else:\n",
    "        return \"SMALL\"\n",
    "\n",
    "# Test our simple AI\n",
    "test_numbers = [10, 75, 30, 100, 5]\n",
    "for num in test_numbers:\n",
    "    prediction = classify_number(num)\n",
    "    print(f\"Number {num} is classified as: {prediction}\")"
   ]
  },
  {
   "cell_type": "markdown",
   "metadata": {},
   "source": [
    "## Learning from Examples\n",
    "\n",
    "Real AI learns from data. Let's see a simple example:"
   ]
  },
  {
   "cell_type": "code",
   "execution_count": null,
   "metadata": {},
   "outputs": [],
   "source": [
    "# Training data: hours studied -> grade\n",
    "study_hours = [1, 2, 3, 4, 5, 6, 7, 8]\n",
    "grades = [50, 55, 60, 65, 70, 75, 80, 85]\n",
    "\n",
    "# Simple prediction function (finds average increase per hour)\n",
    "def predict_grade(hours):\n",
    "    \"\"\"Predict grade based on study hours using a simple pattern.\"\"\"\n",
    "    # Pattern: each hour of study increases grade by ~5 points\n",
    "    # Starting from base grade of 45\n",
    "    base_grade = 45\n",
    "    grade_per_hour = 5\n",
    "    return base_grade + (hours * grade_per_hour)\n",
    "\n",
    "# Test predictions\n",
    "print(\"Predictions:\")\n",
    "for hours in [2, 5, 9]:\n",
    "    predicted = predict_grade(hours)\n",
    "    print(f\"If you study {hours} hours, predicted grade: {predicted}\")"
   ]
  },
  {
   "cell_type": "markdown",
   "metadata": {},
   "source": [
    "## Simple Recommendation System\n",
    "\n",
    "Let's build a basic recommendation system:"
   ]
  },
  {
   "cell_type": "code",
   "execution_count": null,
   "metadata": {},
   "outputs": [],
   "source": [
    "# Movie preferences\n",
    "movies = {\n",
    "    \"Action Movies\": [\"Die Hard\", \"Mad Max\", \"John Wick\"],\n",
    "    \"Comedy Movies\": [\"Superbad\", \"The Hangover\", \"Bridesmaids\"],\n",
    "    \"Sci-Fi Movies\": [\"Inception\", \"The Matrix\", \"Interstellar\"]\n",
    "}\n",
    "\n",
    "def recommend_movie(favorite_genre):\n",
    "    \"\"\"Simple AI that recommends a movie based on genre preference.\"\"\"\n",
    "    if favorite_genre in movies:\n",
    "        recommendations = movies[favorite_genre]\n",
    "        print(f\"Since you like {favorite_genre}, you might enjoy:\")\n",
    "        for movie in recommendations:\n",
    "            print(f\"  - {movie}\")\n",
    "    else:\n",
    "        print(\"Genre not found. Try: Action Movies, Comedy Movies, or Sci-Fi Movies\")\n",
    "\n",
    "# Test the recommender\n",
    "recommend_movie(\"Action Movies\")\n",
    "print()\n",
    "recommend_movie(\"Sci-Fi Movies\")"
   ]
  },
  {
   "cell_type": "markdown",
   "metadata": {},
   "source": [
    "## Understanding AI Terms\n",
    "\n",
    "- **Training**: Teaching an AI by showing it examples\n",
    "- **Prediction**: When AI makes a guess about new data\n",
    "- **Pattern**: A repeating relationship in data\n",
    "- **Model**: The AI's learned understanding of patterns\n",
    "- **Data**: Information used to train AI"
   ]
  },
  {
   "cell_type": "markdown",
   "metadata": {},
   "source": [
    "## Exercise\n",
    "\n",
    "Create a simple AI that:\n",
    "1. Takes a person's age as input\n",
    "2. Recommends an activity (e.g., \"Play in park\" for kids, \"Go to college\" for teens, \"Work\" for adults)\n",
    "3. Test it with different ages"
   ]
  },
  {
   "cell_type": "code",
   "execution_count": null,
   "metadata": {},
   "outputs": [],
   "source": [
    "# Your code here\ndef recommend_activity(age):\n",
    "    pass  # Replace with your code\n",
    "\n",
    "# Test your AI\n",
    "test_ages = [5, 15, 25, 65]\n",
    "for age in test_ages:\n",
    "    print(f\"Age {age}: {recommend_activity(age)}\")"
   ]
  },
  {
   "cell_type": "markdown",
   "metadata": {},
   "source": [
    "## Fun Fact\n",
    "\n",
    "The first AI program was written in 1951 by Christopher Strachey - it played checkers! Today's AI can do much more complex things, but it all started with simple programs like the ones you just wrote."
   ]
  }
 ],
 "metadata": {
  "kernelspec": {
   "display_name": "Python 3",
   "language": "python",
   "name": "python3"
  },
  "language_info": {
   "name": "python",
   "version": "3.8.0"
  }
 },
 "nbformat": 4,
 "nbformat_minor": 4
}
