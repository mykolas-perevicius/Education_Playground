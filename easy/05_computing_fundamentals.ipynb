{
 "cells": [
  {
   "cell_type": "markdown",
   "metadata": {},
   "source": [
    "# Lesson 5: Computing Fundamentals\n",
    "\n",
    "Ever wondered how computers actually work? Let's explore the basics of computing!\n",
    "\n",
    "## What You'll Learn\n",
    "- How computers store information\n",
    "- Binary numbers (0s and 1s)\n",
    "- How computers think\n",
    "- Text encoding"
   ]
  },
  {
   "cell_type": "markdown",
   "metadata": {},
   "source": [
    "## How Computers Store Information\n",
    "\n",
    "Computers only understand two things: **0** and **1**\n",
    "\n",
    "- **0** means \"OFF\" (no electricity)\n",
    "- **1** means \"ON\" (electricity flowing)\n",
    "\n",
    "This is called **binary** - a number system with only two digits!"
   ]
  },
  {
   "cell_type": "markdown",
   "metadata": {},
   "source": [
    "## Binary Numbers\n",
    "\n",
    "Let's convert between binary and regular numbers:"
   ]
  },
  {
   "cell_type": "code",
   "execution_count": null,
   "metadata": {},
   "outputs": [],
   "source": [
    "# Convert regular number to binary\n",
    "number = 10\n",
    "binary = bin(number)  # bin() converts to binary\n",
    "print(f\"The number {number} in binary is: {binary}\")\n",
    "\n",
    "# Convert binary to regular number\n",
    "binary_string = \"0b1010\"  # 0b means binary\n",
    "decimal = int(binary_string, 2)  # Convert from base 2\n",
    "print(f\"The binary {binary_string} in decimal is: {decimal}\")\n",
    "\n",
    "# Try more numbers\n",
    "for num in [1, 2, 5, 16, 100]:\n",
    "    print(f\"{num} in binary: {bin(num)}\")"
   ]
  },
  {
   "cell_type": "markdown",
   "metadata": {},
   "source": [
    "## How Binary Works\n",
    "\n",
    "Each position in binary represents a power of 2:\n",
    "\n",
    "```\n",
    "Binary:  1  0  1  0\n",
    "Value:   8  4  2  1\n",
    "Result:  8 +0 +2 +0 = 10\n",
    "```"
   ]
  },
  {
   "cell_type": "code",
   "execution_count": null,
   "metadata": {},
   "outputs": [],
   "source": [
    "# Let's manually convert binary to decimal\n",
    "def binary_to_decimal(binary_string):\n",
    "    \"\"\"Convert binary string to decimal number.\"\"\"\n",
    "    # Remove '0b' prefix if present\n",
    "    binary_string = binary_string.replace('0b', '')\n",
    "    \n",
    "    decimal = 0\n",
    "    position = 0\n",
    "    \n",
    "    # Read binary from right to left\n",
    "    for digit in reversed(binary_string):\n",
    "        if digit == '1':\n",
    "            decimal += 2 ** position\n",
    "        position += 1\n",
    "    \n",
    "    return decimal\n",
    "\n",
    "# Test it\n",
    "test_binary = \"1010\"\n",
    "print(f\"Binary {test_binary} = {binary_to_decimal(test_binary)}\")\n",
    "\n",
    "test_binary = \"1111\"\n",
    "print(f\"Binary {test_binary} = {binary_to_decimal(test_binary)}\")"
   ]
  },
  {
   "cell_type": "markdown",
   "metadata": {},
   "source": [
    "## How Computers Store Text\n",
    "\n",
    "Computers store letters as numbers using **ASCII** codes:"
   ]
  },
  {
   "cell_type": "code",
   "execution_count": null,
   "metadata": {},
   "outputs": [],
   "source": [
    "# Get ASCII code for a character\n",
    "letter = 'A'\n",
    "code = ord(letter)  # ord() gets the ASCII code\n",
    "print(f\"The letter '{letter}' has ASCII code: {code}\")\n",
    "print(f\"In binary: {bin(code)}\")\n",
    "\n",
    "# Convert ASCII code back to letter\n",
    "code = 65\n",
    "letter = chr(code)  # chr() converts code to character\n",
    "print(f\"\\nASCII code {code} represents: '{letter}'\")\n",
    "\n",
    "# Print ASCII codes for your name\n",
    "name = \"HELLO\"\n",
    "print(f\"\\nASCII codes for '{name}':\")\n",
    "for char in name:\n",
    "    print(f\"  {char} = {ord(char)}\")"
   ]
  },
  {
   "cell_type": "markdown",
   "metadata": {},
   "source": [
    "## Bits and Bytes\n",
    "\n",
    "- **Bit**: A single 0 or 1 (the smallest unit)\n",
    "- **Byte**: 8 bits together (can store numbers 0-255)\n",
    "- **Kilobyte (KB)**: 1,024 bytes\n",
    "- **Megabyte (MB)**: 1,024 kilobytes\n",
    "- **Gigabyte (GB)**: 1,024 megabytes"
   ]
  },
  {
   "cell_type": "code",
   "execution_count": null,
   "metadata": {},
   "outputs": [],
   "source": [
    "# Calculate storage sizes\n",
    "def bytes_to_readable(bytes_count):\n",
    "    \"\"\"Convert bytes to human-readable format.\"\"\"\n",
    "    if bytes_count < 1024:\n",
    "        return f\"{bytes_count} bytes\"\n",
    "    elif bytes_count < 1024 * 1024:\n",
    "        return f\"{bytes_count / 1024:.2f} KB\"\n",
    "    elif bytes_count < 1024 * 1024 * 1024:\n",
    "        return f\"{bytes_count / (1024 * 1024):.2f} MB\"\n",
    "    else:\n",
    "        return f\"{bytes_count / (1024 * 1024 * 1024):.2f} GB\"\n",
    "\n",
    "# Test with different sizes\n",
    "print(bytes_to_readable(500))\n",
    "print(bytes_to_readable(50000))\n",
    "print(bytes_to_readable(5000000))\n",
    "print(bytes_to_readable(5000000000))"
   ]
  },
  {
   "cell_type": "markdown",
   "metadata": {},
   "source": [
    "## How Computers Process Information\n",
    "\n",
    "Computers follow these basic steps:\n",
    "\n",
    "1. **Input**: Get data (keyboard, mouse, etc.)\n",
    "2. **Process**: Perform calculations\n",
    "3. **Store**: Save in memory\n",
    "4. **Output**: Display results (screen, printer, etc.)"
   ]
  },
  {
   "cell_type": "markdown",
   "metadata": {},
   "source": [
    "## Exercise\n",
    "\n",
    "Create a program that:\n",
    "1. Takes a word as input\n",
    "2. Converts each letter to its ASCII code\n",
    "3. Shows each ASCII code in binary\n",
    "4. Calculates how many bits are needed to store the word"
   ]
  },
  {
   "cell_type": "code",
   "execution_count": null,
   "metadata": {},
   "outputs": [],
   "source": [
    "# Your code here\ndef analyze_word(word):\n",
    "    pass  # Replace with your code\n",
    "\n",
    "# Test your function\n",
    "analyze_word(\"CODE\")"
   ]
  },
  {
   "cell_type": "markdown",
   "metadata": {},
   "source": [
    "## Fun Facts\n",
    "\n",
    "- A single emoji can take up to 4 bytes!\n",
    "- The first computer (ENIAC, 1945) weighed 30 tons\n",
    "- Your smartphone has more computing power than all of NASA in 1969 when they put a man on the moon!"
   ]
  }
 ],
 "metadata": {
  "kernelspec": {
   "display_name": "Python 3",
   "language": "python",
   "name": "python3"
  },
  "language_info": {
   "name": "python",
   "version": "3.8.0"
  }
 },
 "nbformat": 4,
 "nbformat_minor": 4
}
