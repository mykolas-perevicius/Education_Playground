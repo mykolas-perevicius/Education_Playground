{
 "cells": [
  {
   "cell_type": "markdown",
   "metadata": {},
   "source": [
    "# Lesson 2: Variables and Data Types\n",
    "\n",
    "Variables are like **labeled boxes** that store information. They're one of the most fundamental concepts in programming!\n",
    "\n",
    "## What You'll Learn\n",
    "- Creating and naming variables\n",
    "- Understanding different data types\n",
    "- Type checking and conversion\n",
    "- Variable operations and best practices\n",
    "\n",
    "## 💡 Real-World Analogy\n",
    "Think of variables like labeled storage containers:\n",
    "- The **label** is the variable name (e.g., `age`)\n",
    "- The **contents** are the value (e.g., `25`)\n",
    "- The **type of container** determines what you can store (numbers, text, etc.)\n",
    "\n",
    "---"
   ]
  },
  {
   "cell_type": "markdown",
   "metadata": {},
   "source": [
    "## 1. Creating Your First Variables\n",
    "\n",
    "A variable is created when you assign a value using the `=` sign.\n",
    "\n",
    "**Syntax**: `variable_name = value`"
   ]
  },
  {
   "cell_type": "code",
   "execution_count": null,
   "metadata": {},
   "outputs": [],
   "source": [
    "# Creating variables\n",
    "name = \"Alice\"\n",
    "age = 25\n",
    "height = 5.6\n",
    "is_student = True\n",
    "\n",
    "# Display the variables\n",
    "print(\"Name:\", name)\n",
    "print(\"Age:\", age)\n",
    "print(\"Height:\", height)\n",
    "print(\"Is student:\", is_student)"
   ]
  },
  {
   "cell_type": "markdown",
   "metadata": {},
   "source": [
    "### 📝 Variable Naming Rules\n",
    "\n",
    "**Rules you MUST follow:**\n",
    "- Can contain letters, numbers, and underscores\n",
    "- Must start with a letter or underscore (not a number)\n",
    "- Case-sensitive (`age` and `Age` are different!)\n",
    "- Cannot use Python keywords (`if`, `for`, `while`, etc.)\n",
    "\n",
    "**Good naming conventions:**\n",
    "- Use lowercase with underscores: `user_name`, `total_score`\n",
    "- Be descriptive: `age` is better than `a`\n",
    "- Avoid single letters (except for loops: `i`, `j`, `k`)"
   ]
  },
  {
   "cell_type": "code",
   "execution_count": null,
   "metadata": {},
   "outputs": [],
   "source": [
    "# Good variable names\n",
    "user_name = \"Bob\"\n",
    "total_score = 100\n",
    "is_valid = True\n",
    "\n",
    "# Bad variable names (but technically valid)\n",
    "x = \"Bob\"  # Too vague\n",
    "UsErNaMe = \"Bob\"  # Hard to read\n",
    "name123 = \"Bob\"  # Numbers are okay, but not meaningful here\n",
    "\n",
    "# Invalid variable names (will cause errors if uncommented)\n",
    "# 123name = \"Bob\"  # Can't start with number\n",
    "# user-name = \"Bob\"  # Hyphens not allowed\n",
    "# for = \"Bob\"  # Can't use Python keywords"
   ]
  },
  {
   "cell_type": "markdown",
   "metadata": {},
   "source": [
    "---\n",
    "## 2. Data Types in Python\n",
    "\n",
    "Every value in Python has a **type** that determines what you can do with it.\n",
    "\n",
    "### Main Data Types\n",
    "\n",
    "| Type | Description | Example |\n",
    "|------|-------------|-------|\n",
    "| **str** (String) | Text data | `\"Hello\"`, `'Python'` |\n",
    "| **int** (Integer) | Whole numbers | `42`, `-17`, `0` |\n",
    "| **float** | Decimal numbers | `3.14`, `-0.5`, `2.0` |\n",
    "| **bool** (Boolean) | True or False | `True`, `False` |"
   ]
  },
  {
   "cell_type": "markdown",
   "metadata": {},
   "source": [
    "### Strings (Text Data)\n",
    "\n",
    "Strings store text and must be wrapped in quotes (single or double)."
   ]
  },
  {
   "cell_type": "code",
   "execution_count": null,
   "metadata": {},
   "outputs": [],
   "source": [
    "# Both single and double quotes work\n",
    "message1 = \"Hello, World!\"\n",
    "message2 = 'Hello, World!'\n",
    "\n",
    "print(message1)\n",
    "print(message2)\n",
    "\n",
    "# Use single quotes if your text contains double quotes\n",
    "quote = 'She said, \"Python is awesome!\"'\n",
    "print(quote)\n",
    "\n",
    "# Or use double quotes if your text contains single quotes\n",
    "sentence = \"It's a beautiful day!\"\n",
    "print(sentence)"
   ]
  },
  {
   "cell_type": "markdown",
   "metadata": {},
   "source": [
    "### Integers (Whole Numbers)\n",
    "\n",
    "Integers are whole numbers without decimal points."
   ]
  },
  {
   "cell_type": "code",
   "execution_count": null,
   "metadata": {},
   "outputs": [],
   "source": [
    "score = 100\n",
    "temperature = -5\n",
    "year = 2024\n",
    "\n",
    "print(\"Score:\", score)\n",
    "print(\"Temperature:\", temperature)\n",
    "print(\"Year:\", year)\n",
    "\n",
    "# You can use underscores for readability in large numbers\n",
    "population = 1_000_000  # Same as 1000000\n",
    "print(\"Population:\", population)"
   ]
  },
  {
   "cell_type": "markdown",
   "metadata": {},
   "source": [
    "### Floats (Decimal Numbers)\n",
    "\n",
    "Floats represent numbers with decimal points."
   ]
  },
  {
   "cell_type": "code",
   "execution_count": null,
   "metadata": {},
   "outputs": [],
   "source": [
    "pi = 3.14159\n",
    "price = 19.99\n",
    "height = 5.8\n",
    "\n",
    "print(\"Pi:\", pi)\n",
    "print(\"Price: $\", price)\n",
    "print(\"Height:\", height, \"feet\")\n",
    "\n",
    "# Numbers with .0 are also floats\n",
    "whole_number_float = 10.0\n",
    "print(type(whole_number_float))  # This is a float, not an int!"
   ]
  },
  {
   "cell_type": "markdown",
   "metadata": {},
   "source": [
    "### Booleans (True/False Values)\n",
    "\n",
    "Booleans represent truth values. **Must be capitalized!**"
   ]
  },
  {
   "cell_type": "code",
   "execution_count": null,
   "metadata": {},
   "outputs": [],
   "source": [
    "is_raining = True\n",
    "is_sunny = False\n",
    "has_umbrella = True\n",
    "\n",
    "print(\"Is it raining?\", is_raining)\n",
    "print(\"Is it sunny?\", is_sunny)\n",
    "print(\"Do I have an umbrella?\", has_umbrella)\n",
    "\n",
    "# Booleans are useful for decisions (we'll learn more about this later)\n",
    "# Note: True and False must be capitalized\n",
    "# true or false (lowercase) will cause an error"
   ]
  },
  {
   "cell_type": "markdown",
   "metadata": {},
   "source": [
    "---\n",
    "## 3. Checking Variable Types\n",
    "\n",
    "Use the `type()` function to check what type a variable is."
   ]
  },
  {
   "cell_type": "code",
   "execution_count": null,
   "metadata": {},
   "outputs": [],
   "source": [
    "name = \"Alice\"\n",
    "age = 25\n",
    "height = 5.6\n",
    "is_student = True\n",
    "\n",
    "print(\"Type of name:\", type(name))\n",
    "print(\"Type of age:\", type(age))\n",
    "print(\"Type of height:\", type(height))\n",
    "print(\"Type of is_student:\", type(is_student))"
   ]
  },
  {
   "cell_type": "markdown",
   "metadata": {},
   "source": [
    "### ⚠️ Watch Out!\n",
    "\n",
    "Numbers in quotes are strings, not numbers!"
   ]
  },
  {
   "cell_type": "code",
   "execution_count": null,
   "metadata": {},
   "outputs": [],
   "source": [
    "number1 = 42        # This is an integer\n",
    "number2 = \"42\"      # This is a string!\n",
    "\n",
    "print(\"number1:\", number1, \"Type:\", type(number1))\n",
    "print(\"number2:\", number2, \"Type:\", type(number2))\n",
    "\n",
    "# They look the same when printed, but they're different types!\n",
    "# This matters when you try to do math (you can't do math with strings)"
   ]
  },
  {
   "cell_type": "markdown",
   "metadata": {},
   "source": [
    "---\n",
    "## 4. Type Conversion\n",
    "\n",
    "Sometimes you need to convert between types. Python provides functions for this:\n",
    "\n",
    "- `str()` - Convert to string\n",
    "- `int()` - Convert to integer\n",
    "- `float()` - Convert to float\n",
    "- `bool()` - Convert to boolean"
   ]
  },
  {
   "cell_type": "markdown",
   "metadata": {},
   "source": [
    "### Converting to String"
   ]
  },
  {
   "cell_type": "code",
   "execution_count": null,
   "metadata": {},
   "outputs": [],
   "source": [
    "age = 25\n",
    "age_as_string = str(age)\n",
    "\n",
    "print(\"Original age:\", age, \"Type:\", type(age))\n",
    "print(\"Age as string:\", age_as_string, \"Type:\", type(age_as_string))\n",
    "\n",
    "# This is useful when combining text and numbers\n",
    "message = \"I am \" + str(age) + \" years old.\"\n",
    "print(message)"
   ]
  },
  {
   "cell_type": "markdown",
   "metadata": {},
   "source": [
    "### Converting to Integer"
   ]
  },
  {
   "cell_type": "code",
   "execution_count": null,
   "metadata": {},
   "outputs": [],
   "source": [
    "# String to integer\n",
    "text_number = \"100\"\n",
    "actual_number = int(text_number)\n",
    "\n",
    "print(\"Text number:\", text_number, \"Type:\", type(text_number))\n",
    "print(\"Actual number:\", actual_number, \"Type:\", type(actual_number))\n",
    "\n",
    "# Now we can do math with it!\n",
    "result = actual_number + 50\n",
    "print(\"100 + 50 =\", result)\n",
    "\n",
    "# Float to integer (removes decimal part)\n",
    "decimal = 3.99\n",
    "whole = int(decimal)\n",
    "print(f\"{decimal} as integer: {whole}\")  # Note: it doesn't round, just truncates!"
   ]
  },
  {
   "cell_type": "markdown",
   "metadata": {},
   "source": [
    "### Converting to Float"
   ]
  },
  {
   "cell_type": "code",
   "execution_count": null,
   "metadata": {},
   "outputs": [],
   "source": [
    "# Integer to float\n",
    "whole_number = 42\n",
    "decimal_number = float(whole_number)\n",
    "\n",
    "print(f\"{whole_number} as float: {decimal_number}\")\n",
    "\n",
    "# String to float\n",
    "price_text = \"19.99\"\n",
    "price = float(price_text)\n",
    "print(f\"Price: ${price}\")\n",
    "\n",
    "# Now we can calculate\n",
    "with_tax = price * 1.08\n",
    "print(f\"Price with tax: ${with_tax:.2f}\")  # .2f means 2 decimal places"
   ]
  },
  {
   "cell_type": "markdown",
   "metadata": {},
   "source": [
    "### ⚠️ Conversion Errors\n",
    "\n",
    "Not all conversions work! Be careful:"
   ]
  },
  {
   "cell_type": "code",
   "execution_count": null,
   "metadata": {},
   "outputs": [],
   "source": [
    "# This works:\n",
    "number1 = int(\"123\")\n",
    "print(\"Success:\", number1)\n",
    "\n",
    "# Uncomment to see errors:\n",
    "# number2 = int(\"Hello\")  # Error! Can't convert text to number\n",
    "# number3 = int(\"12.5\")   # Error! Can't convert decimal string to int\n",
    "                           # Use float() first, then int()\n",
    "\n",
    "# The correct way for decimal strings:\n",
    "decimal_string = \"12.5\"\n",
    "correct = int(float(decimal_string))  # First to float, then to int\n",
    "print(\"Correct conversion:\", correct)"
   ]
  },
  {
   "cell_type": "markdown",
   "metadata": {},
   "source": [
    "---\n",
    "## 5. Variable Operations\n",
    "\n",
    "### Updating Variables\n",
    "\n",
    "Variables can change their values!"
   ]
  },
  {
   "cell_type": "code",
   "execution_count": null,
   "metadata": {},
   "outputs": [],
   "source": [
    "score = 10\n",
    "print(\"Initial score:\", score)\n",
    "\n",
    "score = 20  # Change the value\n",
    "print(\"New score:\", score)\n",
    "\n",
    "score = score + 5  # Use the old value to calculate the new value\n",
    "print(\"Updated score:\", score)\n",
    "\n",
    "# Shorthand for updating\n",
    "score += 10  # Same as: score = score + 10\n",
    "print(\"Final score:\", score)"
   ]
  },
  {
   "cell_type": "markdown",
   "metadata": {},
   "source": [
    "### Multiple Assignment\n",
    "\n",
    "You can assign multiple variables in one line!"
   ]
  },
  {
   "cell_type": "code",
   "execution_count": null,
   "metadata": {},
   "outputs": [],
   "source": [
    "# Assign multiple variables at once\n",
    "x, y, z = 1, 2, 3\n",
    "print(\"x:\", x)\n",
    "print(\"y:\", y)\n",
    "print(\"z:\", z)\n",
    "\n",
    "# Assign same value to multiple variables\n",
    "a = b = c = 0\n",
    "print(\"a:\", a, \"b:\", b, \"c:\", c)\n",
    "\n",
    "# Swap values (Python makes this easy!)\n",
    "first = 100\n",
    "second = 200\n",
    "print(\"Before swap:\", first, second)\n",
    "\n",
    "first, second = second, first  # Swap!\n",
    "print(\"After swap:\", first, second)"
   ]
  },
  {
   "cell_type": "markdown",
   "metadata": {},
   "source": [
    "---\n",
    "## 6. None Type\n",
    "\n",
    "`None` represents \"no value\" or \"nothing\". It's useful for placeholders."
   ]
  },
  {
   "cell_type": "code",
   "execution_count": null,
   "metadata": {},
   "outputs": [],
   "source": [
    "# Variable with no value yet\n",
    "user_input = None\n",
    "result = None\n",
    "\n",
    "print(\"user_input:\", user_input)\n",
    "print(\"Type:\", type(user_input))\n",
    "\n",
    "# You can check if a variable is None\n",
    "if user_input is None:\n",
    "    print(\"No input received yet!\")"
   ]
  },
  {
   "cell_type": "markdown",
   "metadata": {},
   "source": [
    "---\n",
    "## 📝 Exercises\n",
    "\n",
    "### Exercise 1: Personal Profile\n",
    "Create variables to store your information:\n",
    "- Your name (string)\n",
    "- Your age (integer)\n",
    "- Your height in feet (float)\n",
    "- Whether you like Python (boolean)\n",
    "\n",
    "Print all of them with labels."
   ]
  },
  {
   "cell_type": "code",
   "execution_count": null,
   "metadata": {},
   "outputs": [],
   "source": [
    "# Your code here\n"
   ]
  },
  {
   "cell_type": "markdown",
   "metadata": {},
   "source": [
    "### Exercise 2: Favorite Book\n",
    "Create variables about your favorite book:\n",
    "- Title (string)\n",
    "- Number of pages (integer)\n",
    "- Your rating out of 5 (float)\n",
    "- Have you finished reading it? (boolean)\n",
    "\n",
    "Print them all in a readable format."
   ]
  },
  {
   "cell_type": "code",
   "execution_count": null,
   "metadata": {},
   "outputs": [],
   "source": [
    "# Your code here\n"
   ]
  },
  {
   "cell_type": "markdown",
   "metadata": {},
   "source": [
    "### Exercise 3: Type Conversions\n",
    "1. Create a string variable with the value `\"100\"`\n",
    "2. Convert it to an integer\n",
    "3. Add 50 to it\n",
    "4. Convert the result to a string\n",
    "5. Print the final result and its type"
   ]
  },
  {
   "cell_type": "code",
   "execution_count": null,
   "metadata": {},
   "outputs": [],
   "source": [
    "# Your code here\n"
   ]
  },
  {
   "cell_type": "markdown",
   "metadata": {},
   "source": [
    "### Exercise 4: Temperature Converter\n",
    "Create a variable for temperature in Fahrenheit (e.g., 72.5), then:\n",
    "1. Convert it to Celsius using the formula: `(F - 32) * 5/9`\n",
    "2. Print both temperatures with labels\n",
    "3. Convert the Celsius temperature to an integer (whole number)\n",
    "4. Print the rounded temperature"
   ]
  },
  {
   "cell_type": "code",
   "execution_count": null,
   "metadata": {},
   "outputs": [],
   "source": [
    "# Your code here\n"
   ]
  },
  {
   "cell_type": "markdown",
   "metadata": {},
   "source": [
    "### Exercise 5: Variable Swap\n",
    "Create two variables:\n",
    "- `first = \"Python\"`\n",
    "- `second = \"Programming\"`\n",
    "\n",
    "Swap their values so that `first` contains \"Programming\" and `second` contains \"Python\".\n",
    "Print before and after."
   ]
  },
  {
   "cell_type": "code",
   "execution_count": null,
   "metadata": {},
   "outputs": [],
   "source": [
    "# Your code here\n"
   ]
  },
  {
   "cell_type": "markdown",
   "metadata": {},
   "source": [
    "### Exercise 6: Shopping Cart\n",
    "You're building a shopping cart. Create variables for:\n",
    "- Item name (string)\n",
    "- Price (float)\n",
    "- Quantity (integer)\n",
    "- In stock? (boolean)\n",
    "\n",
    "Calculate the total cost (price * quantity) and print a summary."
   ]
  },
  {
   "cell_type": "code",
   "execution_count": null,
   "metadata": {},
   "outputs": [],
   "source": [
    "# Your code here\n"
   ]
  },
  {
   "cell_type": "markdown",
   "metadata": {},
   "source": [
    "---\n",
    "## ✅ Self-Check Quiz\n",
    "\n",
    "Before moving on, make sure you can answer these:\n",
    "\n",
    "1. What is a variable?\n",
    "2. What are the four main data types in Python?\n",
    "3. How do you check the type of a variable?\n",
    "4. What's the difference between `42` and `\"42\"`?\n",
    "5. How do you convert a string to an integer?\n",
    "6. Can variable names start with numbers?\n",
    "7. What does `None` represent?\n",
    "8. How do you swap two variables in Python?\n",
    "\n",
    "---\n",
    "\n",
    "## 🎯 Key Takeaways\n",
    "\n",
    "- **Variables** store data that you can use and modify\n",
    "- **Data types** determine what you can do with values:\n",
    "  - `str` for text\n",
    "  - `int` for whole numbers\n",
    "  - `float` for decimals\n",
    "  - `bool` for True/False\n",
    "- Use `type()` to check a variable's type\n",
    "- Convert types with `str()`, `int()`, `float()`, `bool()`\n",
    "- Choose descriptive variable names\n",
    "- Variables can change their values\n",
    "\n",
    "---\n",
    "\n",
    "## 🚀 Next Steps\n",
    "\n",
    "Great work! You now know how to store and work with data in Python. \n",
    "\n",
    "Next, you'll learn about **operations and conditionals** - how to do math and make decisions in your code!\n",
    "\n",
    "Continue to: `03_basic_operations_and_conditionals.ipynb`\n",
    "\n",
    "---\n",
    "\n",
    "## 💡 Pro Tips\n",
    "\n",
    "1. **Use meaningful names**: `user_age` is better than `x`\n",
    "2. **Be consistent**: Stick to one naming style (we use `snake_case`)\n",
    "3. **Watch your types**: Can't do math with strings!\n",
    "4. **Check types when debugging**: `print(type(variable))` is your friend\n",
    "5. **Practice type conversion**: You'll use it all the time in real programs"
   ]
  }
 ],
 "metadata": {
  "kernelspec": {
   "display_name": "Python 3",
   "language": "python",
   "name": "python3"
  },
  "language_info": {
   "name": "python",
   "version": "3.11.0"
  }
 },
 "nbformat": 4,
 "nbformat_minor": 4
}
