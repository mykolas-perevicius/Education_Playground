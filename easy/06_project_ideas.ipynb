{
 "cells": [
  {
   "cell_type": "markdown",
   "metadata": {},
   "source": [
    "# Easy Level: Project Ideas\n",
    "\n",
    "Apply what you've learned by building these beginner-friendly projects!\n",
    "\n",
    "Each project combines concepts from multiple lessons. Start simple, then add features as you learn more.\n",
    "\n",
    "## How to Use This Notebook\n",
    "\n",
    "1. **Read the project description**\n",
    "2. **Try to plan your approach** before looking at hints\n",
    "3. **Build the project step by step**\n",
    "4. **Test thoroughly** with different inputs\n",
    "5. **Add your own features** to make it unique!"
   ]
  },
  {
   "cell_type": "markdown",
   "metadata": {},
   "source": [
    "---\n",
    "\n",
    "## Project 1: Personal Calculator\n",
    "\n",
    "**Difficulty**: ⭐☆☆\n",
    "\n",
    "**Skills Used**: Variables, input/output, basic operations, conditionals\n",
    "\n",
    "### Description\n",
    "Create a calculator that can perform basic operations (add, subtract, multiply, divide).\n",
    "\n",
    "### Features to Implement\n",
    "- Ask user for two numbers\n",
    "- Ask user which operation to perform\n",
    "- Display the result\n",
    "- Handle division by zero\n",
    "\n",
    "### Bonus Challenges\n",
    "- Add more operations (power, square root, modulus)\n",
    "- Keep calculating until user wants to quit\n",
    "- Save calculation history"
   ]
  },
  {
   "cell_type": "code",
   "execution_count": null,
   "metadata": {},
   "outputs": [],
   "source": [
    "# Your calculator code here\n"
   ]
  },
  {
   "cell_type": "markdown",
   "metadata": {},
   "source": [
    "---\n",
    "\n",
    "## Project 2: Number Guessing Game\n",
    "\n",
    "**Difficulty**: ⭐⭐☆\n",
    "\n",
    "**Skills Used**: Variables, conditionals, loops, random numbers\n",
    "\n",
    "### Description\n",
    "Create a game where the computer picks a random number and the player has to guess it.\n",
    "\n",
    "### Features to Implement\n",
    "- Computer picks random number between 1-100\n",
    "- Player enters guess\n",
    "- Give hints (\"too high\" or \"too low\")\n",
    "- Count number of attempts\n",
    "- Congratulate when correct\n",
    "\n",
    "### Bonus Challenges\n",
    "- Add difficulty levels (different ranges)\n",
    "- Limit number of attempts\n",
    "- Track best score\n",
    "- Add a \"play again\" option"
   ]
  },
  {
   "cell_type": "code",
   "execution_count": null,
   "metadata": {},
   "outputs": [],
   "source": [
    "import random\n",
    "\n",
    "# Your number guessing game here\n"
   ]
  },
  {
   "cell_type": "markdown",
   "metadata": {},
   "source": [
    "---\n",
    "\n",
    "## Project 3: Temperature Converter\n",
    "\n",
    "**Difficulty**: ⭐☆☆\n",
    "\n",
    "**Skills Used**: Functions, calculations, input validation\n",
    "\n",
    "### Description\n",
    "Convert temperatures between Celsius, Fahrenheit, and Kelvin.\n",
    "\n",
    "### Features to Implement\n",
    "- Ask user for temperature and unit\n",
    "- Ask which unit to convert to\n",
    "- Calculate and display result\n",
    "- Handle invalid inputs\n",
    "\n",
    "### Formulas\n",
    "- Celsius to Fahrenheit: `F = C * 9/5 + 32`\n",
    "- Fahrenheit to Celsius: `C = (F - 32) * 5/9`\n",
    "- Celsius to Kelvin: `K = C + 273.15`\n",
    "- Kelvin to Celsius: `C = K - 273.15`\n",
    "\n",
    "### Bonus Challenges\n",
    "- Add a temperature scale comparison chart\n",
    "- Include Rankine scale\n",
    "- Show fun facts about temperatures (boiling point, freezing point, etc.)"
   ]
  },
  {
   "cell_type": "code",
   "execution_count": null,
   "metadata": {},
   "outputs": [],
   "source": [
    "# Your temperature converter here\n"
   ]
  },
  {
   "cell_type": "markdown",
   "metadata": {},
   "source": [
    "---\n",
    "\n",
    "## Project 4: Simple To-Do List\n",
    "\n",
    "**Difficulty**: ⭐⭐☆\n",
    "\n",
    "**Skills Used**: Lists, functions, string manipulation\n",
    "\n",
    "### Description\n",
    "Create a program to manage a to-do list.\n",
    "\n",
    "### Features to Implement\n",
    "- Add tasks to list\n",
    "- View all tasks\n",
    "- Mark tasks as complete\n",
    "- Delete tasks\n",
    "- Clear all tasks\n",
    "\n",
    "### Bonus Challenges\n",
    "- Save tasks to a file\n",
    "- Add task priorities (high, medium, low)\n",
    "- Add due dates\n",
    "- Search for tasks\n",
    "- Show statistics (total, completed, pending)"
   ]
  },
  {
   "cell_type": "code",
   "execution_count": null,
   "metadata": {},
   "outputs": [],
   "source": [
    "# Your to-do list app here\n"
   ]
  },
  {
   "cell_type": "markdown",
   "metadata": {},
   "source": [
    "---\n",
    "\n",
    "## Project 5: Rock, Paper, Scissors Game\n",
    "\n",
    "**Difficulty**: ⭐⭐☆\n",
    "\n",
    "**Skills Used**: Random numbers, conditionals, loops, score tracking\n",
    "\n",
    "### Description\n",
    "Create the classic Rock, Paper, Scissors game.\n",
    "\n",
    "### Features to Implement\n",
    "- Player chooses rock, paper, or scissors\n",
    "- Computer makes random choice\n",
    "- Determine winner\n",
    "- Keep score\n",
    "- Play multiple rounds\n",
    "\n",
    "### Game Rules\n",
    "- Rock beats Scissors\n",
    "- Scissors beats Paper\n",
    "- Paper beats Rock\n",
    "\n",
    "### Bonus Challenges\n",
    "- Add \"Rock, Paper, Scissors, Lizard, Spock\"\n",
    "- Create difficulty levels (easy computer vs. smart computer)\n",
    "- Add best-of-3 or best-of-5 tournament mode\n",
    "- Track win/loss statistics"
   ]
  },
  {
   "cell_type": "code",
   "execution_count": null,
   "metadata": {},
   "outputs": [],
   "source": [
    "# Your Rock, Paper, Scissors game here\n"
   ]
  },
  {
   "cell_type": "markdown",
   "metadata": {},
   "source": [
    "---\n",
    "\n",
    "## Project 6: Simple Quiz Game\n",
    "\n",
    "**Difficulty**: ⭐⭐☆\n",
    "\n",
    "**Skills Used**: Dictionaries, loops, conditionals, scoring\n",
    "\n",
    "### Description\n",
    "Create a multiple-choice quiz game.\n",
    "\n",
    "### Features to Implement\n",
    "- Store questions and answers\n",
    "- Ask questions one by one\n",
    "- Check if answers are correct\n",
    "- Keep score\n",
    "- Show final results\n",
    "\n",
    "### Bonus Challenges\n",
    "- Add different quiz categories\n",
    "- Randomize question order\n",
    "- Add timer for each question\n",
    "- Give hints (cost points)\n",
    "- Save high scores"
   ]
  },
  {
   "cell_type": "code",
   "execution_count": null,
   "metadata": {},
   "outputs": [],
   "source": [
    "# Your quiz game here\n"
   ]
  },
  {
   "cell_type": "markdown",
   "metadata": {},
   "source": [
    "---\n",
    "\n",
    "## Project 7: Text-Based Adventure Game\n",
    "\n",
    "**Difficulty**: ⭐⭐⭐\n",
    "\n",
    "**Skills Used**: Conditionals, functions, string manipulation, storytelling\n",
    "\n",
    "### Description\n",
    "Create a choose-your-own-adventure text game.\n",
    "\n",
    "### Features to Implement\n",
    "- Display story text\n",
    "- Give player choices\n",
    "- Branch story based on choices\n",
    "- Multiple endings\n",
    "- Inventory system\n",
    "\n",
    "### Bonus Challenges\n",
    "- Add combat system\n",
    "- Include puzzles to solve\n",
    "- Save/load game progress\n",
    "- Create a map system\n",
    "- Add character stats (health, strength, etc.)"
   ]
  },
  {
   "cell_type": "code",
   "execution_count": null,
   "metadata": {},
   "outputs": [],
   "source": [
    "# Your text adventure game here\n"
   ]
  },
  {
   "cell_type": "markdown",
   "metadata": {},
   "source": [
    "---\n",
    "\n",
    "## Project 8: Password Generator\n",
    "\n",
    "**Difficulty**: ⭐⭐☆\n",
    "\n",
    "**Skills Used**: Strings, random module, functions\n",
    "\n",
    "### Description\n",
    "Create a program that generates secure random passwords.\n",
    "\n",
    "### Features to Implement\n",
    "- Ask for password length\n",
    "- Include letters, numbers, and symbols\n",
    "- Generate random password\n",
    "- Display the password\n",
    "\n",
    "### Bonus Challenges\n",
    "- Let user choose character types to include\n",
    "- Check password strength\n",
    "- Generate multiple passwords at once\n",
    "- Avoid ambiguous characters (0/O, 1/l/I)\n",
    "- Make passwords memorable (using word combinations)"
   ]
  },
  {
   "cell_type": "code",
   "execution_count": null,
   "metadata": {},
   "outputs": [],
   "source": [
    "import random\n",
    "import string\n",
    "\n",
    "# Your password generator here\n"
   ]
  },
  {
   "cell_type": "markdown",
   "metadata": {},
   "source": [
    "---\n",
    "\n",
    "## AI/Computing Projects\n",
    "\n",
    "### Project 9: Simple Chatbot\n",
    "\n",
    "**Difficulty**: ⭐⭐☆\n",
    "\n",
    "**Skills Used**: Strings, conditionals, dictionaries, pattern matching\n",
    "\n",
    "### Description\n",
    "Create a simple rule-based chatbot that can respond to user input.\n",
    "\n",
    "### Features to Implement\n",
    "- Greet the user\n",
    "- Respond to common questions\n",
    "- Handle different ways of asking same question\n",
    "- Say goodbye\n",
    "\n",
    "### Bonus Challenges\n",
    "- Remember user's name\n",
    "- Track conversation context\n",
    "- Add personality/humor\n",
    "- Learn new responses from user"
   ]
  },
  {
   "cell_type": "code",
   "execution_count": null,
   "metadata": {},
   "outputs": [],
   "source": [
    "# Your chatbot here\n"
   ]
  },
  {
   "cell_type": "markdown",
   "metadata": {},
   "source": [
    "### Project 10: Binary/ASCII Converter\n",
    "\n",
    "**Difficulty**: ⭐⭐☆\n",
    "\n",
    "**Skills Used**: Binary conversion, ASCII codes, string manipulation\n",
    "\n",
    "### Description\n",
    "Convert text to binary and binary to text using ASCII codes.\n",
    "\n",
    "### Features to Implement\n",
    "- Text to binary conversion\n",
    "- Binary to text conversion\n",
    "- Show ASCII codes\n",
    "- Format output nicely\n",
    "\n",
    "### Bonus Challenges\n",
    "- Add hexadecimal conversion\n",
    "- Encode/decode messages\n",
    "- Create a simple cipher\n",
    "- Visualize binary numbers"
   ]
  },
  {
   "cell_type": "code",
   "execution_count": null,
   "metadata": {},
   "outputs": [],
   "source": [
    "# Your binary converter here\n"
   ]
  },
  {
   "cell_type": "markdown",
   "metadata": {},
   "source": [
    "---\n",
    "\n",
    "## Tips for Success\n",
    "\n",
    "1. **Start Small**: Get basic version working first\n",
    "2. **Test Often**: Test each feature as you add it\n",
    "3. **Add Features Gradually**: Don't try to do everything at once\n",
    "4. **Comment Your Code**: Explain what each part does\n",
    "5. **Ask for Help**: Use resources and communities when stuck\n",
    "6. **Make It Your Own**: Add unique features and personality\n",
    "7. **Show Others**: Share your projects and get feedback\n",
    "\n",
    "## Next Steps\n",
    "\n",
    "After completing these projects:\n",
    "1. **Improve them**: Add more features and polish\n",
    "2. **Combine concepts**: Mix ideas from different projects\n",
    "3. **Create new projects**: Come up with your own ideas\n",
    "4. **Move to Medium level**: Ready for more challenges!\n",
    "\n",
    "Happy Coding! 🎉"
   ]
  }
 ],
 "metadata": {
  "kernelspec": {
   "display_name": "Python 3",
   "language": "python",
   "name": "python3"
  },
  "language_info": {
   "name": "python",
   "version": "3.8.0"
  }
 },
 "nbformat": 4,
 "nbformat_minor": 4
}
