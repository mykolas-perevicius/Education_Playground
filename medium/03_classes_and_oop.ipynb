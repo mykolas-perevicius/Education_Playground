{
 "cells": [
  {
   "cell_type": "markdown",
   "metadata": {},
   "source": [
    "# Lesson 3: Classes and Object-Oriented Programming\n",
    "\n",
    "Object-Oriented Programming (OOP) allows you to model real-world entities as objects with properties and behaviors.\n",
    "\n",
    "## What You'll Learn\n",
    "- Creating classes and objects\n",
    "- Instance variables and methods\n",
    "- Constructors and the `__init__` method\n",
    "- Basic inheritance"
   ]
  },
  {
   "cell_type": "markdown",
   "metadata": {},
   "source": [
    "## Creating a Simple Class\n",
    "\n",
    "A class is like a blueprint for creating objects:"
   ]
  },
  {
   "cell_type": "code",
   "execution_count": null,
   "metadata": {},
   "outputs": [],
   "source": [
    "class Dog:\n",
    "    def __init__(self, name, age):\n",
    "        \"\"\"Constructor method - called when creating a new Dog object.\"\"\"\n",
    "        self.name = name\n",
    "        self.age = age\n",
    "    \n",
    "    def bark(self):\n",
    "        \"\"\"A method that makes the dog bark.\"\"\"\n",
    "        return f\"{self.name} says Woof!\"\n",
    "    \n",
    "    def get_info(self):\n",
    "        \"\"\"Return information about the dog.\"\"\"\n",
    "        return f\"{self.name} is {self.age} years old\"\n",
    "\n",
    "# Create objects (instances)\n",
    "my_dog = Dog(\"Buddy\", 3)\n",
    "your_dog = Dog(\"Max\", 5)\n",
    "\n",
    "print(my_dog.bark())\n",
    "print(your_dog.get_info())"
   ]
  },
  {
   "cell_type": "markdown",
   "metadata": {},
   "source": [
    "## Class with More Features\n",
    "\n",
    "Let's create a more complex class for a bank account:"
   ]
  },
  {
   "cell_type": "code",
   "execution_count": null,
   "metadata": {},
   "outputs": [],
   "source": [
    "class BankAccount:\n",
    "    def __init__(self, owner, balance=0):\n",
    "        self.owner = owner\n",
    "        self.balance = balance\n",
    "    \n",
    "    def deposit(self, amount):\n",
    "        \"\"\"Add money to the account.\"\"\"\n",
    "        if amount > 0:\n",
    "            self.balance += amount\n",
    "            return f\"Deposited ${amount}. New balance: ${self.balance}\"\n",
    "        return \"Invalid deposit amount\"\n",
    "    \n",
    "    def withdraw(self, amount):\n",
    "        \"\"\"Remove money from the account.\"\"\"\n",
    "        if 0 < amount <= self.balance:\n",
    "            self.balance -= amount\n",
    "            return f\"Withdrew ${amount}. New balance: ${self.balance}\"\n",
    "        return \"Insufficient funds or invalid amount\"\n",
    "    \n",
    "    def get_balance(self):\n",
    "        return f\"{self.owner}'s balance: ${self.balance}\"\n",
    "\n",
    "# Using the BankAccount class\n",
    "account = BankAccount(\"Alice\", 1000)\n",
    "print(account.get_balance())\n",
    "print(account.deposit(500))\n",
    "print(account.withdraw(200))"
   ]
  },
  {
   "cell_type": "markdown",
   "metadata": {},
   "source": [
    "## Basic Inheritance\n",
    "\n",
    "Inheritance allows you to create new classes based on existing ones:"
   ]
  },
  {
   "cell_type": "code",
   "execution_count": null,
   "metadata": {},
   "outputs": [],
   "source": [
    "class Animal:\n",
    "    def __init__(self, name):\n",
    "        self.name = name\n",
    "    \n",
    "    def speak(self):\n",
    "        return \"Some sound\"\n",
    "\n",
    "class Cat(Animal):\n",
    "    def speak(self):\n",
    "        return f\"{self.name} says Meow!\"\n",
    "\n",
    "class Dog(Animal):\n",
    "    def speak(self):\n",
    "        return f\"{self.name} says Woof!\"\n",
    "\n",
    "# Create instances\n",
    "cat = Cat(\"Whiskers\")\n",
    "dog = Dog(\"Rex\")\n",
    "\n",
    "print(cat.speak())\n",
    "print(dog.speak())"
   ]
  },
  {
   "cell_type": "markdown",
   "metadata": {},
   "source": [
    "## Exercise\n",
    "\n",
    "Create a `Rectangle` class that:\n",
    "- Has width and height as attributes\n",
    "- Has methods to calculate area and perimeter\n",
    "- Has a method to check if it's a square\n",
    "\n",
    "Then create a `Square` class that inherits from `Rectangle` and only takes one parameter (side length)."
   ]
  },
  {
   "cell_type": "code",
   "execution_count": null,
   "metadata": {},
   "outputs": [],
   "source": [
    "# Your code here\n"
   ]
  }
 ],
 "metadata": {
  "kernelspec": {
   "display_name": "Python 3",
   "language": "python",
   "name": "python3"
  },
  "language_info": {
   "name": "python",
   "version": "3.8.0"
  }
 },
 "nbformat": 4,
 "nbformat_minor": 4
}
