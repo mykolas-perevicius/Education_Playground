{
 "cells": [
  {
   "cell_type": "markdown",
   "metadata": {},
   "source": [
    "# Lesson 6: Algorithms and Problem Solving\n",
    "\n",
    "Learn fundamental algorithms and how to solve problems efficiently.\n",
    "\n",
    "## What You'll Learn\n",
    "- What are algorithms?\n",
    "- Basic searching algorithms\n",
    "- Simple sorting algorithms\n",
    "- Problem-solving strategies\n",
    "- Introduction to time complexity"
   ]
  },
  {
   "cell_type": "markdown",
   "metadata": {},
   "source": [
    "## What is an Algorithm?\n",
    "\n",
    "An **algorithm** is a step-by-step procedure to solve a problem.\n",
    "\n",
    "Example: Recipe for making a sandwich\n",
    "1. Get two slices of bread\n",
    "2. Add filling\n",
    "3. Put slices together\n",
    "4. Done!\n",
    "\n",
    "In programming, algorithms solve computational problems."
   ]
  },
  {
   "cell_type": "markdown",
   "metadata": {},
   "source": [
    "## Searching Algorithms\n",
    "\n",
    "### Linear Search\n",
    "Check each element one by one:"
   ]
  },
  {
   "cell_type": "code",
   "execution_count": null,
   "metadata": {},
   "outputs": [],
   "source": [
    "def linear_search(arr, target):\n",
    "    \"\"\"Search for target in array by checking each element.\"\"\"\n",
    "    comparisons = 0\n",
    "    \n",
    "    for i in range(len(arr)):\n",
    "        comparisons += 1\n",
    "        if arr[i] == target:\n",
    "            print(f\"Found {target} at index {i} after {comparisons} comparisons\")\n",
    "            return i\n",
    "    \n",
    "    print(f\"{target} not found after {comparisons} comparisons\")\n",
    "    return -1\n",
    "\n",
    "# Test\n",
    "numbers = [64, 34, 25, 12, 22, 11, 90]\n",
    "linear_search(numbers, 22)\n",
    "linear_search(numbers, 100)"
   ]
  },
  {
   "cell_type": "markdown",
   "metadata": {},
   "source": [
    "### Binary Search\n",
    "Much faster for sorted arrays - divides search space in half each time:"
   ]
  },
  {
   "cell_type": "code",
   "execution_count": null,
   "metadata": {},
   "outputs": [],
   "source": [
    "def binary_search(arr, target):\n",
    "    \"\"\"Search in sorted array by repeatedly dividing in half.\"\"\"\n",
    "    left = 0\n",
    "    right = len(arr) - 1\n",
    "    comparisons = 0\n",
    "    \n",
    "    while left <= right:\n",
    "        comparisons += 1\n",
    "        mid = (left + right) // 2\n",
    "        \n",
    "        print(f\"Checking middle element: {arr[mid]}\")\n",
    "        \n",
    "        if arr[mid] == target:\n",
    "            print(f\"Found {target} at index {mid} after {comparisons} comparisons\")\n",
    "            return mid\n",
    "        elif arr[mid] < target:\n",
    "            left = mid + 1  # Search right half\n",
    "        else:\n",
    "            right = mid - 1  # Search left half\n",
    "    \n",
    "    print(f\"{target} not found after {comparisons} comparisons\")\n",
    "    return -1\n",
    "\n",
    "# Test (array must be sorted!)\n",
    "sorted_numbers = [11, 12, 22, 25, 34, 64, 90]\n",
    "binary_search(sorted_numbers, 25)"
   ]
  },
  {
   "cell_type": "markdown",
   "metadata": {},
   "source": [
    "## Sorting Algorithms\n",
    "\n",
    "### Bubble Sort\n",
    "Repeatedly swaps adjacent elements if they're in wrong order:"
   ]
  },
  {
   "cell_type": "code",
   "execution_count": null,
   "metadata": {},
   "outputs": [],
   "source": [
    "def bubble_sort(arr):\n",
    "    \"\"\"Sort array using bubble sort algorithm.\"\"\"\n",
    "    arr = arr.copy()  # Don't modify original\n",
    "    n = len(arr)\n",
    "    swaps = 0\n",
    "    \n",
    "    for i in range(n):\n",
    "        # Track if any swaps occurred\n",
    "        made_swap = False\n",
    "        \n",
    "        for j in range(0, n-i-1):\n",
    "            if arr[j] > arr[j+1]:\n",
    "                # Swap\n",
    "                arr[j], arr[j+1] = arr[j+1], arr[j]\n",
    "                swaps += 1\n",
    "                made_swap = True\n",
    "        \n",
    "        # If no swaps, array is sorted\n",
    "        if not made_swap:\n",
    "            break\n",
    "    \n",
    "    print(f\"Sorted with {swaps} swaps\")\n",
    "    return arr\n",
    "\n",
    "# Test\n",
    "unsorted = [64, 34, 25, 12, 22, 11, 90]\n",
    "print(\"Original:\", unsorted)\n",
    "sorted_arr = bubble_sort(unsorted)\n",
    "print(\"Sorted:\", sorted_arr)"
   ]
  },
  {
   "cell_type": "markdown",
   "metadata": {},
   "source": [
    "### Selection Sort\n",
    "Finds minimum element and puts it at the beginning:"
   ]
  },
  {
   "cell_type": "code",
   "execution_count": null,
   "metadata": {},
   "outputs": [],
   "source": [
    "def selection_sort(arr):\n",
    "    \"\"\"Sort array using selection sort algorithm.\"\"\"\n",
    "    arr = arr.copy()\n",
    "    n = len(arr)\n",
    "    \n",
    "    for i in range(n):\n",
    "        # Find minimum in remaining array\n",
    "        min_idx = i\n",
    "        for j in range(i+1, n):\n",
    "            if arr[j] < arr[min_idx]:\n",
    "                min_idx = j\n",
    "        \n",
    "        # Swap minimum with first element\n",
    "        arr[i], arr[min_idx] = arr[min_idx], arr[i]\n",
    "        print(f\"Step {i+1}: {arr}\")\n",
    "    \n",
    "    return arr\n",
    "\n",
    "# Test\n",
    "unsorted = [64, 25, 12, 22, 11]\n",
    "print(\"Selection Sort Process:\")\n",
    "selection_sort(unsorted)"
   ]
  },
  {
   "cell_type": "markdown",
   "metadata": {},
   "source": [
    "## Time Complexity Basics\n",
    "\n",
    "How fast does an algorithm run as input size grows?\n",
    "\n",
    "- **O(1)**: Constant - always same time\n",
    "- **O(log n)**: Logarithmic - very fast (binary search)\n",
    "- **O(n)**: Linear - proportional to input size\n",
    "- **O(n²)**: Quadratic - slow for large inputs (bubble sort)"
   ]
  },
  {
   "cell_type": "code",
   "execution_count": null,
   "metadata": {},
   "outputs": [],
   "source": [
    "import time\n",
    "\n",
    "def compare_search_algorithms():\n",
    "    \"\"\"Compare linear vs binary search performance.\"\"\"\n",
    "    # Create large sorted array\n",
    "    size = 100000\n",
    "    large_arr = list(range(size))\n",
    "    target = size - 1  # Worst case for linear search\n",
    "    \n",
    "    # Linear search\n",
    "    start = time.time()\n",
    "    linear_search(large_arr, target)\n",
    "    linear_time = time.time() - start\n",
    "    \n",
    "    # Binary search\n",
    "    start = time.time()\n",
    "    binary_search(large_arr, target)\n",
    "    binary_time = time.time() - start\n",
    "    \n",
    "    print(f\"\\nLinear Search: {linear_time:.6f} seconds\")\n",
    "    print(f\"Binary Search: {binary_time:.6f} seconds\")\n",
    "    print(f\"Binary is {linear_time/binary_time:.2f}x faster!\")\n",
    "\n",
    "compare_search_algorithms()"
   ]
  },
  {
   "cell_type": "markdown",
   "metadata": {},
   "source": [
    "## Problem-Solving Strategies\n",
    "\n",
    "### 1. Understand the Problem\n",
    "- What are the inputs?\n",
    "- What should the output be?\n",
    "- What are the constraints?\n",
    "\n",
    "### 2. Break It Down\n",
    "- Divide into smaller subproblems\n",
    "- Solve each part separately\n",
    "\n",
    "### 3. Pattern Recognition\n",
    "- Does this look like a problem you've seen?\n",
    "- Can you use a known algorithm?\n",
    "\n",
    "### 4. Test and Refine\n",
    "- Test with simple inputs first\n",
    "- Consider edge cases"
   ]
  },
  {
   "cell_type": "markdown",
   "metadata": {},
   "source": [
    "## Common Algorithm Patterns\n",
    "\n",
    "### Two Pointer Technique"
   ]
  },
  {
   "cell_type": "code",
   "execution_count": null,
   "metadata": {},
   "outputs": [],
   "source": [
    "def is_palindrome(s):\n",
    "    \"\"\"Check if string is palindrome using two pointers.\"\"\"\n",
    "    left = 0\n",
    "    right = len(s) - 1\n",
    "    \n",
    "    while left < right:\n",
    "        if s[left] != s[right]:\n",
    "            return False\n",
    "        left += 1\n",
    "        right -= 1\n",
    "    \n",
    "    return True\n",
    "\n",
    "# Test\n",
    "print(is_palindrome(\"racecar\"))  # True\n",
    "print(is_palindrome(\"hello\"))    # False"
   ]
  },
  {
   "cell_type": "markdown",
   "metadata": {},
   "source": [
    "### Sliding Window"
   ]
  },
  {
   "cell_type": "code",
   "execution_count": null,
   "metadata": {},
   "outputs": [],
   "source": [
    "def max_sum_subarray(arr, k):\n",
    "    \"\"\"Find maximum sum of k consecutive elements.\"\"\"\n",
    "    if len(arr) < k:\n",
    "        return None\n",
    "    \n",
    "    # Calculate sum of first window\n",
    "    window_sum = sum(arr[:k])\n",
    "    max_sum = window_sum\n",
    "    \n",
    "    # Slide window\n",
    "    for i in range(k, len(arr)):\n",
    "        window_sum = window_sum - arr[i-k] + arr[i]\n",
    "        max_sum = max(max_sum, window_sum)\n",
    "    \n",
    "    return max_sum\n",
    "\n",
    "# Test\n",
    "numbers = [1, 4, 2, 10, 23, 3, 1, 0, 20]\n",
    "k = 4\n",
    "print(f\"Maximum sum of {k} consecutive elements: {max_sum_subarray(numbers, k)}\")"
   ]
  },
  {
   "cell_type": "markdown",
   "metadata": {},
   "source": [
    "## Exercise\n",
    "\n",
    "Implement these algorithms:\n",
    "\n",
    "1. **Find Duplicates**: Find all duplicate elements in an array\n",
    "2. **Reverse Array**: Reverse an array in-place\n",
    "3. **Find Missing Number**: Given array of 1 to n with one number missing, find it\n",
    "4. **Merge Sorted Arrays**: Merge two sorted arrays into one sorted array"
   ]
  },
  {
   "cell_type": "code",
   "execution_count": null,
   "metadata": {},
   "outputs": [],
   "source": [
    "# Your code here\n\ndef find_duplicates(arr):\n",
    "    pass\n\ndef reverse_array(arr):\n",
    "    pass\n\ndef find_missing_number(arr, n):\n",
    "    pass\n\ndef merge_sorted_arrays(arr1, arr2):\n",
    "    pass\n\n# Test your functions\n"
   ]
  }
 ],
 "metadata": {
  "kernelspec": {
   "display_name": "Python 3",
   "language": "python",
   "name": "python3"
  },
  "language_info": {
   "name": "python",
   "version": "3.8.0"
  }
 },
 "nbformat": 4,
 "nbformat_minor": 4
}
