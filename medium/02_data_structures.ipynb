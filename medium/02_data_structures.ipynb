{
 "cells": [
  {
   "cell_type": "markdown",
   "metadata": {},
   "source": [
    "# Lesson 2: Data Structures\n",
    "\n",
    "Data structures help you organize and store collections of data efficiently.\n",
    "\n",
    "## What You'll Learn\n",
    "- Lists and list operations\n",
    "- Dictionaries for key-value pairs\n",
    "- Sets and tuples\n",
    "- List comprehensions"
   ]
  },
  {
   "cell_type": "markdown",
   "metadata": {},
   "source": [
    "## Lists\n",
    "\n",
    "Lists are ordered, mutable collections:"
   ]
  },
  {
   "cell_type": "code",
   "execution_count": null,
   "metadata": {},
   "outputs": [],
   "source": [
    "# Creating and manipulating lists\n",
    "fruits = [\"apple\", \"banana\", \"cherry\"]\n",
    "\n",
    "# Adding items\n",
    "fruits.append(\"orange\")\n",
    "print(\"After append:\", fruits)\n",
    "\n",
    "# Accessing items\n",
    "print(\"First fruit:\", fruits[0])\n",
    "print(\"Last fruit:\", fruits[-1])\n",
    "\n",
    "# Slicing\n",
    "print(\"First two:\", fruits[0:2])"
   ]
  },
  {
   "cell_type": "markdown",
   "metadata": {},
   "source": [
    "## Dictionaries\n",
    "\n",
    "Dictionaries store key-value pairs:"
   ]
  },
  {
   "cell_type": "code",
   "execution_count": null,
   "metadata": {},
   "outputs": [],
   "source": [
    "# Creating a dictionary\n",
    "student = {\n",
    "    \"name\": \"John\",\n",
    "    \"age\": 20,\n",
    "    \"major\": \"Computer Science\",\n",
    "    \"gpa\": 3.7\n",
    "}\n",
    "\n",
    "# Accessing values\n",
    "print(\"Name:\", student[\"name\"])\n",
    "print(\"GPA:\", student.get(\"gpa\"))\n",
    "\n",
    "# Adding new key-value pair\n",
    "student[\"graduation_year\"] = 2025\n",
    "print(\"\\nUpdated student:\", student)"
   ]
  },
  {
   "cell_type": "markdown",
   "metadata": {},
   "source": [
    "## List Comprehensions\n",
    "\n",
    "A concise way to create lists:"
   ]
  },
  {
   "cell_type": "code",
   "execution_count": null,
   "metadata": {},
   "outputs": [],
   "source": [
    "# Traditional way\n",
    "squares = []\n",
    "for i in range(1, 6):\n",
    "    squares.append(i ** 2)\n",
    "print(\"Traditional:\", squares)\n",
    "\n",
    "# List comprehension\n",
    "squares = [i ** 2 for i in range(1, 6)]\n",
    "print(\"Comprehension:\", squares)\n",
    "\n",
    "# With condition\n",
    "even_squares = [i ** 2 for i in range(1, 11) if i % 2 == 0]\n",
    "print(\"Even squares:\", even_squares)"
   ]
  },
  {
   "cell_type": "markdown",
   "metadata": {},
   "source": [
    "## Exercise\n",
    "\n",
    "Create a program that:\n",
    "1. Creates a list of student dictionaries, each with name, age, and grade\n",
    "2. Uses list comprehension to create a new list with only students who have grade >= 90\n",
    "3. Prints the names of honor roll students"
   ]
  },
  {
   "cell_type": "code",
   "execution_count": null,
   "metadata": {},
   "outputs": [],
   "source": [
    "# Your code here\nstudents = [\n    {\"name\": \"Alice\", \"age\": 20, \"grade\": 95},\n    {\"name\": \"Bob\", \"age\": 21, \"grade\": 87},\n    {\"name\": \"Charlie\", \"age\": 19, \"grade\": 92}\n]\n\n"
   ]
  }
 ],
 "metadata": {
  "kernelspec": {
   "display_name": "Python 3",
   "language": "python",
   "name": "python3"
  },
  "language_info": {
   "name": "python",
   "version": "3.8.0"
  }
 },
 "nbformat": 4,
 "nbformat_minor": 4
}
