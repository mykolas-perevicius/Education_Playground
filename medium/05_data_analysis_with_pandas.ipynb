{
 "cells": [
  {
   "cell_type": "markdown",
   "metadata": {},
   "source": [
    "# Lesson 5: Data Analysis with Pandas\n",
    "\n",
    "Learn to work with data using Pandas, Python's most popular data analysis library.\n",
    "\n",
    "## What You'll Learn\n",
    "- Working with DataFrames\n",
    "- Loading and exploring data\n",
    "- Data cleaning and manipulation\n",
    "- Basic data visualization"
   ]
  },
  {
   "cell_type": "markdown",
   "metadata": {},
   "source": [
    "## Introduction to Pandas\n",
    "\n",
    "Pandas provides DataFrames - think of them as super-powered spreadsheets in Python!"
   ]
  },
  {
   "cell_type": "code",
   "execution_count": null,
   "metadata": {},
   "outputs": [],
   "source": [
    "# You'll need to install pandas:\n",
    "# pip install pandas matplotlib\n",
    "\n",
    "import pandas as pd\n",
    "import numpy as np\n",
    "\n",
    "# Create a simple DataFrame\n",
    "data = {\n",
    "    'Name': ['Alice', 'Bob', 'Charlie', 'Diana', 'Eve'],\n",
    "    'Age': [25, 30, 35, 28, 32],\n",
    "    'City': ['New York', 'Paris', 'London', 'Tokyo', 'Berlin'],\n",
    "    'Salary': [70000, 80000, 75000, 90000, 85000]\n",
    "}\n",
    "\n",
    "df = pd.DataFrame(data)\n",
    "print(\"Our DataFrame:\")\n",
    "print(df)"
   ]
  },
  {
   "cell_type": "markdown",
   "metadata": {},
   "source": [
    "## Exploring Data\n",
    "\n",
    "Basic operations to understand your data:"
   ]
  },
  {
   "cell_type": "code",
   "execution_count": null,
   "metadata": {},
   "outputs": [],
   "source": [
    "# Basic information\n",
    "print(\"Shape (rows, columns):\", df.shape)\n",
    "print(\"\\nColumn names:\", df.columns.tolist())\n",
    "print(\"\\nData types:\")\n",
    "print(df.dtypes)\n",
    "\n",
    "# First and last rows\n",
    "print(\"\\nFirst 3 rows:\")\n",
    "print(df.head(3))\n",
    "\n",
    "# Statistical summary\n",
    "print(\"\\nStatistical Summary:\")\n",
    "print(df.describe())"
   ]
  },
  {
   "cell_type": "markdown",
   "metadata": {},
   "source": [
    "## Selecting and Filtering Data\n",
    "\n",
    "Access specific data from your DataFrame:"
   ]
  },
  {
   "cell_type": "code",
   "execution_count": null,
   "metadata": {},
   "outputs": [],
   "source": [
    "# Select a single column\n",
    "print(\"Names:\")\n",
    "print(df['Name'])\n",
    "\n",
    "# Select multiple columns\n",
    "print(\"\\nNames and Ages:\")\n",
    "print(df[['Name', 'Age']])\n",
    "\n",
    "# Filter rows by condition\n",
    "print(\"\\nPeople older than 30:\")\n",
    "print(df[df['Age'] > 30])\n",
    "\n",
    "# Multiple conditions\n",
    "print(\"\\nPeople older than 28 AND salary > 80000:\")\n",
    "print(df[(df['Age'] > 28) & (df['Salary'] > 80000)])"
   ]
  },
  {
   "cell_type": "markdown",
   "metadata": {},
   "source": [
    "## Data Manipulation\n",
    "\n",
    "Modify and transform your data:"
   ]
  },
  {
   "cell_type": "code",
   "execution_count": null,
   "metadata": {},
   "outputs": [],
   "source": [
    "# Add a new column\n",
    "df['Salary_Bonus'] = df['Salary'] * 0.1\n",
    "print(\"With bonus column:\")\n",
    "print(df)\n",
    "\n",
    "# Calculate total compensation\n",
    "df['Total_Comp'] = df['Salary'] + df['Salary_Bonus']\n",
    "\n",
    "# Sort by salary\n",
    "print(\"\\nSorted by Total Compensation:\")\n",
    "print(df.sort_values('Total_Comp', ascending=False))"
   ]
  },
  {
   "cell_type": "markdown",
   "metadata": {},
   "source": [
    "## Grouping and Aggregation\n",
    "\n",
    "Summarize data by groups:"
   ]
  },
  {
   "cell_type": "code",
   "execution_count": null,
   "metadata": {},
   "outputs": [],
   "source": [
    "# Create a larger dataset\n",
    "sales_data = {\n",
    "    'Product': ['Laptop', 'Mouse', 'Keyboard', 'Laptop', 'Mouse', 'Keyboard',\n",
    "                'Laptop', 'Mouse', 'Keyboard', 'Monitor', 'Monitor'],\n",
    "    'Region': ['North', 'North', 'South', 'South', 'North', 'North',\n",
    "               'South', 'South', 'North', 'North', 'South'],\n",
    "    'Sales': [1200, 25, 75, 1500, 30, 60, 1100, 28, 80, 300, 350],\n",
    "    'Quantity': [2, 5, 3, 3, 6, 2, 2, 7, 4, 1, 1]\n",
    "}\n",
    "\n",
    "sales_df = pd.DataFrame(sales_data)\n",
    "print(\"Sales Data:\")\n",
    "print(sales_df)\n",
    "\n",
    "# Group by product and calculate total sales\n",
    "print(\"\\nTotal Sales by Product:\")\n",
    "product_sales = sales_df.groupby('Product')['Sales'].sum().sort_values(ascending=False)\n",
    "print(product_sales)\n",
    "\n",
    "# Multiple aggregations\n",
    "print(\"\\nSummary by Region:\")\n",
    "region_summary = sales_df.groupby('Region').agg({\n",
    "    'Sales': ['sum', 'mean'],\n",
    "    'Quantity': ['sum', 'count']\n",
    "})\n",
    "print(region_summary)"
   ]
  },
  {
   "cell_type": "markdown",
   "metadata": {},
   "source": [
    "## Handling Missing Data\n",
    "\n",
    "Real-world data often has missing values:"
   ]
  },
  {
   "cell_type": "code",
   "execution_count": null,
   "metadata": {},
   "outputs": [],
   "source": [
    "# Create data with missing values\n",
    "messy_data = {\n",
    "    'Name': ['Alice', 'Bob', None, 'Diana', 'Eve'],\n",
    "    'Score': [85, None, 92, 88, None],\n",
    "    'Grade': ['A', 'B', 'A', 'B', 'C']\n",
    "}\n",
    "\n",
    "messy_df = pd.DataFrame(messy_data)\n",
    "print(\"Data with missing values:\")\n",
    "print(messy_df)\n",
    "\n",
    "# Check for missing values\n",
    "print(\"\\nMissing values per column:\")\n",
    "print(messy_df.isnull().sum())\n",
    "\n",
    "# Fill missing values\n",
    "messy_df['Score'].fillna(messy_df['Score'].mean(), inplace=True)\n",
    "messy_df['Name'].fillna('Unknown', inplace=True)\n",
    "\n",
    "print(\"\\nAfter filling missing values:\")\n",
    "print(messy_df)"
   ]
  },
  {
   "cell_type": "markdown",
   "metadata": {},
   "source": [
    "## Simple Visualization\n",
    "\n",
    "Create basic plots from your data:"
   ]
  },
  {
   "cell_type": "code",
   "execution_count": null,
   "metadata": {},
   "outputs": [],
   "source": [
    "import matplotlib.pyplot as plt\n",
    "\n",
    "# Bar chart of sales by product\n",
    "product_sales.plot(kind='bar', color='skyblue', figsize=(10, 6))\n",
    "plt.title('Total Sales by Product')\n",
    "plt.xlabel('Product')\n",
    "plt.ylabel('Sales ($)')\n",
    "plt.xticks(rotation=45)\n",
    "plt.tight_layout()\n",
    "plt.show()\n",
    "\n",
    "# Line plot\n",
    "time_series = pd.DataFrame({\n",
    "    'Month': ['Jan', 'Feb', 'Mar', 'Apr', 'May', 'Jun'],\n",
    "    'Revenue': [15000, 18000, 17500, 21000, 23000, 25000]\n",
    "})\n",
    "\n",
    "time_series.plot(x='Month', y='Revenue', marker='o', figsize=(10, 6))\n",
    "plt.title('Monthly Revenue')\n",
    "plt.ylabel('Revenue ($)')\n",
    "plt.grid(True)\n",
    "plt.tight_layout()\n",
    "plt.show()"
   ]
  },
  {
   "cell_type": "markdown",
   "metadata": {},
   "source": [
    "## Exercise\n",
    "\n",
    "Analyze a student grades dataset:\n",
    "1. Create a DataFrame with students, subjects, and scores\n",
    "2. Calculate average score per student\n",
    "3. Find the top-performing students\n",
    "4. Calculate average score per subject\n",
    "5. Create a visualization of the results"
   ]
  },
  {
   "cell_type": "code",
   "execution_count": null,
   "metadata": {},
   "outputs": [],
   "source": [
    "# Your code here\n# Sample data structure:\n",
    "# students_data = {\n",
    "#     'Student': ['Alice', 'Alice', 'Alice', 'Bob', 'Bob', 'Bob'],\n",
    "#     'Subject': ['Math', 'Science', 'English', 'Math', 'Science', 'English'],\n",
    "#     'Score': [90, 85, 88, 78, 82, 75]\n",
    "# }\n\n"
   ]
  }
 ],
 "metadata": {
  "kernelspec": {
   "display_name": "Python 3",
   "language": "python",
   "name": "python3"
  },
  "language_info": {
   "name": "python",
   "version": "3.8.0"
  }
 },
 "nbformat": 4,
 "nbformat_minor": 4
}
