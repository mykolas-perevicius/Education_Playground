{
 "cells": [
  {
   "cell_type": "markdown",
   "metadata": {},
   "source": [
    "# Lesson 1: Functions and Modules\n",
    "\n",
    "Functions allow you to organize code into reusable blocks. Learn how to write and use functions effectively.\n",
    "\n",
    "## What You'll Learn\n",
    "- Creating functions\n",
    "- Parameters and return values\n",
    "- Importing and using modules\n",
    "- Scope and namespaces"
   ]
  },
  {
   "cell_type": "markdown",
   "metadata": {},
   "source": [
    "## Defining Functions\n",
    "\n",
    "A function is defined using the `def` keyword:"
   ]
  },
  {
   "cell_type": "code",
   "execution_count": null,
   "metadata": {},
   "outputs": [],
   "source": [
    "def greet(name):\n",
    "    \"\"\"A simple function that greets someone.\"\"\"\n",
    "    return f\"Hello, {name}!\"\n",
    "\n",
    "# Call the function\n",
    "message = greet(\"Alice\")\n",
    "print(message)"
   ]
  },
  {
   "cell_type": "markdown",
   "metadata": {},
   "source": [
    "## Multiple Parameters and Default Values\n",
    "\n",
    "Functions can accept multiple parameters with default values:"
   ]
  },
  {
   "cell_type": "code",
   "execution_count": null,
   "metadata": {},
   "outputs": [],
   "source": [
    "def calculate_area(length, width=1):\n",
    "    \"\"\"Calculate the area of a rectangle.\"\"\"\n",
    "    return length * width\n",
    "\n",
    "print(\"Rectangle:\", calculate_area(5, 3))\n",
    "print(\"Square:\", calculate_area(5))  # Uses default width of 1"
   ]
  },
  {
   "cell_type": "markdown",
   "metadata": {},
   "source": [
    "## Working with Modules\n",
    "\n",
    "Import built-in modules to extend Python's functionality:"
   ]
  },
  {
   "cell_type": "code",
   "execution_count": null,
   "metadata": {},
   "outputs": [],
   "source": [
    "import math\n",
    "import random\n",
    "\n",
    "# Using math module\n",
    "print(\"Square root of 16:\", math.sqrt(16))\n",
    "print(\"Pi:\", math.pi)\n",
    "\n",
    "# Using random module\n",
    "print(\"Random number:\", random.randint(1, 10))"
   ]
  },
  {
   "cell_type": "markdown",
   "metadata": {},
   "source": [
    "## Exercise\n",
    "\n",
    "Create a function called `calculate_bmi` that:\n",
    "- Takes weight (kg) and height (m) as parameters\n",
    "- Returns the BMI (weight / height²)\n",
    "- Prints whether the BMI indicates underweight (<18.5), normal (18.5-25), or overweight (>25)"
   ]
  },
  {
   "cell_type": "code",
   "execution_count": null,
   "metadata": {},
   "outputs": [],
   "source": [
    "# Your code here\n"
   ]
  }
 ],
 "metadata": {
  "kernelspec": {
   "display_name": "Python 3",
   "language": "python",
   "name": "python3"
  },
  "language_info": {
   "name": "python",
   "version": "3.8.0"
  }
 },
 "nbformat": 4,
 "nbformat_minor": 4
}
